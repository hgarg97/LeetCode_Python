{
  "nbformat": 4,
  "nbformat_minor": 0,
  "metadata": {
    "colab": {
      "provenance": [],
      "authorship_tag": "ABX9TyMFdMi9HN7TupPnV5FBI/DV",
      "include_colab_link": true
    },
    "kernelspec": {
      "name": "python3",
      "display_name": "Python 3"
    },
    "language_info": {
      "name": "python"
    }
  },
  "cells": [
    {
      "cell_type": "markdown",
      "metadata": {
        "id": "view-in-github",
        "colab_type": "text"
      },
      "source": [
        "<a href=\"https://colab.research.google.com/github/hgarg97/LeetCode_Python/blob/main/Leetcode_SQL.ipynb\" target=\"_parent\"><img src=\"https://colab.research.google.com/assets/colab-badge.svg\" alt=\"Open In Colab\"/></a>"
      ]
    },
    {
      "cell_type": "markdown",
      "source": [
        "# Leetcode SQL Problems"
      ],
      "metadata": {
        "id": "M-A8obFj8PNy"
      }
    },
    {
      "cell_type": "markdown",
      "source": [
        "## 175. Combine Two Tables"
      ],
      "metadata": {
        "id": "on6qK6na8VLI"
      }
    },
    {
      "cell_type": "code",
      "source": [],
      "metadata": {
        "id": "rxG_fJ7N8Srs"
      },
      "execution_count": null,
      "outputs": []
    }
  ]
}
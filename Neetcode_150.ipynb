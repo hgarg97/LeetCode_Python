{
  "nbformat": 4,
  "nbformat_minor": 0,
  "metadata": {
    "colab": {
      "provenance": [],
      "authorship_tag": "ABX9TyOP1F7NVD5avZ1SYJfOhK5C",
      "include_colab_link": true
    },
    "kernelspec": {
      "name": "python3",
      "display_name": "Python 3"
    },
    "language_info": {
      "name": "python"
    }
  },
  "cells": [
    {
      "cell_type": "markdown",
      "metadata": {
        "id": "view-in-github",
        "colab_type": "text"
      },
      "source": [
        "<a href=\"https://colab.research.google.com/github/hgarg97/LeetCode_Python/blob/main/Neetcode_150.ipynb\" target=\"_parent\"><img src=\"https://colab.research.google.com/assets/colab-badge.svg\" alt=\"Open In Colab\"/></a>"
      ]
    },
    {
      "cell_type": "markdown",
      "source": [
        "# Arrays & Hashing"
      ],
      "metadata": {
        "id": "LIFLjISPZF6m"
      }
    },
    {
      "cell_type": "markdown",
      "source": [
        "## 217. Contains Duplicate"
      ],
      "metadata": {
        "id": "copXQ9gJY2My"
      }
    },
    {
      "cell_type": "code",
      "execution_count": null,
      "metadata": {
        "id": "2VYn7vMqYxla"
      },
      "outputs": [],
      "source": [
        "# Method 1 (Brute force) [Sorting the Array and checking]\n",
        "\n",
        "class Solution(object):\n",
        "    def containsDuplicate(self, nums):\n",
        "        n = len(nums)\n",
        "\n",
        "        nums.sort()\n",
        "\n",
        "        for i in range(1, n):\n",
        "            if nums[i]==nums[i-1]:\n",
        "                return True\n",
        "\n",
        "        return False"
      ]
    },
    {
      "cell_type": "code",
      "source": [
        "# Method 2 (Set) [Take a set and do set(nums) then compare the length]\n",
        "\n",
        "class Solution(object):\n",
        "    def containsDuplicate(self, nums):\n",
        "        num_set = set(nums)\n",
        "\n",
        "        if len(num_set) != len(nums):\n",
        "            return True\n",
        "\n",
        "        return False"
      ],
      "metadata": {
        "id": "mhzIKB4rZOob"
      },
      "execution_count": null,
      "outputs": []
    },
    {
      "cell_type": "code",
      "source": [
        "# Method 3 (Set) [Take empty set and then check if the number is in the set if not add the num to the set] [Most Optimized]\n",
        "\n",
        "class Solution(object):\n",
        "    def containsDuplicate(self, nums):\n",
        "        num_set = set()\n",
        "\n",
        "        for num in nums:\n",
        "            if num in num_set:\n",
        "                return True\n",
        "            num_set.add(num)\n",
        "\n",
        "        return False"
      ],
      "metadata": {
        "id": "kS499CFpZREU"
      },
      "execution_count": null,
      "outputs": []
    },
    {
      "cell_type": "markdown",
      "source": [
        "## 242. Valid Anagram"
      ],
      "metadata": {
        "id": "AdBLvY32ZftT"
      }
    },
    {
      "cell_type": "code",
      "source": [
        "# Method 1 [Using Default Dict] [Most Optimized]\n",
        "\n",
        "from collections import defaultdict\n",
        "\n",
        "class Solution(object):\n",
        "    def isAnagram(self, s, t):\n",
        "\n",
        "        len1 = len(s)\n",
        "        len2 = len(t)\n",
        "\n",
        "        if len1!=len2:\n",
        "            return False\n",
        "\n",
        "        dict1 = defaultdict(int)\n",
        "        dict2 = defaultdict(int)\n",
        "\n",
        "        for i in range(len1):\n",
        "            dict1[s[i]] += 1\n",
        "            dict2[t[i]] += 1\n",
        "\n",
        "        return dict1 == dict2"
      ],
      "metadata": {
        "id": "czdMFogUZTkS"
      },
      "execution_count": null,
      "outputs": []
    },
    {
      "cell_type": "code",
      "source": [
        "# Method 2 [Using normal dictionaries]\n",
        "\n",
        "class Solution:\n",
        "    def isAnagram(self, s: str, t: str) -> bool:\n",
        "        if len(s) != len(t):\n",
        "            return False\n",
        "\n",
        "        countS, countT = {}, {}\n",
        "\n",
        "        for i in range(len(s)):\n",
        "            countS[s[i]] = 1 + countS.get(s[i], 0)\n",
        "            countT[t[i]] = 1 + countT.get(t[i], 0)\n",
        "        return countS == countT"
      ],
      "metadata": {
        "id": "4RRP8EBWZmJl"
      },
      "execution_count": null,
      "outputs": []
    },
    {
      "cell_type": "markdown",
      "source": [
        "## 1. Two Sum"
      ],
      "metadata": {
        "id": "dQn5F2DOZrdQ"
      }
    },
    {
      "cell_type": "code",
      "source": [
        "# Method 1 [Using target-nums[i] method]\n",
        "\n",
        "class Solution(object):\n",
        "    def twoSum(self, nums, target):\n",
        "        hashmap = []\n",
        "\n",
        "        for i in range(len(nums)):\n",
        "            diff_val = target-nums[i]\n",
        "\n",
        "            if diff_val in hashmap:\n",
        "                return [i, nums.index(diff_val)]\n",
        "            else:\n",
        "                hashmap.append(nums[i])\n",
        "\n",
        "        return 0"
      ],
      "metadata": {
        "id": "Iqev7ZayZp0z"
      },
      "execution_count": null,
      "outputs": []
    },
    {
      "cell_type": "markdown",
      "source": [
        "## 49. Group Anagrams"
      ],
      "metadata": {
        "id": "sVfMhyHcZ3es"
      }
    },
    {
      "cell_type": "code",
      "source": [
        "# Method 1 [Using Default Dict of list .. use sorted to utilize the sorted word letters as key and then append the original words. With key being unique all the anagrams get added]\n",
        "\n",
        "class Solution(object):\n",
        "\n",
        "\n",
        "    def groupAnagrams(self, strs):\n",
        "\n",
        "        res = defaultdict(list)\n",
        "\n",
        "        for word in strs:\n",
        "            sorted_word = ''.join(sorted(word))\n",
        "            res[sorted_word].append(word)\n",
        "\n",
        "        return list(res.values())"
      ],
      "metadata": {
        "id": "1Fsw-Nb2Z28b"
      },
      "execution_count": null,
      "outputs": []
    },
    {
      "cell_type": "markdown",
      "source": [
        "## 347. Top K Frequent Elements"
      ],
      "metadata": {
        "id": "HdcrFS7sZ_H5"
      }
    },
    {
      "cell_type": "code",
      "source": [
        "# Method 1 [Creating a empty list (freq) with length = total elements + 1, then appending elements to the count index of the freq list. Lastly running reverse loop and adding entries in the freq list index stopping at k ]\n",
        "\n",
        "class Solution(object):\n",
        "    def topKFrequent(self, nums, k):\n",
        "\n",
        "        count = defaultdict(int)\n",
        "\n",
        "        freq = [[] for i in range(len(nums)+1)]\n",
        "\n",
        "        for num in nums:\n",
        "            count[num] += 1\n",
        "\n",
        "        for n, f in count.items():\n",
        "            freq[f].append(n)\n",
        "\n",
        "        res = []\n",
        "        for i in range(len(freq)-1, 0, -1):\n",
        "            for n in freq[i]:\n",
        "                res.append(n)\n",
        "                if len(res) == k:\n",
        "                    return res"
      ],
      "metadata": {
        "id": "7hu9JbNWZ9j1"
      },
      "execution_count": null,
      "outputs": []
    },
    {
      "cell_type": "code",
      "source": [
        "# Method 2 [Taking defualtdict, then putting the counter, reversing and sorting the dict, then print the top k elements]\n",
        "\n",
        "from collections import defaultdict\n",
        "class Solution:\n",
        "    def topKFrequent(self, nums: List[int], k: int) -> List[int]:\n",
        "\n",
        "        freq_dict = defaultdict(int)\n",
        "\n",
        "        for num in nums:\n",
        "            freq_dict[num] += 1\n",
        "\n",
        "        sorted_dict = sorted(freq_dict.items(), key = lambda item:item[1], reverse = True)\n",
        "\n",
        "        res = [item[0] for item in sorted_dict[:k]]\n",
        "\n",
        "        return res"
      ],
      "metadata": {
        "id": "wjmeA6-sro8M"
      },
      "execution_count": null,
      "outputs": []
    },
    {
      "cell_type": "markdown",
      "source": [
        "## 271. Encode and Decode Strings"
      ],
      "metadata": {
        "id": "I_zyNko5aFFt"
      }
    },
    {
      "cell_type": "code",
      "source": [
        "# Method 1 [Make the string as ]\n",
        "\n",
        "from typing import List\n",
        "\n",
        "class Solution:\n",
        "\n",
        "    def encode(self, strs: List[str]) -> str:\n",
        "        res = \"\"\n",
        "        for s in strs:\n",
        "            res += str(len(s)) + \"#\" + s\n",
        "        return res\n",
        "\n",
        "    def decode(self, s: str) -> List[str]:\n",
        "        res = []\n",
        "        i = 0\n",
        "\n",
        "        while i < len(s):\n",
        "            j = i\n",
        "            while s[j] != '#':\n",
        "                j += 1\n",
        "            length = int(s[i:j])\n",
        "            i = j + 1\n",
        "            j = i + length\n",
        "            res.append(s[i:j])\n",
        "            i = j\n",
        "\n",
        "        return res"
      ],
      "metadata": {
        "id": "urxiqbOtaEI8"
      },
      "execution_count": null,
      "outputs": []
    },
    {
      "cell_type": "markdown",
      "source": [
        "## 238. Product of Array Except Self"
      ],
      "metadata": {
        "id": "o8VLtedpbfiR"
      }
    },
    {
      "cell_type": "code",
      "source": [
        "# Method 1 [Taking 2 vars, one with prod and other with prod_without_zero, for index with 0 use prod_without_zero else use prod] [Very Fast]\n",
        "\n",
        "class Solution(object):\n",
        "    def productExceptSelf(self, nums):\n",
        "        \"\"\"\n",
        "        :type nums: List[int]\n",
        "        :rtype: List[int]\n",
        "        \"\"\"\n",
        "        prod = 1\n",
        "        prod_without_zero = 1\n",
        "        count_zero = 0\n",
        "        for num in nums:\n",
        "            if num != 0:\n",
        "                prod_without_zero *= num\n",
        "            else:\n",
        "                count_zero+=1\n",
        "            prod *= num\n",
        "\n",
        "        if count_zero >= 2:\n",
        "            return [0]*len(nums)\n",
        "\n",
        "        res = []\n",
        "\n",
        "        for num in nums:\n",
        "            if num == 0:\n",
        "                res.append(prod_without_zero)\n",
        "            else:\n",
        "                res.append(prod//num)\n",
        "\n",
        "        return res"
      ],
      "metadata": {
        "id": "fMaza-lHagGT"
      },
      "execution_count": null,
      "outputs": []
    },
    {
      "cell_type": "code",
      "source": [
        "# Method 2 [Take the result array with first the prod of all the prev elements, and then go in reverse order keeping the multiple of the all the proceeding elements] [Prefix Postfix] [New Concept] [Good Optimized]\n",
        "\n",
        "class Solution(object):\n",
        "    def productExceptSelf(self, nums):\n",
        "        \"\"\"\n",
        "        :type nums: List[int]\n",
        "        :rtype: List[int]\n",
        "        \"\"\"\n",
        "        num_len = len(nums)\n",
        "        res = [1] * num_len\n",
        "\n",
        "        prefix = 1\n",
        "\n",
        "        for i in range(num_len):\n",
        "            res[i] = prefix\n",
        "            prefix *= nums[i]\n",
        "\n",
        "        postfix = 1\n",
        "\n",
        "        for i in reversed(range(num_len)):\n",
        "            res[i] *= postfix\n",
        "            postfix *= nums[i]\n",
        "\n",
        "        return res"
      ],
      "metadata": {
        "id": "3KBKKCNwhly3"
      },
      "execution_count": null,
      "outputs": []
    },
    {
      "cell_type": "markdown",
      "source": [
        "## 36. Valid Sudoku"
      ],
      "metadata": {
        "id": "Tk9iCivTpB1U"
      }
    },
    {
      "cell_type": "code",
      "source": [],
      "metadata": {
        "id": "gDHicMo-pF6n"
      },
      "execution_count": null,
      "outputs": []
    },
    {
      "cell_type": "markdown",
      "source": [
        "## 128. Longest Consecutive Sequence"
      ],
      "metadata": {
        "id": "2ZDA9GvipSCn"
      }
    },
    {
      "cell_type": "code",
      "source": [
        "# Method 1 [Take set and in the loop if the previous number is not in set, then start with the current number and start a while loop checking for the consecutive numbers and store the count]\n",
        "\n",
        "class Solution(object):\n",
        "    def longestConsecutive(self, nums):\n",
        "\n",
        "        if not nums:\n",
        "            return 0\n",
        "\n",
        "        nums_set = set(nums)\n",
        "\n",
        "        count_max = 0\n",
        "\n",
        "        for num in nums:\n",
        "            if num-1 not in nums_set:\n",
        "                curr_ele = num\n",
        "                count = 1\n",
        "                while curr_ele+1 in nums_set:\n",
        "                    count+=1\n",
        "                    curr_ele+=1\n",
        "                count_max = max(count_max, count)\n",
        "\n",
        "        return count_max"
      ],
      "metadata": {
        "id": "6B4PCWPApUfV"
      },
      "execution_count": null,
      "outputs": []
    },
    {
      "cell_type": "markdown",
      "source": [
        "# Two Pointers"
      ],
      "metadata": {
        "id": "Rr9GnMpAPoAx"
      }
    },
    {
      "cell_type": "markdown",
      "source": [
        "## 125. Valid Palindrome"
      ],
      "metadata": {
        "id": "vNg2wchlPt-G"
      }
    },
    {
      "cell_type": "code",
      "source": [
        "# Method 1 [Checking for Alphanumeric and doing lower case and then cheking first and last char until the half]\n",
        "\n",
        "class Solution(object):\n",
        "    def isPalindrome(self, s):\n",
        "\n",
        "        res = \"\"\n",
        "\n",
        "        for char in s:\n",
        "            if char.isalnum():\n",
        "                res+=char\n",
        "\n",
        "        res = res.lower()\n",
        "        end = len(res)-1\n",
        "\n",
        "        for i in range(len(res)//2):\n",
        "            if res[i] != res[end-i]:\n",
        "                return False\n",
        "\n",
        "        return True"
      ],
      "metadata": {
        "id": "6RkEv6v4Pq1B"
      },
      "execution_count": null,
      "outputs": []
    },
    {
      "cell_type": "code",
      "source": [
        "# Method 2 [Character by character building a new string with lower alha numeric char and then comparing original and reversed string]\n",
        "\n",
        "class Solution(object):\n",
        "    def isPalindrome(self, s):\n",
        "        new = ''\n",
        "        for a in s:\n",
        "            if a.isalpha() or a.isdigit():\n",
        "                new += a.lower()\n",
        "        return (new == new[::-1])"
      ],
      "metadata": {
        "id": "0gm3XM2nVCk_"
      },
      "execution_count": null,
      "outputs": []
    },
    {
      "cell_type": "markdown",
      "source": [
        "## 167. Two Sum II - Input Array Is Sorted"
      ],
      "metadata": {
        "id": "BpWMjzTTZAXF"
      }
    },
    {
      "cell_type": "code",
      "source": [],
      "metadata": {
        "id": "grSJSmNVZBPf"
      },
      "execution_count": null,
      "outputs": []
    }
  ]
}
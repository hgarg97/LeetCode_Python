{
  "nbformat": 4,
  "nbformat_minor": 0,
  "metadata": {
    "colab": {
      "provenance": [],
      "collapsed_sections": [
        "om5Y36z56Wbb",
        "_KNKHjSMf6yp",
        "PRyUFIeWv21o",
        "SG1yUOZKqHlw",
        "K_-kPdcjqx_f",
        "Lb7mSV-kdaU4",
        "UkA7JBHxdeEb",
        "mAzUz4R9Hxe2",
        "Pyo9QdXUBIYO",
        "Ny4CtXr3flcA",
        "gTeLJsmjjtUA",
        "y8QJb1fe_bq-"
      ],
      "authorship_tag": "ABX9TyPRIgGeJdstDt9+WhEKfPcv",
      "include_colab_link": true
    },
    "kernelspec": {
      "name": "python3",
      "display_name": "Python 3"
    },
    "language_info": {
      "name": "python"
    }
  },
  "cells": [
    {
      "cell_type": "markdown",
      "metadata": {
        "id": "view-in-github",
        "colab_type": "text"
      },
      "source": [
        "<a href=\"https://colab.research.google.com/github/hgarg97/LeetCode_Python/blob/main/Leetcode70in5hrs.ipynb\" target=\"_parent\"><img src=\"https://colab.research.google.com/assets/colab-badge.svg\" alt=\"Open In Colab\"/></a>"
      ]
    },
    {
      "cell_type": "markdown",
      "source": [
        "# 70 Leetcode Problems in 5+ Hours + BFS/DFS Implementation\n",
        "\n",
        "## https://www.youtube.com/watch?v=lvO88XxNAzs"
      ],
      "metadata": {
        "id": "E3WX8i6I4fvs"
      }
    },
    {
      "cell_type": "markdown",
      "source": [
        "# Arrays"
      ],
      "metadata": {
        "id": "om5Y36z56Wbb"
      }
    },
    {
      "cell_type": "markdown",
      "source": [
        "## 217. Contains Duplicate"
      ],
      "metadata": {
        "id": "1uRUQX-u48EL"
      }
    },
    {
      "cell_type": "code",
      "source": [
        "class Solution(object):\n",
        "    def containsDuplicate(self, nums):\n",
        "        num_set = set(nums)\n",
        "\n",
        "        if len(num_set)!=len(nums):\n",
        "            return True\n",
        "\n",
        "        return False"
      ],
      "metadata": {
        "id": "S_CWyOOl48OV"
      },
      "execution_count": null,
      "outputs": []
    },
    {
      "cell_type": "markdown",
      "source": [
        "## 268. Missing Number"
      ],
      "metadata": {
        "id": "jIyBXum948fw"
      }
    },
    {
      "cell_type": "code",
      "source": [
        "class Solution(object):\n",
        "    def missingNumber(self, nums):\n",
        "\n",
        "        n = len(nums)\n",
        "        expected_sum = n*(n+1) // 2\n",
        "\n",
        "        actual_sum = sum(nums)\n",
        "\n",
        "        return expected_sum - actual_sum"
      ],
      "metadata": {
        "id": "ZIkYonWY48pX"
      },
      "execution_count": null,
      "outputs": []
    },
    {
      "cell_type": "markdown",
      "source": [
        "## 448. Find All Numbers Disappeared in an Array"
      ],
      "metadata": {
        "id": "u4jKXDHG48zC"
      }
    },
    {
      "cell_type": "code",
      "source": [
        "class Solution(object):\n",
        "    def findDisappearedNumbers(self, nums):\n",
        "\n",
        "        nums_set = set(nums)\n",
        "        res = []\n",
        "\n",
        "        for i in range(1, len(nums)+1):\n",
        "            if i not in nums_set:\n",
        "                res.append(i)\n",
        "\n",
        "        return res"
      ],
      "metadata": {
        "id": "QraFUbLZ4861"
      },
      "execution_count": null,
      "outputs": []
    },
    {
      "cell_type": "markdown",
      "source": [
        "## 1. Two Sum"
      ],
      "metadata": {
        "id": "5nhfzfxP49GF"
      }
    },
    {
      "cell_type": "code",
      "source": [
        "class Solution(object):\n",
        "    def twoSum(self, nums, target):\n",
        "\n",
        "         hash_set = set()\n",
        "\n",
        "         for i in range(len(nums)):\n",
        "            val = target - nums[i]\n",
        "            if val in hash_set:\n",
        "                return [i, nums.index(val)]\n",
        "            else:\n",
        "                hash_set.add(nums[i])"
      ],
      "metadata": {
        "id": "HNNdVGDO49On"
      },
      "execution_count": null,
      "outputs": []
    },
    {
      "cell_type": "markdown",
      "source": [
        "## 1365. How Many Numbers Are Smaller Than the Current Number"
      ],
      "metadata": {
        "id": "r555p0L64pmY"
      }
    },
    {
      "cell_type": "code",
      "source": [
        "class Solution(object):\n",
        "    def smallerNumbersThanCurrent(self, nums):\n",
        "\n",
        "        sorted_nums = sorted(nums)\n",
        "        res = []\n",
        "\n",
        "        d = {}\n",
        "\n",
        "        for i in range(len(sorted_nums)):\n",
        "            if sorted_nums[i] not in d:\n",
        "                d[sorted_nums[i]] = i\n",
        "\n",
        "        for num in nums:\n",
        "            res.append(d[num])\n",
        "\n",
        "        return res"
      ],
      "metadata": {
        "id": "mGBZ_eFk4oaK"
      },
      "execution_count": null,
      "outputs": []
    },
    {
      "cell_type": "markdown",
      "source": [
        "## 1266. Minimum Time Visiting All Points"
      ],
      "metadata": {
        "id": "_IcirnhdFRHU"
      }
    },
    {
      "cell_type": "code",
      "source": [
        "class Solution(object):\n",
        "    def minTimeToVisitAllPoints(self, points):\n",
        "\n",
        "        n = len(points)\n",
        "        sec = 0\n",
        "\n",
        "        for i in range(n-1):\n",
        "            x1, y1 = points[i]\n",
        "            x2, y2 = points[i+1]\n",
        "\n",
        "            sec += max(abs(y2-y1), abs(x2-x1))\n",
        "\n",
        "        return sec"
      ],
      "metadata": {
        "id": "BmutNDDwFRPN"
      },
      "execution_count": null,
      "outputs": []
    },
    {
      "cell_type": "markdown",
      "source": [
        "## 54. Spiral Matrix"
      ],
      "metadata": {
        "id": "siC1KrmrtWny"
      }
    },
    {
      "cell_type": "code",
      "source": [
        "class Solution(object):\n",
        "    def spiralOrder(self, matrix):\n",
        "        res = []\n",
        "\n",
        "        while matrix:\n",
        "            # 1. Add first row/list of matrix\n",
        "            res+=matrix.pop(0)\n",
        "\n",
        "            # 2. Add last element of all lists in order\n",
        "            if matrix and matrix[0]:\n",
        "                for row in matrix:\n",
        "                    res.append(row.pop(-1))\n",
        "\n",
        "            # 3. Now add the last row in reverse order\n",
        "            if matrix:\n",
        "                res+=matrix.pop()[::-1]\n",
        "\n",
        "            # 4. Append first element of all rows in reverse\n",
        "            if matrix and matrix[0]:\n",
        "                for row in matrix[::-1]:\n",
        "                    res.append(row.pop(0))\n",
        "\n",
        "        return res"
      ],
      "metadata": {
        "id": "BWm587AqtWws"
      },
      "execution_count": null,
      "outputs": []
    },
    {
      "cell_type": "markdown",
      "source": [
        "## 200. Number of Islands"
      ],
      "metadata": {
        "id": "zX98YfHWXxob"
      }
    },
    {
      "cell_type": "code",
      "source": [
        "class Solution(object):\n",
        "    def numIslands(self, grid):\n",
        "        if not grid:\n",
        "            return 0\n",
        "\n",
        "        def bfs(r, c):\n",
        "            q = deque()\n",
        "            visited.add((r,c))\n",
        "            q.append((r,c))\n",
        "\n",
        "            while q:\n",
        "                row, col = q.popleft()\n",
        "                directions = [[1, 0], [-1, 0], [0, 1], [0, -1]]\n",
        "\n",
        "                for dr, dc in directions:\n",
        "                    r, c = row+dr, col+dc\n",
        "\n",
        "                    if (r in range(rows) and c in range(cols) and grid[r][c]=='1' and (r, c) not in visited):\n",
        "                        q.append((r, c))\n",
        "                        visited.add((r, c))\n",
        "\n",
        "\n",
        "        rows = len(grid)\n",
        "        cols = len(grid[0])\n",
        "        count = 0\n",
        "        visited = set()\n",
        "\n",
        "        for r in range(rows):\n",
        "            for c in range(cols):\n",
        "                if grid[r][c] == '1' and (r, c) not in visited:\n",
        "                    bfs(r, c)\n",
        "                    count+=1\n",
        "\n",
        "        return count"
      ],
      "metadata": {
        "id": "cn4Jj32dXxvt"
      },
      "execution_count": null,
      "outputs": []
    },
    {
      "cell_type": "markdown",
      "source": [
        "# Arrays Two Pointers"
      ],
      "metadata": {
        "id": "_KNKHjSMf6yp"
      }
    },
    {
      "cell_type": "markdown",
      "source": [
        "## 121. Best Time to Buy and Sell Stock"
      ],
      "metadata": {
        "id": "hjEb3_GHf63m"
      }
    },
    {
      "cell_type": "code",
      "source": [
        "class Solution(object):\n",
        "    def maxProfit(self, prices):\n",
        "\n",
        "        maxProf = 0\n",
        "        l=0\n",
        "        r=1\n",
        "        n=len(prices)\n",
        "\n",
        "        while r!=n:\n",
        "            if prices[l] < prices[r]:\n",
        "                prof = prices[r]-prices[l]\n",
        "                maxProf = max(maxProf, prof)\n",
        "\n",
        "            else:\n",
        "                l=r\n",
        "\n",
        "            r+=1\n",
        "\n",
        "        return maxProf"
      ],
      "metadata": {
        "id": "IWwMWTo2f7AM"
      },
      "execution_count": null,
      "outputs": []
    },
    {
      "cell_type": "markdown",
      "source": [
        "## 977. Squares of a Sorted Array"
      ],
      "metadata": {
        "id": "BgaM0P-ICEyy"
      }
    },
    {
      "cell_type": "code",
      "source": [
        "class Solution(object):\n",
        "    def sortedSquares(self, nums):\n",
        "        res = deque()\n",
        "        l=0\n",
        "        r=len(nums)-1\n",
        "\n",
        "        while(l<=r):\n",
        "            left, right = abs(nums[l]), abs(nums[r])\n",
        "            if left>right:\n",
        "                res.appendleft(left*left)\n",
        "                l+=1\n",
        "            else:\n",
        "                res.appendleft(right*right)\n",
        "                r-=1\n",
        "\n",
        "        return list(res)"
      ],
      "metadata": {
        "id": "K_vwJHXaCE4A"
      },
      "execution_count": null,
      "outputs": []
    },
    {
      "cell_type": "markdown",
      "source": [
        "## 167. Two Sum II - Input Array Is Sorted"
      ],
      "metadata": {
        "id": "Piqe7LxIXVUI"
      }
    },
    {
      "cell_type": "code",
      "source": [
        "class Solution(object):\n",
        "    def twoSum(self, numbers, target):\n",
        "        n = len(numbers)\n",
        "        i = 0\n",
        "        j = n-1\n",
        "\n",
        "        while(i<j):\n",
        "            nums1 = numbers[i]\n",
        "            nums2 = numbers[j]\n",
        "\n",
        "            if nums1+nums2 == target:\n",
        "                return [i+1, j+1]\n",
        "            elif nums1+nums2 > target:\n",
        "                j-=1\n",
        "            else:\n",
        "                i+=1"
      ],
      "metadata": {
        "id": "ME7PGAWCXVej"
      },
      "execution_count": null,
      "outputs": []
    },
    {
      "cell_type": "markdown",
      "source": [
        "## 15. 3Sum"
      ],
      "metadata": {
        "id": "f9kNeIdTkujA"
      }
    },
    {
      "cell_type": "code",
      "source": [
        "class Solution(object):\n",
        "    def threeSum(self, nums):\n",
        "\n",
        "        res = []\n",
        "\n",
        "        nums.sort()\n",
        "\n",
        "        n = len(nums)\n",
        "\n",
        "        for i in range(n-1):\n",
        "            if i>0:\n",
        "                if nums[i]==nums[i-1]:\n",
        "                    continue\n",
        "            j=i+1\n",
        "            k=n-1\n",
        "            new_target = 0 - nums[i]\n",
        "            while j<k:\n",
        "                if nums[j]+nums[k] == new_target:\n",
        "                    res.append([nums[i], nums[j], nums[k]])\n",
        "                    j+=1\n",
        "                    while j<k and (nums[j]==nums[j-1]):\n",
        "                        j+=1\n",
        "\n",
        "                elif nums[j]+nums[k] > new_target:\n",
        "                    k-=1\n",
        "                else:\n",
        "                    j+=1\n",
        "\n",
        "        return res"
      ],
      "metadata": {
        "id": "IUWu8bhqkvHn"
      },
      "execution_count": null,
      "outputs": []
    },
    {
      "cell_type": "markdown",
      "source": [
        "## 845. Longest Mountain in Array"
      ],
      "metadata": {
        "id": "4dWlKPhzvlGA"
      }
    },
    {
      "cell_type": "code",
      "source": [
        "class Solution(object):\n",
        "    def longestMountain(self, arr):\n",
        "        n = len(arr)\n",
        "\n",
        "        count = 0\n",
        "\n",
        "        for i in range(1, n-1):\n",
        "            if arr[i-1] < arr[i] > arr[i+1]:\n",
        "                l = r = i\n",
        "                while l>0 and arr[l]>arr[l-1]:\n",
        "                    l-=1\n",
        "                while r<(n-1) and arr[r] > arr[r+1]:\n",
        "                    r+=1\n",
        "\n",
        "                count = max(count, r-l+1)\n",
        "\n",
        "        return count"
      ],
      "metadata": {
        "id": "4efN-8R6vlOU"
      },
      "execution_count": null,
      "outputs": []
    },
    {
      "cell_type": "markdown",
      "source": [
        "# Arrays: Sliding Window"
      ],
      "metadata": {
        "id": "PRyUFIeWv21o"
      }
    },
    {
      "cell_type": "markdown",
      "source": [
        "## 219. Contains Duplicate II"
      ],
      "metadata": {
        "id": "vAUJtQKn1UM1"
      }
    },
    {
      "cell_type": "code",
      "source": [
        "class Solution(object):\n",
        "    def containsNearbyDuplicate(self, nums, k):\n",
        "        # Using Set\n",
        "        seen = set()\n",
        "\n",
        "        for i in range(len(nums)):\n",
        "            if nums[i] in seen:\n",
        "                return True\n",
        "            seen.add(nums[i])\n",
        "            if len(seen)>k:\n",
        "                seen.remove(nums[i-k])\n",
        "\n",
        "        return False\n",
        "\n",
        "\n",
        "        # Using Dict\n",
        "        # seen = defaultdict()\n",
        "\n",
        "        # for i in range(len(nums)):\n",
        "        #     if nums[i] in seen and i-seen[nums[i]] <= k:\n",
        "        #         return True\n",
        "        #     seen[nums[i]] = i\n",
        "\n",
        "        # return False"
      ],
      "metadata": {
        "id": "gt1Lcd1Z1Tmx"
      },
      "execution_count": null,
      "outputs": []
    },
    {
      "cell_type": "markdown",
      "source": [
        "## 1200. Minimum Absolute Difference"
      ],
      "metadata": {
        "id": "kw59wmebHRiH"
      }
    },
    {
      "cell_type": "code",
      "source": [
        "class Solution(object):\n",
        "    def minimumAbsDifference(self, arr):\n",
        "\n",
        "        arr.sort()\n",
        "\n",
        "        n = len(arr)\n",
        "        minDiff = 1000\n",
        "        res = []\n",
        "\n",
        "        for i in range(n-1):\n",
        "            minDiff = min(minDiff, abs(arr[i]-arr[i+1]))\n",
        "\n",
        "        for i in range(1, n):\n",
        "            if arr[i]-arr[i-1]==minDiff:\n",
        "                res.append([arr[i-1], arr[i]])\n",
        "\n",
        "        return res"
      ],
      "metadata": {
        "id": "74ErZZ7_HRoC"
      },
      "execution_count": null,
      "outputs": []
    },
    {
      "cell_type": "markdown",
      "source": [
        "## 209. Minimum Size Subarray Sum"
      ],
      "metadata": {
        "id": "TZNBBNxSm6Hx"
      }
    },
    {
      "cell_type": "code",
      "source": [
        "class Solution(object):\n",
        "    def minSubArrayLen(self, target, nums):\n",
        "\n",
        "        n = len(nums)\n",
        "        l = 0\n",
        "        total = 0\n",
        "\n",
        "        res = float('inf')\n",
        "\n",
        "        for r in range(n):\n",
        "            total+=nums[r]\n",
        "\n",
        "            while total>=target:\n",
        "                res = min(res, r-l+1)\n",
        "                total-=nums[l]\n",
        "                l+=1\n",
        "\n",
        "        if res == float('inf'):\n",
        "            return 0\n",
        "\n",
        "        return res"
      ],
      "metadata": {
        "id": "MDM0Un7dm6QE"
      },
      "execution_count": null,
      "outputs": []
    },
    {
      "cell_type": "markdown",
      "source": [
        "# Bit Manipulation"
      ],
      "metadata": {
        "id": "SG1yUOZKqHlw"
      }
    },
    {
      "cell_type": "markdown",
      "source": [
        "## 136. Single Number"
      ],
      "metadata": {
        "id": "wqJo1XS1qHtz"
      }
    },
    {
      "cell_type": "code",
      "source": [
        "class Solution(object):\n",
        "    def singleNumber(self, nums):\n",
        "\n",
        "        xor = 0\n",
        "\n",
        "        for num in nums:\n",
        "            xor = xor^num\n",
        "\n",
        "        return xor"
      ],
      "metadata": {
        "id": "QbE370l0qH4e"
      },
      "execution_count": null,
      "outputs": []
    },
    {
      "cell_type": "markdown",
      "source": [
        "# Dynamic Programming"
      ],
      "metadata": {
        "id": "K_-kPdcjqx_f"
      }
    },
    {
      "cell_type": "markdown",
      "source": [
        "## 322. Coin Change"
      ],
      "metadata": {
        "id": "7ioyBdgPIBPP"
      }
    },
    {
      "cell_type": "code",
      "source": [
        "class Solution(object):\n",
        "    def coinChange(self, coins, amount):\n",
        "\n",
        "        dp = [amount+1]*(amount+1)\n",
        "        dp[0] = 0\n",
        "\n",
        "        for i in range(1, amount+1):\n",
        "            for c in coins:\n",
        "\n",
        "                if i-c >= 0:\n",
        "                    dp[i] = min(dp[i], 1+dp[i-c])\n",
        "\n",
        "        if dp[amount]!=amount+1:\n",
        "            return dp[amount]\n",
        "        return -1"
      ],
      "metadata": {
        "id": "JiSZSj_Uqz6I"
      },
      "execution_count": null,
      "outputs": []
    },
    {
      "cell_type": "markdown",
      "source": [
        "## 70. Climbing Stairs"
      ],
      "metadata": {
        "id": "JseQeJnlMl1u"
      }
    },
    {
      "cell_type": "code",
      "source": [
        "class Solution(object):\n",
        "    def climbStairs(self, n):\n",
        "\n",
        "        if n==1:\n",
        "            return 1\n",
        "        if n==2:\n",
        "            return 2\n",
        "\n",
        "        dp = [0] * (n+1)\n",
        "\n",
        "        dp[0] = 0\n",
        "        dp[1] = 1\n",
        "        dp[2] = 2\n",
        "\n",
        "        for i in range(3, n+1):\n",
        "            dp[i] = dp[i-1] + dp[i-2]\n",
        "\n",
        "        return dp[n]"
      ],
      "metadata": {
        "id": "M3Zkyt85Ml7J"
      },
      "execution_count": null,
      "outputs": []
    },
    {
      "cell_type": "markdown",
      "source": [
        "## 53. Maximum Subarray"
      ],
      "metadata": {
        "id": "LveOHLw6P2Pj"
      }
    },
    {
      "cell_type": "code",
      "source": [
        "class Solution(object):\n",
        "    def maxSubArray(self, nums):\n",
        "        maxSum = nums[0]\n",
        "        currSum = 0\n",
        "\n",
        "        for num in nums:\n",
        "            if currSum < 0:\n",
        "                currSum = 0\n",
        "\n",
        "            currSum+=num\n",
        "            maxSum = max(maxSum, currSum)\n",
        "\n",
        "        return maxSum"
      ],
      "metadata": {
        "id": "ee8EW6csP2V-"
      },
      "execution_count": null,
      "outputs": []
    },
    {
      "cell_type": "markdown",
      "source": [
        "## 338. Counting Bits"
      ],
      "metadata": {
        "id": "9V5cC0RgRjYi"
      }
    },
    {
      "cell_type": "code",
      "source": [
        "class Solution(object):\n",
        "    def countBits(self, n):\n",
        "        dp = [0] * (n+1)\n",
        "\n",
        "        offset = 1\n",
        "\n",
        "        for i in range(1, n+1):\n",
        "            if offset*2==i:\n",
        "                offset = i\n",
        "\n",
        "            dp[i] = 1+dp[i-offset]\n",
        "\n",
        "        return dp"
      ],
      "metadata": {
        "id": "HCa7guE_Ri7x"
      },
      "execution_count": null,
      "outputs": []
    },
    {
      "cell_type": "markdown",
      "source": [
        "## 303. Range Sum Query - Immutable"
      ],
      "metadata": {
        "id": "zBCrdjHqT_dX"
      }
    },
    {
      "cell_type": "code",
      "source": [
        "# Method 1 [with no DP, takes O(n) but more time]\n",
        "\n",
        "class NumArray(object):\n",
        "\n",
        "    def __init__(self, nums):\n",
        "        self.nums = nums\n",
        "\n",
        "\n",
        "    def sumRange(self, left, right):\n",
        "\n",
        "        return sum(self.nums[left:right+1])\n",
        "\n",
        "\n",
        "\n",
        "# Your NumArray object will be instantiated and called as such:\n",
        "# obj = NumArray(nums)\n",
        "# param_1 = obj.sumRange(left,right)"
      ],
      "metadata": {
        "id": "EhsVuLH0T_wi"
      },
      "execution_count": null,
      "outputs": []
    },
    {
      "cell_type": "code",
      "source": [
        "# Method 2 [Makes more optimized O(n), where runtime is very less]\n",
        "\n",
        "class NumArray(object):\n",
        "\n",
        "    def __init__(self, nums):\n",
        "        self.acc_nums = [0]\n",
        "        for num in nums:\n",
        "            self.acc_nums.append(self.acc_nums[-1]+num)\n",
        "\n",
        "    def sumRange(self, left, right):\n",
        "\n",
        "        return self.acc_nums[right+1] - self.acc_nums[left]\n",
        "\n",
        "\n",
        "\n",
        "# Your NumArray object will be instantiated and called as such:\n",
        "# obj = NumArray(nums)\n",
        "# param_1 = obj.sumRange(left,right)"
      ],
      "metadata": {
        "id": "aRP3GQ63UGz6"
      },
      "execution_count": null,
      "outputs": []
    },
    {
      "cell_type": "markdown",
      "source": [
        "# Linked List"
      ],
      "metadata": {
        "id": "Lb7mSV-kdaU4"
      }
    },
    {
      "cell_type": "markdown",
      "source": [
        "## 876. Middle of the Linked List"
      ],
      "metadata": {
        "id": "UkA7JBHxdeEb"
      }
    },
    {
      "cell_type": "code",
      "source": [
        "class Solution(object):\n",
        "    def middleNode(self, head):\n",
        "        p1 = head\n",
        "        p2 = head\n",
        "\n",
        "        while p2 and p2.next:\n",
        "            p1 = p1.next\n",
        "            p2 = p2.next.next\n",
        "\n",
        "        return p1"
      ],
      "metadata": {
        "id": "h5qVkrDUddTc"
      },
      "execution_count": null,
      "outputs": []
    },
    {
      "cell_type": "markdown",
      "source": [
        "## 141. Linked List Cycle"
      ],
      "metadata": {
        "id": "zxbEM_gjf7L4"
      }
    },
    {
      "cell_type": "code",
      "source": [
        "class Solution(object):\n",
        "    def hasCycle(self, head):\n",
        "        p1 = head\n",
        "        p2 = head\n",
        "\n",
        "        while p2 and p2.next:\n",
        "\n",
        "            p1 = p1.next\n",
        "            p2 = p2.next.next\n",
        "\n",
        "            if p1 == p2:\n",
        "                return True\n",
        "\n",
        "        return False"
      ],
      "metadata": {
        "id": "NoQRhfHlf7UY"
      },
      "execution_count": null,
      "outputs": []
    },
    {
      "cell_type": "markdown",
      "source": [
        "## 206. Reverse Linked List"
      ],
      "metadata": {
        "id": "zyioCdeljmgk"
      }
    },
    {
      "cell_type": "code",
      "source": [
        "class Solution(object):\n",
        "    def reverseList(self, head):\n",
        "        curr = head\n",
        "        prev = None\n",
        "\n",
        "        while curr:\n",
        "            next_pt = curr.next\n",
        "\n",
        "            curr.next = prev\n",
        "\n",
        "            prev = curr\n",
        "            curr = next_pt\n",
        "\n",
        "        head = prev\n",
        "\n",
        "        return head"
      ],
      "metadata": {
        "id": "XAWf-SKzjmn9"
      },
      "execution_count": null,
      "outputs": []
    },
    {
      "cell_type": "markdown",
      "source": [
        "## 203. Remove Linked List Elements"
      ],
      "metadata": {
        "id": "iMsGCN1J9fbh"
      }
    },
    {
      "cell_type": "code",
      "source": [
        "class Solution(object):\n",
        "    def removeElements(self, head, val):\n",
        "\n",
        "        dummy_head = ListNode(-1)\n",
        "        dummy_head.next = head\n",
        "\n",
        "        curr = dummy_head\n",
        "\n",
        "        while curr.next != None:\n",
        "            if curr.next.val == val:\n",
        "                curr.next = curr.next.next\n",
        "            else:\n",
        "                curr  = curr.next\n",
        "\n",
        "        return dummy_head.next"
      ],
      "metadata": {
        "id": "Vym39Wnw9fky"
      },
      "execution_count": null,
      "outputs": []
    },
    {
      "cell_type": "markdown",
      "source": [
        "## 92. Reverse Linked List II"
      ],
      "metadata": {
        "id": "hzeyOg2NuSJa"
      }
    },
    {
      "cell_type": "code",
      "source": [
        "class Solution(object):\n",
        "    def reverseBetween(self, head, left, right):\n",
        "\n",
        "        dummy_head = ListNode(-1)\n",
        "        dummy_head.next = head\n",
        "\n",
        "        left_prev = dummy_head\n",
        "        curr = head\n",
        "\n",
        "        for i in range(left-1):\n",
        "            left_prev = curr\n",
        "            curr = curr.next\n",
        "\n",
        "        prev = None\n",
        "\n",
        "        for i in range(right-left+1):\n",
        "            next_ptr = curr.next\n",
        "            curr.next = prev\n",
        "            prev = curr\n",
        "            curr = next_ptr\n",
        "\n",
        "        left_prev.next.next = curr\n",
        "        left_prev.next = prev\n",
        "\n",
        "        return dummy_head.next"
      ],
      "metadata": {
        "id": "BTkMvoMKuSTB"
      },
      "execution_count": null,
      "outputs": []
    },
    {
      "cell_type": "markdown",
      "source": [
        "## 234. Palindrome Linked List"
      ],
      "metadata": {
        "id": "cICPNjZ4YfPL"
      }
    },
    {
      "cell_type": "code",
      "source": [
        "class Solution(object):\n",
        "    def isPalindrome(self, head):\n",
        "        slow = head\n",
        "        fast = head\n",
        "        left = head\n",
        "\n",
        "        # Identifying Mid\n",
        "\n",
        "        while fast and fast.next:\n",
        "            slow = slow.next\n",
        "            fast = fast.next.next\n",
        "\n",
        "        # Reversing Linked List from Slow\n",
        "\n",
        "        prev = None\n",
        "\n",
        "        while slow!=None:\n",
        "            next_ptr = slow.next\n",
        "\n",
        "            slow.next = prev\n",
        "            prev = slow\n",
        "            slow = next_ptr\n",
        "\n",
        "        right = prev\n",
        "\n",
        "        # Now compare\n",
        "        while right!=None:\n",
        "            if left.val != right.val:\n",
        "                return False\n",
        "            right = right.next\n",
        "            left = left.next\n",
        "\n",
        "        return True"
      ],
      "metadata": {
        "id": "QhaLw7ROYfbb"
      },
      "execution_count": null,
      "outputs": []
    },
    {
      "cell_type": "markdown",
      "source": [
        "## 21. Merge Two Sorted Lists"
      ],
      "metadata": {
        "id": "wYMoyJXBuCut"
      }
    },
    {
      "cell_type": "code",
      "source": [
        "class Solution(object):\n",
        "    def mergeTwoLists(self, list1, list2):\n",
        "        curr = ListNode()\n",
        "        dummy = curr\n",
        "\n",
        "        while list1 and list2:\n",
        "            if list1.val < list2.val:\n",
        "                curr.next = list1\n",
        "                curr = list1\n",
        "                list1 = list1.next\n",
        "            else:\n",
        "                curr.next = list2\n",
        "                curr = list2\n",
        "                list2 = list2.next\n",
        "\n",
        "        if list1 or list2:\n",
        "            curr.next = list1 if list1 else list2\n",
        "\n",
        "        return dummy.next"
      ],
      "metadata": {
        "id": "PVvC0MADuC3A"
      },
      "execution_count": null,
      "outputs": []
    },
    {
      "cell_type": "markdown",
      "source": [
        "# Stacks"
      ],
      "metadata": {
        "id": "mAzUz4R9Hxe2"
      }
    },
    {
      "cell_type": "markdown",
      "source": [
        "## 155. Min Stack"
      ],
      "metadata": {
        "id": "JTBpkPRTHyA8"
      }
    },
    {
      "cell_type": "code",
      "source": [
        "class MinStack(object):\n",
        "\n",
        "    def __init__(self):\n",
        "        self.stack = []\n",
        "\n",
        "\n",
        "    def push(self, val):\n",
        "        \"\"\"\n",
        "        :type val: int\n",
        "        :rtype: None\n",
        "        \"\"\"\n",
        "        if not self.stack:\n",
        "            curr_min = val\n",
        "        else:\n",
        "            curr_min = min(val, self.stack[-1][1])\n",
        "\n",
        "        self.stack.append((val, curr_min))\n",
        "\n",
        "    def pop(self):\n",
        "        \"\"\"\n",
        "        :rtype: None\n",
        "        \"\"\"\n",
        "        return self.stack.pop()\n",
        "\n",
        "\n",
        "    def top(self):\n",
        "        \"\"\"\n",
        "        :rtype: int\n",
        "        \"\"\"\n",
        "        return self.stack[-1][0]\n",
        "\n",
        "\n",
        "    def getMin(self):\n",
        "        \"\"\"\n",
        "        :rtype: int\n",
        "        \"\"\"\n",
        "        return self.stack[-1][1]\n",
        "\n",
        "\n",
        "\n",
        "# Your MinStack object will be instantiated and called as such:\n",
        "# obj = MinStack()\n",
        "# obj.push(val)\n",
        "# obj.pop()\n",
        "# param_3 = obj.top()\n",
        "# param_4 = obj.getMin()"
      ],
      "metadata": {
        "id": "q9xMrtD0HyKG"
      },
      "execution_count": null,
      "outputs": []
    },
    {
      "cell_type": "markdown",
      "source": [
        "## 20. Valid Parentheses"
      ],
      "metadata": {
        "id": "wHVsL1meOvhI"
      }
    },
    {
      "cell_type": "code",
      "source": [
        "class Solution(object):\n",
        "    def isValid(self, s):\n",
        "        stack = []\n",
        "        hashmap = {')': '(',\n",
        "                ']': '[',\n",
        "                '}': '{'}\n",
        "\n",
        "        for brace in s:\n",
        "            if stack and (brace in hashmap and stack[-1] == hashmap[brace]):\n",
        "                stack.pop()\n",
        "            else:\n",
        "                stack.append(brace)\n",
        "\n",
        "        return not stack"
      ],
      "metadata": {
        "id": "y6Jz0ysfOvql"
      },
      "execution_count": null,
      "outputs": []
    },
    {
      "cell_type": "markdown",
      "source": [
        "## 150. Evaluate Reverse Polish Notation"
      ],
      "metadata": {
        "id": "IRpmFhZhhf0o"
      }
    },
    {
      "cell_type": "code",
      "source": [
        "class Solution(object):\n",
        "    def evalRPN(self, tokens):\n",
        "        stack = []\n",
        "        operators = ['+', '-', '*', '/']\n",
        "\n",
        "        for token in tokens:\n",
        "            if token in operators:\n",
        "                num2 = stack.pop()\n",
        "                num1 = stack.pop()\n",
        "                if token == '+':\n",
        "                    stack.append(num1+num2)\n",
        "                elif token == '-':\n",
        "                    stack.append(num1-num2)\n",
        "                elif token == '*':\n",
        "                    stack.append(num1*num2)\n",
        "                elif token == '/':\n",
        "                    stack.append(int(float(num1)/num2))\n",
        "            else:\n",
        "                stack.append(int(token))\n",
        "\n",
        "        return stack.pop()"
      ],
      "metadata": {
        "id": "LNe1QqOJhf-T"
      },
      "execution_count": null,
      "outputs": []
    },
    {
      "cell_type": "markdown",
      "source": [
        "## NaN: Stack Sorting\n",
        "\n",
        "### Given a stack of integers sort them in ascending or descending order\n",
        "### input: [34, 3, 31, 98, 92, 23]\n"
      ],
      "metadata": {
        "id": "rIMQNhQ4jQEL"
      }
    },
    {
      "cell_type": "code",
      "source": [
        "# Descending Order\n",
        "\n",
        "def sortStack(stack):\n",
        "\n",
        "    temp_stack = []\n",
        "\n",
        "    while(stack):\n",
        "      num = stack.pop()\n",
        "\n",
        "      while temp_stack and (temp_stack[-1] < num): # For Ascending change '<' to '>'\n",
        "        stack.append(temp_stack.pop())\n",
        "\n",
        "      temp_stack.append(num)\n",
        "\n",
        "    return temp_stack"
      ],
      "metadata": {
        "id": "OmE90S4mjQWj"
      },
      "execution_count": null,
      "outputs": []
    },
    {
      "cell_type": "markdown",
      "source": [
        "# Queues"
      ],
      "metadata": {
        "id": "Pyo9QdXUBIYO"
      }
    },
    {
      "cell_type": "markdown",
      "source": [
        "## 225. Implement Stack using Queues"
      ],
      "metadata": {
        "id": "a9V_d-NVBIeM"
      }
    },
    {
      "cell_type": "code",
      "source": [
        "class MyStack(object):\n",
        "\n",
        "    def __init__(self):\n",
        "        self.queue = deque()\n",
        "\n",
        "    def push(self, x):\n",
        "        \"\"\"\n",
        "        :type x: int\n",
        "        :rtype: None\n",
        "        \"\"\"\n",
        "        self.queue.append(x)\n",
        "\n",
        "    def pop(self):\n",
        "        \"\"\"\n",
        "        :rtype: int\n",
        "        \"\"\"\n",
        "        for i in range(len(self.queue)-1):\n",
        "            self.push(self.queue.popleft())\n",
        "\n",
        "        return self.queue.popleft()\n",
        "\n",
        "\n",
        "    def top(self):\n",
        "        \"\"\"\n",
        "        :rtype: int\n",
        "        \"\"\"\n",
        "        return self.queue[-1]\n",
        "\n",
        "\n",
        "    def empty(self):\n",
        "        \"\"\"\n",
        "        :rtype: bool\n",
        "        \"\"\"\n",
        "        return len(self.queue) == 0\n",
        "\n",
        "\n",
        "\n",
        "# Your MyStack object will be instantiated and called as such:\n",
        "# obj = MyStack()\n",
        "# obj.push(x)\n",
        "# param_2 = obj.pop()\n",
        "# param_3 = obj.top()\n",
        "# param_4 = obj.empty()"
      ],
      "metadata": {
        "id": "4bNeC4qABIul"
      },
      "execution_count": null,
      "outputs": []
    },
    {
      "cell_type": "markdown",
      "source": [
        "## 2073. Time Needed to Buy Tickets"
      ],
      "metadata": {
        "id": "uYuRdeGdKT1b"
      }
    },
    {
      "cell_type": "code",
      "source": [
        "class Solution(object):\n",
        "    def timeRequiredToBuy(self, tickets, k):\n",
        "\n",
        "        res = 0\n",
        "\n",
        "        for i in range(len(tickets)):\n",
        "            if i<=k:\n",
        "                res += min(tickets[k], tickets[i])\n",
        "            else:\n",
        "                res += min(tickets[k]-1, tickets[i])\n",
        "\n",
        "        return res"
      ],
      "metadata": {
        "id": "8a33-H3mKT87"
      },
      "execution_count": null,
      "outputs": []
    },
    {
      "cell_type": "markdown",
      "source": [
        "## NaN: Reversing the first k elements of a Queue\n",
        "\n",
        "### Input queue: [10, 20, 30, 40, 50, 60, 70, 80, 90, 100]; k = 5\n",
        "### Output: [50, 40, 30, 20, 10, 60, 70, 80, 90, 100]"
      ],
      "metadata": {
        "id": "1nWYdT2sLduv"
      }
    },
    {
      "cell_type": "code",
      "source": [
        "def reverseFirstKElements(queue, k):\n",
        "    stack = []\n",
        "\n",
        "    for i in range(k):\n",
        "      stack.append(queue.popleft())\n",
        "\n",
        "    while stack:\n",
        "      queue.append(stack.pop())\n",
        "\n",
        "    for i in range(len(queue)-k):\n",
        "      queue.append(queue.popleft())\n",
        "\n",
        "    return queue"
      ],
      "metadata": {
        "id": "lfMHls-qP_aq"
      },
      "execution_count": null,
      "outputs": []
    },
    {
      "cell_type": "markdown",
      "source": [
        "# Breadth First Search (BFS)"
      ],
      "metadata": {
        "id": "Ny4CtXr3flcA"
      }
    },
    {
      "cell_type": "markdown",
      "source": [
        "### With Adjacency List (graph is a dict, with a node: [neighbors])"
      ],
      "metadata": {
        "id": "rRQZKGUKuflW"
      }
    },
    {
      "cell_type": "code",
      "source": [
        "from collections import deque\n",
        "\n",
        "def bfs(graph, start):\n",
        "  visited = set()\n",
        "  queue = deque([start])\n",
        "  res = []\n",
        "\n",
        "  while queue:\n",
        "    node = queue.popleft() # Taking element from front of the queue\n",
        "    if node not in visited:\n",
        "      visited.add(node)\n",
        "      res.append(node) # Result\n",
        "\n",
        "      # Add all unvisited neighbors to the queue\n",
        "      for neighbor in graph[node]:\n",
        "        if neighbor not in visited:\n",
        "          queue.append(neighbor)\n",
        "\n",
        "  return res"
      ],
      "metadata": {
        "id": "1zhVg-YgfrUm"
      },
      "execution_count": null,
      "outputs": []
    },
    {
      "cell_type": "code",
      "source": [
        "# Running\n",
        "\n",
        "graph = {\n",
        "  'A': ['B', 'C'],\n",
        "  'B': ['D', 'E'],\n",
        "  'C': ['F'],\n",
        "  'D': [],\n",
        "  'E': ['F'],\n",
        "  'F': []\n",
        "}\n",
        "\n",
        "print(bfs(graph, 'A'))"
      ],
      "metadata": {
        "colab": {
          "base_uri": "https://localhost:8080/"
        },
        "id": "EStTr1KOgsJC",
        "outputId": "b53930b1-447c-445a-c1e1-94801b4d2d26"
      },
      "execution_count": null,
      "outputs": [
        {
          "output_type": "stream",
          "name": "stdout",
          "text": [
            "['A', 'B', 'C', 'D', 'E', 'F']\n"
          ]
        }
      ]
    },
    {
      "cell_type": "markdown",
      "source": [
        "### With Tree Node (We have left and right children)"
      ],
      "metadata": {
        "id": "9hdE7gAgutjI"
      }
    },
    {
      "cell_type": "code",
      "source": [
        "from collections import deque\n",
        "\n",
        "def bfs(root):\n",
        "    if not root:\n",
        "        return []\n",
        "    queue = deque([root])\n",
        "    res = []\n",
        "\n",
        "    while queue:\n",
        "        node = queue.popleft()\n",
        "        res.append(node.val)\n",
        "\n",
        "        if node.left:\n",
        "            queue.append(node.left)\n",
        "        if node.right:\n",
        "            queue.append(node.right)\n",
        "\n",
        "    return res"
      ],
      "metadata": {
        "id": "GK5GONvVuy4g"
      },
      "execution_count": null,
      "outputs": []
    },
    {
      "cell_type": "code",
      "source": [
        "# Build this tree:\n",
        "#       A\n",
        "#      / \\\n",
        "#     B   C\n",
        "#    / \\   \\\n",
        "#   D   E   F\n",
        "\n",
        "class TreeNode:\n",
        "    def __init__(self, val):\n",
        "        self.val = val\n",
        "        self.left = None\n",
        "        self.right = None\n",
        "\n",
        "root = TreeNode(\"A\")\n",
        "root.left = TreeNode(\"B\")\n",
        "root.right = TreeNode(\"C\")\n",
        "root.left.left = TreeNode(\"D\")\n",
        "root.left.right = TreeNode(\"E\")\n",
        "root.right.right = TreeNode(\"F\")\n",
        "\n",
        "print(bfs(root))"
      ],
      "metadata": {
        "colab": {
          "base_uri": "https://localhost:8080/"
        },
        "id": "uQ4zU00guy8I",
        "outputId": "5e407f3b-f25f-463e-dff1-66a2a4e1a9fd"
      },
      "execution_count": null,
      "outputs": [
        {
          "output_type": "stream",
          "name": "stdout",
          "text": [
            "['A', 'B', 'C', 'D', 'E', 'F']\n"
          ]
        }
      ]
    },
    {
      "cell_type": "markdown",
      "source": [
        "# Depth First Search (DFS)"
      ],
      "metadata": {
        "id": "gTeLJsmjjtUA"
      }
    },
    {
      "cell_type": "markdown",
      "source": [
        "### With Adjacency List (graph is a dict, with a node: [neighbors])"
      ],
      "metadata": {
        "id": "G5kxzY-Iu2I1"
      }
    },
    {
      "cell_type": "code",
      "source": [
        "def dfs(graph, start):\n",
        "  visited = set()\n",
        "  stack = [start]\n",
        "  res = []\n",
        "\n",
        "  while stack:\n",
        "    node = stack.pop() # Taking element from end of the stack\n",
        "    if node not in visited:\n",
        "      visited.add(node)\n",
        "      res.append(node) # Result\n",
        "\n",
        "      # Add all unvisited neighbors to the stack\n",
        "      for neighbor in graph[node][::-1]: # Reversing the list to retain the order (optional: if don't care about order)\n",
        "        if neighbor not in visited:\n",
        "          stack.append(neighbor)\n",
        "\n",
        "  return res"
      ],
      "metadata": {
        "id": "iYdoEDHvgxMc"
      },
      "execution_count": null,
      "outputs": []
    },
    {
      "cell_type": "code",
      "source": [
        "# Running\n",
        "\n",
        "graph = {\n",
        "  'A': ['B', 'C'],\n",
        "  'B': ['D', 'E'],\n",
        "  'C': ['F'],\n",
        "  'D': [],\n",
        "  'E': ['F'],\n",
        "  'F': []\n",
        "}\n",
        "\n",
        "print(dfs(graph, 'A'))"
      ],
      "metadata": {
        "colab": {
          "base_uri": "https://localhost:8080/"
        },
        "id": "XveYquoJk3Ao",
        "outputId": "93086763-ca94-423c-f39c-749e1a6974b1"
      },
      "execution_count": null,
      "outputs": [
        {
          "output_type": "stream",
          "name": "stdout",
          "text": [
            "['A', 'B', 'D', 'E', 'F', 'C']\n"
          ]
        }
      ]
    },
    {
      "cell_type": "markdown",
      "source": [
        "### With Tree Node (We have left and right children)"
      ],
      "metadata": {
        "id": "wYjx_X7su5wd"
      }
    },
    {
      "cell_type": "code",
      "source": [
        "def dfs(root):\n",
        "    if not root:\n",
        "        return []\n",
        "    stack = [root]\n",
        "    res = []\n",
        "\n",
        "    while stack:\n",
        "        node = stack.pop()\n",
        "        res.append(node.val)\n",
        "\n",
        "        # push right first so left is processed first\n",
        "        if node.right:\n",
        "            stack.append(node.right)\n",
        "        if node.left:\n",
        "            stack.append(node.left)\n",
        "\n",
        "    return res"
      ],
      "metadata": {
        "id": "_-0EcAxpu66P"
      },
      "execution_count": null,
      "outputs": []
    },
    {
      "cell_type": "code",
      "source": [
        "# Build this tree:\n",
        "#       A\n",
        "#      / \\\n",
        "#     B   C\n",
        "#    / \\   \\\n",
        "#   D   E   F\n",
        "\n",
        "class TreeNode:\n",
        "    def __init__(self, val):\n",
        "        self.val = val\n",
        "        self.left = None\n",
        "        self.right = None\n",
        "\n",
        "root = TreeNode(\"A\")\n",
        "root.left = TreeNode(\"B\")\n",
        "root.right = TreeNode(\"C\")\n",
        "root.left.left = TreeNode(\"D\")\n",
        "root.left.right = TreeNode(\"E\")\n",
        "root.right.right = TreeNode(\"F\")\n",
        "\n",
        "print(dfs(root))"
      ],
      "metadata": {
        "colab": {
          "base_uri": "https://localhost:8080/"
        },
        "id": "f7HLPZhEu8T2",
        "outputId": "043c1418-2e0f-439f-c1a3-ca55ce4689b3"
      },
      "execution_count": null,
      "outputs": [
        {
          "output_type": "stream",
          "name": "stdout",
          "text": [
            "['A', 'B', 'D', 'E', 'C', 'F']\n"
          ]
        }
      ]
    },
    {
      "cell_type": "markdown",
      "source": [
        "# Binary Trees"
      ],
      "metadata": {
        "id": "_Ol3gky0vTBj"
      }
    },
    {
      "cell_type": "markdown",
      "source": [
        "## 637. Average of Levels in Binary Tree"
      ],
      "metadata": {
        "id": "lv1va2OQFzCQ"
      }
    },
    {
      "cell_type": "code",
      "source": [
        "# Definition for a binary tree node.\n",
        "# class TreeNode(object):\n",
        "#     def __init__(self, val=0, left=None, right=None):\n",
        "#         self.val = val\n",
        "#         self.left = left\n",
        "#         self.right = right\n",
        "\n",
        "class Solution(object):\n",
        "    def averageOfLevels(self, root):\n",
        "        \"\"\"\n",
        "        :type root: Optional[TreeNode]\n",
        "        :rtype: List[float]\n",
        "        \"\"\"\n",
        "        if not root:\n",
        "            return []\n",
        "\n",
        "        queue = deque([root])\n",
        "        res = []\n",
        "\n",
        "        while queue:\n",
        "            sum_level = 0.0\n",
        "            len_level = len(queue)\n",
        "            for i in range(len_level):\n",
        "\n",
        "                node = queue.popleft()\n",
        "                sum_level+=node.val\n",
        "\n",
        "                if node.left:\n",
        "                    queue.append(node.left)\n",
        "                if node.right:\n",
        "                    queue.append(node.right)\n",
        "\n",
        "            res.append(sum_level/len_level)\n",
        "\n",
        "        return res"
      ],
      "metadata": {
        "id": "ugAGa5mivTlB"
      },
      "execution_count": null,
      "outputs": []
    },
    {
      "cell_type": "markdown",
      "source": [
        "## 111. Minimum Depth of Binary Tree"
      ],
      "metadata": {
        "id": "rl7zHHvBS70a"
      }
    },
    {
      "cell_type": "code",
      "source": [
        "# Definition for a binary tree node.\n",
        "# class TreeNode(object):\n",
        "#     def __init__(self, val=0, left=None, right=None):\n",
        "#         self.val = val\n",
        "#         self.left = left\n",
        "#         self.right = right\n",
        "class Solution(object):\n",
        "    def minDepth(self, root):\n",
        "        if not root:\n",
        "            return 0\n",
        "\n",
        "        stack = [(root, 1)]\n",
        "        min_depth = 100000\n",
        "\n",
        "        while stack:\n",
        "            node, depth = stack.pop()\n",
        "            if not node.left and not node.right:\n",
        "                min_depth = min(depth, min_depth)\n",
        "\n",
        "            if node.right:\n",
        "                stack.append((node.right, depth+1))\n",
        "            if node.left:\n",
        "                stack.append((node.left, depth+1))\n",
        "\n",
        "        return min_depth"
      ],
      "metadata": {
        "id": "XoVgmXXES78N"
      },
      "execution_count": null,
      "outputs": []
    },
    {
      "cell_type": "markdown",
      "source": [
        "## 104. Maximum Depth of Binary Tree"
      ],
      "metadata": {
        "id": "9WWLxORA9Omq"
      }
    },
    {
      "cell_type": "code",
      "source": [
        "# Definition for a binary tree node.\n",
        "# class TreeNode(object):\n",
        "#     def __init__(self, val=0, left=None, right=None):\n",
        "#         self.val = val\n",
        "#         self.left = left\n",
        "#         self.right = right\n",
        "class Solution(object):\n",
        "    def maxDepth(self, root):\n",
        "        \"\"\"\n",
        "        :type root: Optional[TreeNode]\n",
        "        :rtype: int\n",
        "        \"\"\"\n",
        "\n",
        "        if not root:\n",
        "            return 0\n",
        "\n",
        "        maxDepth = -1\n",
        "        stack = [(root, 1)]\n",
        "\n",
        "        while stack:\n",
        "            node, depth = stack.pop()\n",
        "\n",
        "            if not node.left and not node.right:\n",
        "                maxDepth = max(maxDepth, depth)\n",
        "\n",
        "            else:\n",
        "                if node.right:\n",
        "                    stack.append((node.right, depth+1))\n",
        "                if node.left:\n",
        "                    stack.append((node.left, depth+1))\n",
        "\n",
        "        return maxDepth"
      ],
      "metadata": {
        "id": "So0sk3i39Osz"
      },
      "execution_count": null,
      "outputs": []
    },
    {
      "cell_type": "markdown",
      "source": [
        "## NaN: Max/Min Value Binary Tree"
      ],
      "metadata": {
        "id": "z5s5YzSlB5Kq"
      }
    },
    {
      "cell_type": "code",
      "source": [
        "from collections import deque\n",
        "\n",
        "def largest_node_binary_tree(root):\n",
        "\n",
        "  queue = deque([root])\n",
        "  max_val = -100000\n",
        "\n",
        "  while queue:\n",
        "    node = queue.popleft()\n",
        "\n",
        "    max_val = max(max_val, node.val)\n",
        "\n",
        "    if node.left:\n",
        "      queue.append(node.left)\n",
        "    if node.right:\n",
        "      queue.append(node.right)\n",
        "\n",
        "  return max_val\n",
        "\n",
        "def smallest_node_binary_tree(root):\n",
        "  queue = deque([root])\n",
        "  min_val = 100000\n",
        "\n",
        "  while queue:\n",
        "    node = queue.popleft()\n",
        "\n",
        "    max_val = min(min_val, node.val)\n",
        "\n",
        "    if node.left:\n",
        "      queue.append(node.left)\n",
        "    if node.right:\n",
        "      queue.append(node.right)\n",
        "\n",
        "  return min_val"
      ],
      "metadata": {
        "id": "Q-SHlaJxB5R4"
      },
      "execution_count": null,
      "outputs": []
    },
    {
      "cell_type": "markdown",
      "source": [
        "## 102. Binary Tree Level Order Traversal"
      ],
      "metadata": {
        "id": "QI-34f0BYneE"
      }
    },
    {
      "cell_type": "code",
      "source": [
        "# Definition for a binary tree node.\n",
        "# class TreeNode(object):\n",
        "#     def __init__(self, val=0, left=None, right=None):\n",
        "#         self.val = val\n",
        "#         self.left = left\n",
        "#         self.right = right\n",
        "class Solution(object):\n",
        "    def levelOrder(self, root):\n",
        "        \"\"\"\n",
        "        :type root: Optional[TreeNode]\n",
        "        :rtype: List[List[int]]\n",
        "        \"\"\"\n",
        "        if not root:\n",
        "            return []\n",
        "\n",
        "        queue = deque([root])\n",
        "\n",
        "        level = []\n",
        "\n",
        "        while queue:\n",
        "            len_level = len(queue)\n",
        "            new_level = []\n",
        "\n",
        "            for i in range(len_level):\n",
        "                node = queue.popleft()\n",
        "                new_level.append(node.val)\n",
        "\n",
        "                if node.left:\n",
        "                    queue.append(node.left)\n",
        "                if node.right:\n",
        "                    queue.append(node.right)\n",
        "\n",
        "            level.append(new_level)\n",
        "\n",
        "        return level"
      ],
      "metadata": {
        "id": "3vVd3KRNYnmd"
      },
      "execution_count": null,
      "outputs": []
    },
    {
      "cell_type": "markdown",
      "source": [
        "## 100. Same Tree"
      ],
      "metadata": {
        "id": "AVsL4Mb6ZPr4"
      }
    },
    {
      "cell_type": "code",
      "source": [
        "class Solution(object):\n",
        "    def isSameTree(self, p, q):\n",
        "        stack = [(p, q)]\n",
        "\n",
        "        while stack:\n",
        "            node1, node2 = stack.pop()\n",
        "\n",
        "            if not node1 and not node2:\n",
        "                continue\n",
        "            elif None in [node1, node2] or node1.val != node2.val:\n",
        "                return False\n",
        "\n",
        "            stack.append((node1.right, node2.right))\n",
        "            stack.append((node1.left, node2.left))\n",
        "\n",
        "        return True"
      ],
      "metadata": {
        "id": "pRYmHS0CZP1x"
      },
      "execution_count": null,
      "outputs": []
    },
    {
      "cell_type": "markdown",
      "source": [
        "## 112. Path Sum"
      ],
      "metadata": {
        "id": "-YuA53KQMQZI"
      }
    },
    {
      "cell_type": "code",
      "source": [
        "class Solution(object):\n",
        "    def hasPathSum(self, root, targetSum):\n",
        "        if not root:\n",
        "            return False\n",
        "\n",
        "        stack = [(root, root.val)]\n",
        "\n",
        "        while stack:\n",
        "            node, val = stack.pop()\n",
        "            if not node.left and not node.right and val == targetSum:\n",
        "                return True\n",
        "\n",
        "            if node.right:\n",
        "                stack.append((node.right, val+node.right.val))\n",
        "            if node.left:\n",
        "                stack.append((node.left, val+node.left.val))\n",
        "\n",
        "\n",
        "        return False"
      ],
      "metadata": {
        "id": "5uQlywpIMQgq"
      },
      "execution_count": null,
      "outputs": []
    },
    {
      "cell_type": "markdown",
      "source": [
        "## 543. Diameter of Binary Tree"
      ],
      "metadata": {
        "id": "8ZX29wQrYn3D"
      }
    },
    {
      "cell_type": "code",
      "source": [
        "# Iterative Solution\n",
        "\n",
        "class Solution(object):\n",
        "    def diameterOfBinaryTree(self, root):\n",
        "        stack = [(root, False)]\n",
        "        max_height_dict = {}\n",
        "        diameter = 0\n",
        "\n",
        "        while stack:\n",
        "            node, visited = stack.pop()\n",
        "\n",
        "            if not visited:\n",
        "                stack.append((node, True))\n",
        "                if node.left:\n",
        "                    stack.append((node.left, False))\n",
        "                if node.right:\n",
        "                    stack.append((node.right, False))\n",
        "\n",
        "            else:\n",
        "                if node.left is None:\n",
        "                    left_height = 0\n",
        "                else:\n",
        "                    left_height = max_height_dict.pop(node.left)\n",
        "\n",
        "                if node.right is None:\n",
        "                    right_height = 0\n",
        "                else:\n",
        "                    right_height = max_height_dict.pop(node.right)\n",
        "\n",
        "                diameter = max(diameter, left_height+right_height)\n",
        "                max_height_dict[node] = max(left_height, right_height) + 1\n",
        "\n",
        "        return diameter\n",
        "\n",
        "\n",
        "# Recursive Solution (Easier to understand)\n",
        "\n",
        "class Solution(object):\n",
        "    def diameterOfBinaryTree(self, root):\n",
        "        self.diameter = 0\n",
        "\n",
        "        def depth(root):\n",
        "            if not root:\n",
        "                return 0\n",
        "\n",
        "            left_depth = depth(root.left)\n",
        "            right_depth = depth(root.right)\n",
        "\n",
        "            self.diameter = max(self.diameter, left_depth+right_depth)\n",
        "\n",
        "            return 1+max(left_depth, right_depth)\n",
        "\n",
        "        depth(root)\n",
        "\n",
        "        return self.diameter"
      ],
      "metadata": {
        "id": "wFFHm3tOYn9u"
      },
      "execution_count": null,
      "outputs": []
    },
    {
      "cell_type": "markdown",
      "source": [
        "# Extra Important Questions"
      ],
      "metadata": {
        "id": "y8QJb1fe_bq-"
      }
    },
    {
      "cell_type": "markdown",
      "source": [
        "## 347. Top K Frequent Elements"
      ],
      "metadata": {
        "id": "s7QRzjrP_by8"
      }
    },
    {
      "cell_type": "code",
      "source": [
        "# Concept of Dictionary\n",
        "\n",
        "class Solution(object):\n",
        "    def topKFrequent(self, nums, k):\n",
        "        count_dict = {}\n",
        "\n",
        "        freq = [[] for i in range(len(nums)+1)]\n",
        "\n",
        "        for num in nums:\n",
        "            if num not in count_dict:\n",
        "                count_dict[num] = 0\n",
        "\n",
        "            count_dict[num] += 1\n",
        "\n",
        "        for num, count in count_dict.items():\n",
        "            freq[count].append(num)\n",
        "\n",
        "        res = []\n",
        "        for i in range(len(freq)-1, 0, -1):\n",
        "            for n in freq[i]:\n",
        "                res.append(n)\n",
        "                if len(res) == k:\n",
        "                    return res"
      ],
      "metadata": {
        "id": "yYWCFLEZ_b-9"
      },
      "execution_count": null,
      "outputs": []
    },
    {
      "cell_type": "markdown",
      "source": [
        "## 49. Group Anagrams"
      ],
      "metadata": {
        "id": "q8XVuw02Lque"
      }
    },
    {
      "cell_type": "code",
      "source": [
        "# Concept of Dictionaries and String Manipulation\n",
        "\n",
        "class Solution(object):\n",
        "    def groupAnagrams(self, strs):\n",
        "\n",
        "        groups = defaultdict(list)\n",
        "\n",
        "        for word in strs:\n",
        "            key = ''.join(sorted(word))\n",
        "            groups[key].append(word)\n",
        "\n",
        "        return list(groups.values())"
      ],
      "metadata": {
        "id": "dk1cr4sXLq06"
      },
      "execution_count": null,
      "outputs": []
    },
    {
      "cell_type": "markdown",
      "source": [
        "## 242. Valid Anagram"
      ],
      "metadata": {
        "id": "7s5gCoU4PQXl"
      }
    },
    {
      "cell_type": "code",
      "source": [
        "class Solution(object):\n",
        "    def isAnagram(self, s, t):\n",
        "\n",
        "        if len(s) != len(t):\n",
        "            return False\n",
        "\n",
        "        dict_s = defaultdict(int)\n",
        "        dict_t = defaultdict(int)\n",
        "\n",
        "        for i in range(len(s)):\n",
        "            dict_s[s[i]] += 1\n",
        "            dict_t[t[i]] += 1\n",
        "\n",
        "        return dict_s == dict_t"
      ],
      "metadata": {
        "id": "bdhupXggPQc1"
      },
      "execution_count": null,
      "outputs": []
    },
    {
      "cell_type": "markdown",
      "source": [
        "## 3. Longest Substring Without Repeating Characters"
      ],
      "metadata": {
        "id": "t-BeAufdPU2_"
      }
    },
    {
      "cell_type": "code",
      "source": [
        "class Solution(object):\n",
        "    def lengthOfLongestSubstring(self, s):\n",
        "        last = {}           # char -> most recent index seen\n",
        "        left = 0            # left bound of current window\n",
        "        best = 0\n",
        "\n",
        "        for right, ch in enumerate(s):\n",
        "            # If we've seen ch and it's inside the current window,\n",
        "            # move left just past its previous occurrence.\n",
        "            if ch in last and last[ch] >= left:\n",
        "                left = last[ch] + 1\n",
        "\n",
        "            last[ch] = right            # update most recent index for ch\n",
        "            best = max(best, right - left + 1)\n",
        "\n",
        "        return best"
      ],
      "metadata": {
        "id": "OU6D4a9aPU9_"
      },
      "execution_count": null,
      "outputs": []
    },
    {
      "cell_type": "markdown",
      "source": [
        "## 11. Container With Most Water"
      ],
      "metadata": {
        "id": "poYx4CkFeGNI"
      }
    },
    {
      "cell_type": "code",
      "source": [
        "class Solution(object):\n",
        "    def maxArea(self, height):\n",
        "\n",
        "        left, right = 0, len(height)-1\n",
        "        best_area = 0\n",
        "\n",
        "        while left<right:\n",
        "            width = right-left\n",
        "            if height[left] < height[right]:\n",
        "                area = width * height[left]\n",
        "                best_area = max(best_area, area)\n",
        "                left+=1\n",
        "            else:\n",
        "                area = width * height[right]\n",
        "                best_area = max(best_area, area)\n",
        "                right-=1\n",
        "\n",
        "        return best_area"
      ],
      "metadata": {
        "id": "NQDJ9KRZeGUX"
      },
      "execution_count": null,
      "outputs": []
    },
    {
      "cell_type": "markdown",
      "source": [
        "## 33. Search in Rotated Sorted Array"
      ],
      "metadata": {
        "id": "6LZrbEtZKugs"
      }
    },
    {
      "cell_type": "code",
      "source": [
        "class Solution(object):\n",
        "    def search(self, nums, target):\n",
        "        n = len(nums)\n",
        "        left = 0\n",
        "        right = n-1\n",
        "\n",
        "        while left<=right:\n",
        "            mid = left + (right-left)//2\n",
        "            if nums[mid] == target:\n",
        "                return mid\n",
        "\n",
        "            if nums[left] <= nums[mid]:\n",
        "                if nums[left] <= target < nums[mid]:\n",
        "                    right = mid-1\n",
        "                else:\n",
        "                    left = mid+1\n",
        "\n",
        "            else:\n",
        "                if nums[mid] < target <= nums[right]:\n",
        "                    left = mid+1\n",
        "                else:\n",
        "                    right = mid-1\n",
        "\n",
        "        return -1"
      ],
      "metadata": {
        "id": "g4drUhC6Kumm"
      },
      "execution_count": null,
      "outputs": []
    },
    {
      "cell_type": "markdown",
      "source": [
        "## 34. Find First and Last Position of Element in Sorted Array"
      ],
      "metadata": {
        "id": "apyS3V1T9iFs"
      }
    },
    {
      "cell_type": "code",
      "source": [
        "class Solution(object):\n",
        "    def searchRange(self, nums, target):\n",
        "        def search_left():\n",
        "            l = 0\n",
        "            r = len(nums)-1\n",
        "\n",
        "            ans = -1\n",
        "\n",
        "            while l<=r:\n",
        "                m = l+(r-l)//2\n",
        "\n",
        "                if nums[m] < target:\n",
        "                    l = m+1\n",
        "                else:\n",
        "                    if nums[m] == target:\n",
        "                        ans = m\n",
        "                    r = m-1\n",
        "\n",
        "            return ans\n",
        "\n",
        "        def search_right():\n",
        "            l = 0\n",
        "            r = len(nums)-1\n",
        "\n",
        "            ans = -1\n",
        "\n",
        "            while l<=r:\n",
        "                m = l+(r-l)//2\n",
        "\n",
        "                if nums[m] > target:\n",
        "                    r = m-1\n",
        "                else:\n",
        "                    if nums[m] == target:\n",
        "                        ans = m\n",
        "                    l = m+1\n",
        "\n",
        "            return ans\n",
        "\n",
        "        return [search_left(), search_right()]"
      ],
      "metadata": {
        "id": "vcMJpZ-b9iN0"
      },
      "execution_count": null,
      "outputs": []
    },
    {
      "cell_type": "markdown",
      "source": [
        "## 56. Merge Intervals"
      ],
      "metadata": {
        "id": "BX6tfS0vAOhd"
      }
    },
    {
      "cell_type": "code",
      "source": [
        "class Solution(object):\n",
        "    def merge(self, intervals):\n",
        "\n",
        "        intervals.sort(key=lambda x:x[0])\n",
        "        merged = []\n",
        "\n",
        "        for interval in intervals:\n",
        "            if not merged or merged[-1][1] < interval[0]:\n",
        "                merged.append(interval)\n",
        "            else:\n",
        "                merged[-1][1] = max(merged[-1][1], interval[1])\n",
        "\n",
        "        return merged"
      ],
      "metadata": {
        "id": "yZ7Ohy5VAOpw"
      },
      "execution_count": null,
      "outputs": []
    },
    {
      "cell_type": "markdown",
      "source": [
        "## 57. Insert Interval"
      ],
      "metadata": {
        "id": "4ZTzYwi4HtSP"
      }
    },
    {
      "cell_type": "code",
      "source": [
        "class Solution(object):\n",
        "    def insert(self, intervals, newInterval):\n",
        "\n",
        "        res = []\n",
        "        i = 0\n",
        "        n = len(intervals)\n",
        "        s, e = newInterval\n",
        "\n",
        "        # add all the intervals before the new interval\n",
        "        while i<n and intervals[i][1] < s:\n",
        "            res.append(intervals[i])\n",
        "            i+=1\n",
        "\n",
        "        # merge all intervals that overlap new interval\n",
        "        while i<n and intervals[i][0]<=e:\n",
        "            s = min(intervals[i][0], s)\n",
        "            e = max(intervals[i][1], e)\n",
        "            i+=1\n",
        "        res.append([s, e])\n",
        "\n",
        "\n",
        "        # add rest intervals\n",
        "        while i<n:\n",
        "            res.append(intervals[i])\n",
        "            i+=1\n",
        "\n",
        "        return res"
      ],
      "metadata": {
        "id": "U_AVaN-jHtcQ"
      },
      "execution_count": null,
      "outputs": []
    },
    {
      "cell_type": "markdown",
      "source": [
        "## 146. LRU Cache"
      ],
      "metadata": {
        "id": "i-25eYB-Htkl"
      }
    },
    {
      "cell_type": "code",
      "source": [
        "class Node:\n",
        "    def __init__(self, key=0, val=0):\n",
        "        self.key = key\n",
        "        self.val = val\n",
        "        self.prev = None\n",
        "        self.next = None\n",
        "\n",
        "class LRUCache(object):\n",
        "\n",
        "    def __init__(self, capacity):\n",
        "        \"\"\"\n",
        "        :type capacity: int\n",
        "        \"\"\"\n",
        "        self.cap = capacity\n",
        "        self.cache = {}\n",
        "\n",
        "        self.head = Node()\n",
        "        self.tail = Node()\n",
        "        self.head.next = self.tail\n",
        "        self.tail.prev = self.head\n",
        "\n",
        "    def _remove(self, node):\n",
        "        \"\"\"Detach a node from the linked list\"\"\"\n",
        "        p = node.prev\n",
        "        n = node.next\n",
        "        p.next = n\n",
        "        n.prev = p\n",
        "\n",
        "    def _insertFront(self, node):\n",
        "        \"\"\"Insert node right after head (most recently used)\"\"\"\n",
        "        node.prev = self.head\n",
        "        node.next = self.head.next\n",
        "        self.head.next.prev = node\n",
        "        self.head.next = node\n",
        "\n",
        "    def get(self, key):\n",
        "        \"\"\"\n",
        "        :type key: int\n",
        "        :rtype: int\n",
        "        \"\"\"\n",
        "        if key not in self.cache:\n",
        "            return -1\n",
        "        node = self.cache[key]\n",
        "        # move to front (MRU)\n",
        "        self._remove(node)\n",
        "        self._insertFront(node)\n",
        "        return node.val\n",
        "\n",
        "\n",
        "    def put(self, key, value):\n",
        "        \"\"\"\n",
        "        :type key: int\n",
        "        :type value: int\n",
        "        :rtype: None\n",
        "        \"\"\"\n",
        "        if key in self.cache:\n",
        "            node = self.cache[key]\n",
        "            node.val = value\n",
        "            self._remove(node)\n",
        "            self._insertFront(node)\n",
        "        else:\n",
        "            if len(self.cache) == self.cap:\n",
        "                # evict least recently used (before tail)\n",
        "                lru = self.tail.prev\n",
        "                self._remove(lru)\n",
        "                del self.cache[lru.key]\n",
        "\n",
        "            node = Node(key, value)\n",
        "            self.cache[key] = node\n",
        "            self._insertFront(node)\n",
        "\n",
        "# Your LRUCache object will be instantiated and called as such:\n",
        "# obj = LRUCache(capacity)\n",
        "# param_1 = obj.get(key)\n",
        "# obj.put(key,value)"
      ],
      "metadata": {
        "id": "veZesM21HtqA"
      },
      "execution_count": null,
      "outputs": []
    }
  ]
}
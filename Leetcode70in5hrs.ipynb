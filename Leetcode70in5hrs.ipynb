{
  "nbformat": 4,
  "nbformat_minor": 0,
  "metadata": {
    "colab": {
      "provenance": [],
      "authorship_tag": "ABX9TyMcNL4ZQOUDvYa7LqOswRfK",
      "include_colab_link": true
    },
    "kernelspec": {
      "name": "python3",
      "display_name": "Python 3"
    },
    "language_info": {
      "name": "python"
    }
  },
  "cells": [
    {
      "cell_type": "markdown",
      "metadata": {
        "id": "view-in-github",
        "colab_type": "text"
      },
      "source": [
        "<a href=\"https://colab.research.google.com/github/hgarg97/LeetCode_Python/blob/main/Leetcode70in5hrs.ipynb\" target=\"_parent\"><img src=\"https://colab.research.google.com/assets/colab-badge.svg\" alt=\"Open In Colab\"/></a>"
      ]
    },
    {
      "cell_type": "markdown",
      "source": [
        "# 70 Leetcode Problems in 5+ Hours\n",
        "\n",
        "## https://www.youtube.com/watch?v=lvO88XxNAzs"
      ],
      "metadata": {
        "id": "E3WX8i6I4fvs"
      }
    },
    {
      "cell_type": "markdown",
      "source": [
        "# Arrays"
      ],
      "metadata": {
        "id": "om5Y36z56Wbb"
      }
    },
    {
      "cell_type": "markdown",
      "source": [
        "## 217. Contains Duplicate"
      ],
      "metadata": {
        "id": "1uRUQX-u48EL"
      }
    },
    {
      "cell_type": "code",
      "source": [
        "class Solution(object):\n",
        "    def containsDuplicate(self, nums):\n",
        "        num_set = set(nums)\n",
        "\n",
        "        if len(num_set)!=len(nums):\n",
        "            return True\n",
        "\n",
        "        return False"
      ],
      "metadata": {
        "id": "S_CWyOOl48OV"
      },
      "execution_count": null,
      "outputs": []
    },
    {
      "cell_type": "markdown",
      "source": [
        "## 268. Missing Number"
      ],
      "metadata": {
        "id": "jIyBXum948fw"
      }
    },
    {
      "cell_type": "code",
      "source": [
        "class Solution(object):\n",
        "    def missingNumber(self, nums):\n",
        "\n",
        "        n = len(nums)\n",
        "        expected_sum = n*(n+1) // 2\n",
        "\n",
        "        actual_sum = sum(nums)\n",
        "\n",
        "        return expected_sum - actual_sum"
      ],
      "metadata": {
        "id": "ZIkYonWY48pX"
      },
      "execution_count": null,
      "outputs": []
    },
    {
      "cell_type": "markdown",
      "source": [
        "## 448. Find All Numbers Disappeared in an Array"
      ],
      "metadata": {
        "id": "u4jKXDHG48zC"
      }
    },
    {
      "cell_type": "code",
      "source": [
        "class Solution(object):\n",
        "    def findDisappearedNumbers(self, nums):\n",
        "\n",
        "        nums_set = set(nums)\n",
        "        res = []\n",
        "\n",
        "        for i in range(1, len(nums)+1):\n",
        "            if i not in nums_set:\n",
        "                res.append(i)\n",
        "\n",
        "        return res"
      ],
      "metadata": {
        "id": "QraFUbLZ4861"
      },
      "execution_count": null,
      "outputs": []
    },
    {
      "cell_type": "markdown",
      "source": [
        "## 1. Two Sum"
      ],
      "metadata": {
        "id": "5nhfzfxP49GF"
      }
    },
    {
      "cell_type": "code",
      "source": [
        "class Solution(object):\n",
        "    def twoSum(self, nums, target):\n",
        "\n",
        "         hash_set = set()\n",
        "\n",
        "         for i in range(len(nums)):\n",
        "            val = target - nums[i]\n",
        "            if val in hash_set:\n",
        "                return [i, nums.index(val)]\n",
        "            else:\n",
        "                hash_set.add(nums[i])"
      ],
      "metadata": {
        "id": "HNNdVGDO49On"
      },
      "execution_count": null,
      "outputs": []
    },
    {
      "cell_type": "markdown",
      "source": [
        "## 1365. How Many Numbers Are Smaller Than the Current Number"
      ],
      "metadata": {
        "id": "r555p0L64pmY"
      }
    },
    {
      "cell_type": "code",
      "source": [
        "class Solution(object):\n",
        "    def smallerNumbersThanCurrent(self, nums):\n",
        "\n",
        "        sorted_nums = sorted(nums)\n",
        "        res = []\n",
        "\n",
        "        d = {}\n",
        "\n",
        "        for i in range(len(sorted_nums)):\n",
        "            if sorted_nums[i] not in d:\n",
        "                d[sorted_nums[i]] = i\n",
        "\n",
        "        for num in nums:\n",
        "            res.append(d[num])\n",
        "\n",
        "        return res"
      ],
      "metadata": {
        "id": "mGBZ_eFk4oaK"
      },
      "execution_count": null,
      "outputs": []
    },
    {
      "cell_type": "markdown",
      "source": [
        "## 1266. Minimum Time Visiting All Points"
      ],
      "metadata": {
        "id": "_IcirnhdFRHU"
      }
    },
    {
      "cell_type": "code",
      "source": [
        "class Solution(object):\n",
        "    def minTimeToVisitAllPoints(self, points):\n",
        "\n",
        "        n = len(points)\n",
        "        sec = 0\n",
        "\n",
        "        for i in range(n-1):\n",
        "            x1, y1 = points[i]\n",
        "            x2, y2 = points[i+1]\n",
        "\n",
        "            sec += max(abs(y2-y1), abs(x2-x1))\n",
        "\n",
        "        return sec"
      ],
      "metadata": {
        "id": "BmutNDDwFRPN"
      },
      "execution_count": null,
      "outputs": []
    },
    {
      "cell_type": "markdown",
      "source": [
        "## 54. Spiral Matrix"
      ],
      "metadata": {
        "id": "siC1KrmrtWny"
      }
    },
    {
      "cell_type": "code",
      "source": [
        "class Solution(object):\n",
        "    def spiralOrder(self, matrix):\n",
        "        res = []\n",
        "\n",
        "        while matrix:\n",
        "            # 1. Add first row/list of matrix\n",
        "            res+=matrix.pop(0)\n",
        "\n",
        "            # 2. Add last element of all lists in order\n",
        "            if matrix and matrix[0]:\n",
        "                for row in matrix:\n",
        "                    res.append(row.pop(-1))\n",
        "\n",
        "            # 3. Now add the last row in reverse order\n",
        "            if matrix:\n",
        "                res+=matrix.pop()[::-1]\n",
        "\n",
        "            # 4. Append first element of all rows in reverse\n",
        "            if matrix and matrix[0]:\n",
        "                for row in matrix[::-1]:\n",
        "                    res.append(row.pop(0))\n",
        "\n",
        "        return res"
      ],
      "metadata": {
        "id": "BWm587AqtWws"
      },
      "execution_count": null,
      "outputs": []
    },
    {
      "cell_type": "markdown",
      "source": [
        "## 200. Number of Islands"
      ],
      "metadata": {
        "id": "zX98YfHWXxob"
      }
    },
    {
      "cell_type": "code",
      "source": [
        "class Solution(object):\n",
        "    def numIslands(self, grid):\n",
        "        if not grid:\n",
        "            return 0\n",
        "\n",
        "        def bfs(r, c):\n",
        "            q = deque()\n",
        "            visited.add((r,c))\n",
        "            q.append((r,c))\n",
        "\n",
        "            while q:\n",
        "                row, col = q.popleft()\n",
        "                directions = [[1, 0], [-1, 0], [0, 1], [0, -1]]\n",
        "\n",
        "                for dr, dc in directions:\n",
        "                    r, c = row+dr, col+dc\n",
        "\n",
        "                    if (r in range(rows) and c in range(cols) and grid[r][c]=='1' and (r, c) not in visited):\n",
        "                        q.append((r, c))\n",
        "                        visited.add((r, c))\n",
        "\n",
        "\n",
        "        rows = len(grid)\n",
        "        cols = len(grid[0])\n",
        "        count = 0\n",
        "        visited = set()\n",
        "\n",
        "        for r in range(rows):\n",
        "            for c in range(cols):\n",
        "                if grid[r][c] == '1' and (r, c) not in visited:\n",
        "                    bfs(r, c)\n",
        "                    count+=1\n",
        "\n",
        "        return count"
      ],
      "metadata": {
        "id": "cn4Jj32dXxvt"
      },
      "execution_count": null,
      "outputs": []
    },
    {
      "cell_type": "markdown",
      "source": [
        "# Arrays Two Pointers"
      ],
      "metadata": {
        "id": "_KNKHjSMf6yp"
      }
    },
    {
      "cell_type": "markdown",
      "source": [
        "## 121. Best Time to Buy and Sell Stock"
      ],
      "metadata": {
        "id": "hjEb3_GHf63m"
      }
    },
    {
      "cell_type": "code",
      "source": [
        "class Solution(object):\n",
        "    def maxProfit(self, prices):\n",
        "\n",
        "        maxProf = 0\n",
        "        l=0\n",
        "        r=1\n",
        "        n=len(prices)\n",
        "\n",
        "        while r!=n:\n",
        "            if prices[l] < prices[r]:\n",
        "                prof = prices[r]-prices[l]\n",
        "                maxProf = max(maxProf, prof)\n",
        "\n",
        "            else:\n",
        "                l=r\n",
        "\n",
        "            r+=1\n",
        "\n",
        "        return maxProf"
      ],
      "metadata": {
        "id": "IWwMWTo2f7AM"
      },
      "execution_count": null,
      "outputs": []
    },
    {
      "cell_type": "markdown",
      "source": [
        "## 977. Squares of a Sorted Array"
      ],
      "metadata": {
        "id": "BgaM0P-ICEyy"
      }
    },
    {
      "cell_type": "code",
      "source": [
        "class Solution(object):\n",
        "    def sortedSquares(self, nums):\n",
        "        res = deque()\n",
        "        l=0\n",
        "        r=len(nums)-1\n",
        "\n",
        "        while(l<=r):\n",
        "            left, right = abs(nums[l]), abs(nums[r])\n",
        "            if left>right:\n",
        "                res.appendleft(left*left)\n",
        "                l+=1\n",
        "            else:\n",
        "                res.appendleft(right*right)\n",
        "                r-=1\n",
        "\n",
        "        return list(res)"
      ],
      "metadata": {
        "id": "K_vwJHXaCE4A"
      },
      "execution_count": null,
      "outputs": []
    },
    {
      "cell_type": "markdown",
      "source": [
        "## 167. Two Sum II - Input Array Is Sorted"
      ],
      "metadata": {
        "id": "Piqe7LxIXVUI"
      }
    },
    {
      "cell_type": "code",
      "source": [
        "class Solution(object):\n",
        "    def twoSum(self, numbers, target):\n",
        "        n = len(numbers)\n",
        "        i = 0\n",
        "        j = n-1\n",
        "\n",
        "        while(i<j):\n",
        "            nums1 = numbers[i]\n",
        "            nums2 = numbers[j]\n",
        "\n",
        "            if nums1+nums2 == target:\n",
        "                return [i+1, j+1]\n",
        "            elif nums1+nums2 > target:\n",
        "                j-=1\n",
        "            else:\n",
        "                i+=1"
      ],
      "metadata": {
        "id": "ME7PGAWCXVej"
      },
      "execution_count": null,
      "outputs": []
    },
    {
      "cell_type": "markdown",
      "source": [
        "## 15. 3Sum"
      ],
      "metadata": {
        "id": "f9kNeIdTkujA"
      }
    },
    {
      "cell_type": "code",
      "source": [
        "class Solution(object):\n",
        "    def threeSum(self, nums):\n",
        "\n",
        "        res = []\n",
        "\n",
        "        nums.sort()\n",
        "\n",
        "        n = len(nums)\n",
        "\n",
        "        for i in range(n-1):\n",
        "            if i>0:\n",
        "                if nums[i]==nums[i-1]:\n",
        "                    continue\n",
        "            j=i+1\n",
        "            k=n-1\n",
        "            new_target = 0 - nums[i]\n",
        "            while j<k:\n",
        "                if nums[j]+nums[k] == new_target:\n",
        "                    res.append([nums[i], nums[j], nums[k]])\n",
        "                    j+=1\n",
        "                    while j<k and (nums[j]==nums[j-1]):\n",
        "                        j+=1\n",
        "\n",
        "                elif nums[j]+nums[k] > new_target:\n",
        "                    k-=1\n",
        "                else:\n",
        "                    j+=1\n",
        "\n",
        "        return res"
      ],
      "metadata": {
        "id": "IUWu8bhqkvHn"
      },
      "execution_count": null,
      "outputs": []
    },
    {
      "cell_type": "markdown",
      "source": [
        "## 845. Longest Mountain in Array"
      ],
      "metadata": {
        "id": "4dWlKPhzvlGA"
      }
    },
    {
      "cell_type": "code",
      "source": [
        "class Solution(object):\n",
        "    def longestMountain(self, arr):\n",
        "        n = len(arr)\n",
        "\n",
        "        count = 0\n",
        "\n",
        "        for i in range(1, n-1):\n",
        "            if arr[i-1] < arr[i] > arr[i+1]:\n",
        "                l = r = i\n",
        "                while l>0 and arr[l]>arr[l-1]:\n",
        "                    l-=1\n",
        "                while r<(n-1) and arr[r] > arr[r+1]:\n",
        "                    r+=1\n",
        "\n",
        "                count = max(count, r-l+1)\n",
        "\n",
        "        return count"
      ],
      "metadata": {
        "id": "4efN-8R6vlOU"
      },
      "execution_count": null,
      "outputs": []
    },
    {
      "cell_type": "markdown",
      "source": [
        "# Arrays: Sliding Window"
      ],
      "metadata": {
        "id": "PRyUFIeWv21o"
      }
    },
    {
      "cell_type": "markdown",
      "source": [
        "## 219. Contains Duplicate II"
      ],
      "metadata": {
        "id": "vAUJtQKn1UM1"
      }
    },
    {
      "cell_type": "code",
      "source": [
        "class Solution(object):\n",
        "    def containsNearbyDuplicate(self, nums, k):\n",
        "        # Using Set\n",
        "        seen = set()\n",
        "\n",
        "        for i in range(len(nums)):\n",
        "            if nums[i] in seen:\n",
        "                return True\n",
        "            seen.add(nums[i])\n",
        "            if len(seen)>k:\n",
        "                seen.remove(nums[i-k])\n",
        "\n",
        "        return False\n",
        "\n",
        "\n",
        "        # Using Dict\n",
        "        # seen = defaultdict()\n",
        "\n",
        "        # for i in range(len(nums)):\n",
        "        #     if nums[i] in seen and i-seen[nums[i]] <= k:\n",
        "        #         return True\n",
        "        #     seen[nums[i]] = i\n",
        "\n",
        "        # return False"
      ],
      "metadata": {
        "id": "gt1Lcd1Z1Tmx"
      },
      "execution_count": null,
      "outputs": []
    },
    {
      "cell_type": "markdown",
      "source": [
        "## 1200. Minimum Absolute Difference"
      ],
      "metadata": {
        "id": "kw59wmebHRiH"
      }
    },
    {
      "cell_type": "code",
      "source": [
        "class Solution(object):\n",
        "    def minimumAbsDifference(self, arr):\n",
        "\n",
        "        arr.sort()\n",
        "\n",
        "        n = len(arr)\n",
        "        minDiff = 1000\n",
        "        res = []\n",
        "\n",
        "        for i in range(n-1):\n",
        "            minDiff = min(minDiff, abs(arr[i]-arr[i+1]))\n",
        "\n",
        "        for i in range(1, n):\n",
        "            if arr[i]-arr[i-1]==minDiff:\n",
        "                res.append([arr[i-1], arr[i]])\n",
        "\n",
        "        return res"
      ],
      "metadata": {
        "id": "74ErZZ7_HRoC"
      },
      "execution_count": null,
      "outputs": []
    }
  ]
}
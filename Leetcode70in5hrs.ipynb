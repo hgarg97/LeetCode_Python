{
  "nbformat": 4,
  "nbformat_minor": 0,
  "metadata": {
    "colab": {
      "provenance": [],
      "authorship_tag": "ABX9TyNK3hsaD7e+SbA6B3LxHkWg",
      "include_colab_link": true
    },
    "kernelspec": {
      "name": "python3",
      "display_name": "Python 3"
    },
    "language_info": {
      "name": "python"
    }
  },
  "cells": [
    {
      "cell_type": "markdown",
      "metadata": {
        "id": "view-in-github",
        "colab_type": "text"
      },
      "source": [
        "<a href=\"https://colab.research.google.com/github/hgarg97/LeetCode_Python/blob/main/Leetcode70in5hrs.ipynb\" target=\"_parent\"><img src=\"https://colab.research.google.com/assets/colab-badge.svg\" alt=\"Open In Colab\"/></a>"
      ]
    },
    {
      "cell_type": "markdown",
      "source": [
        "# 70 Leetcode Problems in 5+ Hours\n",
        "\n",
        "## https://www.youtube.com/watch?v=lvO88XxNAzs"
      ],
      "metadata": {
        "id": "E3WX8i6I4fvs"
      }
    },
    {
      "cell_type": "markdown",
      "source": [
        "# Arrays"
      ],
      "metadata": {
        "id": "om5Y36z56Wbb"
      }
    },
    {
      "cell_type": "markdown",
      "source": [
        "## 217. Contains Duplicate"
      ],
      "metadata": {
        "id": "1uRUQX-u48EL"
      }
    },
    {
      "cell_type": "code",
      "source": [
        "class Solution(object):\n",
        "    def containsDuplicate(self, nums):\n",
        "        num_set = set(nums)\n",
        "\n",
        "        if len(num_set)!=len(nums):\n",
        "            return True\n",
        "\n",
        "        return False"
      ],
      "metadata": {
        "id": "S_CWyOOl48OV"
      },
      "execution_count": null,
      "outputs": []
    },
    {
      "cell_type": "markdown",
      "source": [
        "## 268. Missing Number"
      ],
      "metadata": {
        "id": "jIyBXum948fw"
      }
    },
    {
      "cell_type": "code",
      "source": [
        "class Solution(object):\n",
        "    def missingNumber(self, nums):\n",
        "\n",
        "        n = len(nums)\n",
        "        expected_sum = n*(n+1) // 2\n",
        "\n",
        "        actual_sum = sum(nums)\n",
        "\n",
        "        return expected_sum - actual_sum"
      ],
      "metadata": {
        "id": "ZIkYonWY48pX"
      },
      "execution_count": null,
      "outputs": []
    },
    {
      "cell_type": "markdown",
      "source": [
        "## 448. Find All Numbers Disappeared in an Array"
      ],
      "metadata": {
        "id": "u4jKXDHG48zC"
      }
    },
    {
      "cell_type": "code",
      "source": [
        "class Solution(object):\n",
        "    def findDisappearedNumbers(self, nums):\n",
        "\n",
        "        nums_set = set(nums)\n",
        "        res = []\n",
        "\n",
        "        for i in range(1, len(nums)+1):\n",
        "            if i not in nums_set:\n",
        "                res.append(i)\n",
        "\n",
        "        return res"
      ],
      "metadata": {
        "id": "QraFUbLZ4861"
      },
      "execution_count": null,
      "outputs": []
    },
    {
      "cell_type": "markdown",
      "source": [
        "## 1. Two Sum"
      ],
      "metadata": {
        "id": "5nhfzfxP49GF"
      }
    },
    {
      "cell_type": "code",
      "source": [
        "class Solution(object):\n",
        "    def twoSum(self, nums, target):\n",
        "\n",
        "         hash_set = set()\n",
        "\n",
        "         for i in range(len(nums)):\n",
        "            val = target - nums[i]\n",
        "            if val in hash_set:\n",
        "                return [i, nums.index(val)]\n",
        "            else:\n",
        "                hash_set.add(nums[i])"
      ],
      "metadata": {
        "id": "HNNdVGDO49On"
      },
      "execution_count": null,
      "outputs": []
    },
    {
      "cell_type": "markdown",
      "source": [
        "## 1365. How Many Numbers Are Smaller Than the Current Number"
      ],
      "metadata": {
        "id": "r555p0L64pmY"
      }
    },
    {
      "cell_type": "code",
      "source": [
        "class Solution(object):\n",
        "    def smallerNumbersThanCurrent(self, nums):\n",
        "\n",
        "        sorted_nums = sorted(nums)\n",
        "        res = []\n",
        "\n",
        "        d = {}\n",
        "\n",
        "        for i in range(len(sorted_nums)):\n",
        "            if sorted_nums[i] not in d:\n",
        "                d[sorted_nums[i]] = i\n",
        "\n",
        "        for num in nums:\n",
        "            res.append(d[num])\n",
        "\n",
        "        return res"
      ],
      "metadata": {
        "id": "mGBZ_eFk4oaK"
      },
      "execution_count": null,
      "outputs": []
    }
  ]
}
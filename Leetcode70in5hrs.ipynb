{
  "nbformat": 4,
  "nbformat_minor": 0,
  "metadata": {
    "colab": {
      "provenance": [],
      "authorship_tag": "ABX9TyPRJn41Hnt9E49gf1fTCAt8",
      "include_colab_link": true
    },
    "kernelspec": {
      "name": "python3",
      "display_name": "Python 3"
    },
    "language_info": {
      "name": "python"
    }
  },
  "cells": [
    {
      "cell_type": "markdown",
      "metadata": {
        "id": "view-in-github",
        "colab_type": "text"
      },
      "source": [
        "<a href=\"https://colab.research.google.com/github/hgarg97/LeetCode_Python/blob/main/Leetcode70in5hrs.ipynb\" target=\"_parent\"><img src=\"https://colab.research.google.com/assets/colab-badge.svg\" alt=\"Open In Colab\"/></a>"
      ]
    },
    {
      "cell_type": "markdown",
      "source": [
        "# 70 Leetcode Problems in 5+ Hours\n",
        "\n",
        "## https://www.youtube.com/watch?v=lvO88XxNAzs"
      ],
      "metadata": {
        "id": "E3WX8i6I4fvs"
      }
    },
    {
      "cell_type": "markdown",
      "source": [
        "# Arrays"
      ],
      "metadata": {
        "id": "om5Y36z56Wbb"
      }
    },
    {
      "cell_type": "markdown",
      "source": [
        "## 217. Contains Duplicate"
      ],
      "metadata": {
        "id": "1uRUQX-u48EL"
      }
    },
    {
      "cell_type": "code",
      "source": [
        "class Solution(object):\n",
        "    def containsDuplicate(self, nums):\n",
        "        num_set = set(nums)\n",
        "\n",
        "        if len(num_set)!=len(nums):\n",
        "            return True\n",
        "\n",
        "        return False"
      ],
      "metadata": {
        "id": "S_CWyOOl48OV"
      },
      "execution_count": null,
      "outputs": []
    },
    {
      "cell_type": "markdown",
      "source": [
        "## 268. Missing Number"
      ],
      "metadata": {
        "id": "jIyBXum948fw"
      }
    },
    {
      "cell_type": "code",
      "source": [
        "class Solution(object):\n",
        "    def missingNumber(self, nums):\n",
        "\n",
        "        n = len(nums)\n",
        "        expected_sum = n*(n+1) // 2\n",
        "\n",
        "        actual_sum = sum(nums)\n",
        "\n",
        "        return expected_sum - actual_sum"
      ],
      "metadata": {
        "id": "ZIkYonWY48pX"
      },
      "execution_count": null,
      "outputs": []
    },
    {
      "cell_type": "markdown",
      "source": [
        "## 448. Find All Numbers Disappeared in an Array"
      ],
      "metadata": {
        "id": "u4jKXDHG48zC"
      }
    },
    {
      "cell_type": "code",
      "source": [
        "class Solution(object):\n",
        "    def findDisappearedNumbers(self, nums):\n",
        "\n",
        "        nums_set = set(nums)\n",
        "        res = []\n",
        "\n",
        "        for i in range(1, len(nums)+1):\n",
        "            if i not in nums_set:\n",
        "                res.append(i)\n",
        "\n",
        "        return res"
      ],
      "metadata": {
        "id": "QraFUbLZ4861"
      },
      "execution_count": null,
      "outputs": []
    },
    {
      "cell_type": "markdown",
      "source": [
        "## 1. Two Sum"
      ],
      "metadata": {
        "id": "5nhfzfxP49GF"
      }
    },
    {
      "cell_type": "code",
      "source": [
        "class Solution(object):\n",
        "    def twoSum(self, nums, target):\n",
        "\n",
        "         hash_set = set()\n",
        "\n",
        "         for i in range(len(nums)):\n",
        "            val = target - nums[i]\n",
        "            if val in hash_set:\n",
        "                return [i, nums.index(val)]\n",
        "            else:\n",
        "                hash_set.add(nums[i])"
      ],
      "metadata": {
        "id": "HNNdVGDO49On"
      },
      "execution_count": null,
      "outputs": []
    },
    {
      "cell_type": "markdown",
      "source": [
        "## 1365. How Many Numbers Are Smaller Than the Current Number"
      ],
      "metadata": {
        "id": "r555p0L64pmY"
      }
    },
    {
      "cell_type": "code",
      "source": [
        "class Solution(object):\n",
        "    def smallerNumbersThanCurrent(self, nums):\n",
        "\n",
        "        sorted_nums = sorted(nums)\n",
        "        res = []\n",
        "\n",
        "        d = {}\n",
        "\n",
        "        for i in range(len(sorted_nums)):\n",
        "            if sorted_nums[i] not in d:\n",
        "                d[sorted_nums[i]] = i\n",
        "\n",
        "        for num in nums:\n",
        "            res.append(d[num])\n",
        "\n",
        "        return res"
      ],
      "metadata": {
        "id": "mGBZ_eFk4oaK"
      },
      "execution_count": null,
      "outputs": []
    },
    {
      "cell_type": "markdown",
      "source": [
        "## 1266. Minimum Time Visiting All Points"
      ],
      "metadata": {
        "id": "_IcirnhdFRHU"
      }
    },
    {
      "cell_type": "code",
      "source": [
        "class Solution(object):\n",
        "    def minTimeToVisitAllPoints(self, points):\n",
        "\n",
        "        n = len(points)\n",
        "        sec = 0\n",
        "\n",
        "        for i in range(n-1):\n",
        "            x1, y1 = points[i]\n",
        "            x2, y2 = points[i+1]\n",
        "\n",
        "            sec += max(abs(y2-y1), abs(x2-x1))\n",
        "\n",
        "        return sec"
      ],
      "metadata": {
        "id": "BmutNDDwFRPN"
      },
      "execution_count": null,
      "outputs": []
    },
    {
      "cell_type": "markdown",
      "source": [
        "## 54. Spiral Matrix"
      ],
      "metadata": {
        "id": "siC1KrmrtWny"
      }
    },
    {
      "cell_type": "code",
      "source": [
        "class Solution(object):\n",
        "    def spiralOrder(self, matrix):\n",
        "        res = []\n",
        "\n",
        "        while matrix:\n",
        "            # 1. Add first row/list of matrix\n",
        "            res+=matrix.pop(0)\n",
        "\n",
        "            # 2. Add last element of all lists in order\n",
        "            if matrix and matrix[0]:\n",
        "                for row in matrix:\n",
        "                    res.append(row.pop(-1))\n",
        "\n",
        "            # 3. Now add the last row in reverse order\n",
        "            if matrix:\n",
        "                res+=matrix.pop()[::-1]\n",
        "\n",
        "            # 4. Append first element of all rows in reverse\n",
        "            if matrix and matrix[0]:\n",
        "                for row in matrix[::-1]:\n",
        "                    res.append(row.pop(0))\n",
        "\n",
        "        return res"
      ],
      "metadata": {
        "id": "BWm587AqtWws"
      },
      "execution_count": null,
      "outputs": []
    },
    {
      "cell_type": "markdown",
      "source": [
        "## 200. Number of Islands"
      ],
      "metadata": {
        "id": "zX98YfHWXxob"
      }
    },
    {
      "cell_type": "code",
      "source": [
        "class Solution(object):\n",
        "    def numIslands(self, grid):\n",
        "        if not grid:\n",
        "            return 0\n",
        "\n",
        "        def bfs(r, c):\n",
        "            q = deque()\n",
        "            visited.add((r,c))\n",
        "            q.append((r,c))\n",
        "\n",
        "            while q:\n",
        "                row, col = q.popleft()\n",
        "                directions = [[1, 0], [-1, 0], [0, 1], [0, -1]]\n",
        "\n",
        "                for dr, dc in directions:\n",
        "                    r, c = row+dr, col+dc\n",
        "\n",
        "                    if (r in range(rows) and c in range(cols) and grid[r][c]=='1' and (r, c) not in visited):\n",
        "                        q.append((r, c))\n",
        "                        visited.add((r, c))\n",
        "\n",
        "\n",
        "        rows = len(grid)\n",
        "        cols = len(grid[0])\n",
        "        count = 0\n",
        "        visited = set()\n",
        "\n",
        "        for r in range(rows):\n",
        "            for c in range(cols):\n",
        "                if grid[r][c] == '1' and (r, c) not in visited:\n",
        "                    bfs(r, c)\n",
        "                    count+=1\n",
        "\n",
        "        return count"
      ],
      "metadata": {
        "id": "cn4Jj32dXxvt"
      },
      "execution_count": null,
      "outputs": []
    },
    {
      "cell_type": "markdown",
      "source": [
        "# Arrays Two Pointers"
      ],
      "metadata": {
        "id": "_KNKHjSMf6yp"
      }
    },
    {
      "cell_type": "markdown",
      "source": [
        "## 121. Best Time to Buy and Sell Stock"
      ],
      "metadata": {
        "id": "hjEb3_GHf63m"
      }
    },
    {
      "cell_type": "code",
      "source": [
        "class Solution(object):\n",
        "    def maxProfit(self, prices):\n",
        "\n",
        "        maxProf = 0\n",
        "        l=0\n",
        "        r=1\n",
        "        n=len(prices)\n",
        "\n",
        "        while r!=n:\n",
        "            if prices[l] < prices[r]:\n",
        "                prof = prices[r]-prices[l]\n",
        "                maxProf = max(maxProf, prof)\n",
        "\n",
        "            else:\n",
        "                l=r\n",
        "\n",
        "            r+=1\n",
        "\n",
        "        return maxProf"
      ],
      "metadata": {
        "id": "IWwMWTo2f7AM"
      },
      "execution_count": null,
      "outputs": []
    },
    {
      "cell_type": "markdown",
      "source": [
        "## 977. Squares of a Sorted Array"
      ],
      "metadata": {
        "id": "BgaM0P-ICEyy"
      }
    },
    {
      "cell_type": "code",
      "source": [
        "class Solution(object):\n",
        "    def sortedSquares(self, nums):\n",
        "        res = deque()\n",
        "        l=0\n",
        "        r=len(nums)-1\n",
        "\n",
        "        while(l<=r):\n",
        "            left, right = abs(nums[l]), abs(nums[r])\n",
        "            if left>right:\n",
        "                res.appendleft(left*left)\n",
        "                l+=1\n",
        "            else:\n",
        "                res.appendleft(right*right)\n",
        "                r-=1\n",
        "\n",
        "        return list(res)"
      ],
      "metadata": {
        "id": "K_vwJHXaCE4A"
      },
      "execution_count": null,
      "outputs": []
    },
    {
      "cell_type": "markdown",
      "source": [
        "## 167. Two Sum II - Input Array Is Sorted"
      ],
      "metadata": {
        "id": "Piqe7LxIXVUI"
      }
    },
    {
      "cell_type": "code",
      "source": [
        "class Solution(object):\n",
        "    def twoSum(self, numbers, target):\n",
        "        n = len(numbers)\n",
        "        i = 0\n",
        "        j = n-1\n",
        "\n",
        "        while(i<j):\n",
        "            nums1 = numbers[i]\n",
        "            nums2 = numbers[j]\n",
        "\n",
        "            if nums1+nums2 == target:\n",
        "                return [i+1, j+1]\n",
        "            elif nums1+nums2 > target:\n",
        "                j-=1\n",
        "            else:\n",
        "                i+=1"
      ],
      "metadata": {
        "id": "ME7PGAWCXVej"
      },
      "execution_count": null,
      "outputs": []
    },
    {
      "cell_type": "markdown",
      "source": [
        "## 15. 3Sum"
      ],
      "metadata": {
        "id": "f9kNeIdTkujA"
      }
    },
    {
      "cell_type": "code",
      "source": [
        "class Solution(object):\n",
        "    def threeSum(self, nums):\n",
        "\n",
        "        res = []\n",
        "\n",
        "        nums.sort()\n",
        "\n",
        "        n = len(nums)\n",
        "\n",
        "        for i in range(n-1):\n",
        "            if i>0:\n",
        "                if nums[i]==nums[i-1]:\n",
        "                    continue\n",
        "            j=i+1\n",
        "            k=n-1\n",
        "            new_target = 0 - nums[i]\n",
        "            while j<k:\n",
        "                if nums[j]+nums[k] == new_target:\n",
        "                    res.append([nums[i], nums[j], nums[k]])\n",
        "                    j+=1\n",
        "                    while j<k and (nums[j]==nums[j-1]):\n",
        "                        j+=1\n",
        "\n",
        "                elif nums[j]+nums[k] > new_target:\n",
        "                    k-=1\n",
        "                else:\n",
        "                    j+=1\n",
        "\n",
        "        return res"
      ],
      "metadata": {
        "id": "IUWu8bhqkvHn"
      },
      "execution_count": null,
      "outputs": []
    },
    {
      "cell_type": "markdown",
      "source": [
        "## 845. Longest Mountain in Array"
      ],
      "metadata": {
        "id": "4dWlKPhzvlGA"
      }
    },
    {
      "cell_type": "code",
      "source": [
        "class Solution(object):\n",
        "    def longestMountain(self, arr):\n",
        "        n = len(arr)\n",
        "\n",
        "        count = 0\n",
        "\n",
        "        for i in range(1, n-1):\n",
        "            if arr[i-1] < arr[i] > arr[i+1]:\n",
        "                l = r = i\n",
        "                while l>0 and arr[l]>arr[l-1]:\n",
        "                    l-=1\n",
        "                while r<(n-1) and arr[r] > arr[r+1]:\n",
        "                    r+=1\n",
        "\n",
        "                count = max(count, r-l+1)\n",
        "\n",
        "        return count"
      ],
      "metadata": {
        "id": "4efN-8R6vlOU"
      },
      "execution_count": null,
      "outputs": []
    },
    {
      "cell_type": "markdown",
      "source": [
        "# Arrays: Sliding Window"
      ],
      "metadata": {
        "id": "PRyUFIeWv21o"
      }
    },
    {
      "cell_type": "markdown",
      "source": [
        "## 219. Contains Duplicate II"
      ],
      "metadata": {
        "id": "vAUJtQKn1UM1"
      }
    },
    {
      "cell_type": "code",
      "source": [
        "class Solution(object):\n",
        "    def containsNearbyDuplicate(self, nums, k):\n",
        "        # Using Set\n",
        "        seen = set()\n",
        "\n",
        "        for i in range(len(nums)):\n",
        "            if nums[i] in seen:\n",
        "                return True\n",
        "            seen.add(nums[i])\n",
        "            if len(seen)>k:\n",
        "                seen.remove(nums[i-k])\n",
        "\n",
        "        return False\n",
        "\n",
        "\n",
        "        # Using Dict\n",
        "        # seen = defaultdict()\n",
        "\n",
        "        # for i in range(len(nums)):\n",
        "        #     if nums[i] in seen and i-seen[nums[i]] <= k:\n",
        "        #         return True\n",
        "        #     seen[nums[i]] = i\n",
        "\n",
        "        # return False"
      ],
      "metadata": {
        "id": "gt1Lcd1Z1Tmx"
      },
      "execution_count": null,
      "outputs": []
    },
    {
      "cell_type": "markdown",
      "source": [
        "## 1200. Minimum Absolute Difference"
      ],
      "metadata": {
        "id": "kw59wmebHRiH"
      }
    },
    {
      "cell_type": "code",
      "source": [
        "class Solution(object):\n",
        "    def minimumAbsDifference(self, arr):\n",
        "\n",
        "        arr.sort()\n",
        "\n",
        "        n = len(arr)\n",
        "        minDiff = 1000\n",
        "        res = []\n",
        "\n",
        "        for i in range(n-1):\n",
        "            minDiff = min(minDiff, abs(arr[i]-arr[i+1]))\n",
        "\n",
        "        for i in range(1, n):\n",
        "            if arr[i]-arr[i-1]==minDiff:\n",
        "                res.append([arr[i-1], arr[i]])\n",
        "\n",
        "        return res"
      ],
      "metadata": {
        "id": "74ErZZ7_HRoC"
      },
      "execution_count": null,
      "outputs": []
    },
    {
      "cell_type": "markdown",
      "source": [
        "## 209. Minimum Size Subarray Sum"
      ],
      "metadata": {
        "id": "TZNBBNxSm6Hx"
      }
    },
    {
      "cell_type": "code",
      "source": [
        "class Solution(object):\n",
        "    def minSubArrayLen(self, target, nums):\n",
        "\n",
        "        n = len(nums)\n",
        "        l = 0\n",
        "        total = 0\n",
        "\n",
        "        res = float('inf')\n",
        "\n",
        "        for r in range(n):\n",
        "            total+=nums[r]\n",
        "\n",
        "            while total>=target:\n",
        "                res = min(res, r-l+1)\n",
        "                total-=nums[l]\n",
        "                l+=1\n",
        "\n",
        "        if res == float('inf'):\n",
        "            return 0\n",
        "\n",
        "        return res"
      ],
      "metadata": {
        "id": "MDM0Un7dm6QE"
      },
      "execution_count": null,
      "outputs": []
    },
    {
      "cell_type": "markdown",
      "source": [
        "# Bit Manipulation"
      ],
      "metadata": {
        "id": "SG1yUOZKqHlw"
      }
    },
    {
      "cell_type": "markdown",
      "source": [
        "## 136. Single Number"
      ],
      "metadata": {
        "id": "wqJo1XS1qHtz"
      }
    },
    {
      "cell_type": "code",
      "source": [
        "class Solution(object):\n",
        "    def singleNumber(self, nums):\n",
        "\n",
        "        xor = 0\n",
        "\n",
        "        for num in nums:\n",
        "            xor = xor^num\n",
        "\n",
        "        return xor"
      ],
      "metadata": {
        "id": "QbE370l0qH4e"
      },
      "execution_count": null,
      "outputs": []
    },
    {
      "cell_type": "markdown",
      "source": [
        "# Dynamic Programming"
      ],
      "metadata": {
        "id": "K_-kPdcjqx_f"
      }
    },
    {
      "cell_type": "markdown",
      "source": [
        "## 322. Coin Change"
      ],
      "metadata": {
        "id": "7ioyBdgPIBPP"
      }
    },
    {
      "cell_type": "code",
      "source": [
        "class Solution(object):\n",
        "    def coinChange(self, coins, amount):\n",
        "\n",
        "        dp = [amount+1]*(amount+1)\n",
        "        dp[0] = 0\n",
        "\n",
        "        for i in range(1, amount+1):\n",
        "            for c in coins:\n",
        "\n",
        "                if i-c >= 0:\n",
        "                    dp[i] = min(dp[i], 1+dp[i-c])\n",
        "\n",
        "        if dp[amount]!=amount+1:\n",
        "            return dp[amount]\n",
        "        return -1"
      ],
      "metadata": {
        "id": "JiSZSj_Uqz6I"
      },
      "execution_count": null,
      "outputs": []
    },
    {
      "cell_type": "markdown",
      "source": [
        "## 70. Climbing Stairs"
      ],
      "metadata": {
        "id": "JseQeJnlMl1u"
      }
    },
    {
      "cell_type": "code",
      "source": [
        "class Solution(object):\n",
        "    def climbStairs(self, n):\n",
        "\n",
        "        if n==1:\n",
        "            return 1\n",
        "        if n==2:\n",
        "            return 2\n",
        "\n",
        "        dp = [0] * (n+1)\n",
        "\n",
        "        dp[0] = 0\n",
        "        dp[1] = 1\n",
        "        dp[2] = 2\n",
        "\n",
        "        for i in range(3, n+1):\n",
        "            dp[i] = dp[i-1] + dp[i-2]\n",
        "\n",
        "        return dp[n]"
      ],
      "metadata": {
        "id": "M3Zkyt85Ml7J"
      },
      "execution_count": null,
      "outputs": []
    },
    {
      "cell_type": "markdown",
      "source": [
        "## 53. Maximum Subarray"
      ],
      "metadata": {
        "id": "LveOHLw6P2Pj"
      }
    },
    {
      "cell_type": "code",
      "source": [
        "class Solution(object):\n",
        "    def maxSubArray(self, nums):\n",
        "        maxSum = nums[0]\n",
        "        currSum = 0\n",
        "\n",
        "        for num in nums:\n",
        "            if currSum < 0:\n",
        "                currSum = 0\n",
        "\n",
        "            currSum+=num\n",
        "            maxSum = max(maxSum, currSum)\n",
        "\n",
        "        return maxSum"
      ],
      "metadata": {
        "id": "ee8EW6csP2V-"
      },
      "execution_count": null,
      "outputs": []
    },
    {
      "cell_type": "markdown",
      "source": [
        "## 338. Counting Bits"
      ],
      "metadata": {
        "id": "9V5cC0RgRjYi"
      }
    },
    {
      "cell_type": "code",
      "source": [
        "class Solution(object):\n",
        "    def countBits(self, n):\n",
        "        dp = [0] * (n+1)\n",
        "\n",
        "        offset = 1\n",
        "\n",
        "        for i in range(1, n+1):\n",
        "            if offset*2==i:\n",
        "                offset = i\n",
        "\n",
        "            dp[i] = 1+dp[i-offset]\n",
        "\n",
        "        return dp"
      ],
      "metadata": {
        "id": "HCa7guE_Ri7x"
      },
      "execution_count": null,
      "outputs": []
    },
    {
      "cell_type": "markdown",
      "source": [
        "## 303. Range Sum Query - Immutable"
      ],
      "metadata": {
        "id": "zBCrdjHqT_dX"
      }
    },
    {
      "cell_type": "code",
      "source": [
        "# Method 1 [with no DP, takes O(n) but more time]\n",
        "\n",
        "class NumArray(object):\n",
        "\n",
        "    def __init__(self, nums):\n",
        "        self.nums = nums\n",
        "\n",
        "\n",
        "    def sumRange(self, left, right):\n",
        "\n",
        "        return sum(self.nums[left:right+1])\n",
        "\n",
        "\n",
        "\n",
        "# Your NumArray object will be instantiated and called as such:\n",
        "# obj = NumArray(nums)\n",
        "# param_1 = obj.sumRange(left,right)"
      ],
      "metadata": {
        "id": "EhsVuLH0T_wi"
      },
      "execution_count": null,
      "outputs": []
    },
    {
      "cell_type": "code",
      "source": [
        "# Method 2 [Makes more optimized O(n), where runtime is very less]\n",
        "\n",
        "class NumArray(object):\n",
        "\n",
        "    def __init__(self, nums):\n",
        "        self.acc_nums = [0]\n",
        "        for num in nums:\n",
        "            self.acc_nums.append(self.acc_nums[-1]+num)\n",
        "\n",
        "    def sumRange(self, left, right):\n",
        "\n",
        "        return self.acc_nums[right+1] - self.acc_nums[left]\n",
        "\n",
        "\n",
        "\n",
        "# Your NumArray object will be instantiated and called as such:\n",
        "# obj = NumArray(nums)\n",
        "# param_1 = obj.sumRange(left,right)"
      ],
      "metadata": {
        "id": "aRP3GQ63UGz6"
      },
      "execution_count": null,
      "outputs": []
    },
    {
      "cell_type": "markdown",
      "source": [
        "# Linked List"
      ],
      "metadata": {
        "id": "Lb7mSV-kdaU4"
      }
    },
    {
      "cell_type": "markdown",
      "source": [
        "## 876. Middle of the Linked List"
      ],
      "metadata": {
        "id": "UkA7JBHxdeEb"
      }
    },
    {
      "cell_type": "code",
      "source": [
        "class Solution(object):\n",
        "    def middleNode(self, head):\n",
        "        p1 = head\n",
        "        p2 = head\n",
        "\n",
        "        while p2 and p2.next:\n",
        "            p1 = p1.next\n",
        "            p2 = p2.next.next\n",
        "\n",
        "        return p1"
      ],
      "metadata": {
        "id": "h5qVkrDUddTc"
      },
      "execution_count": null,
      "outputs": []
    },
    {
      "cell_type": "markdown",
      "source": [
        "## 141. Linked List Cycle"
      ],
      "metadata": {
        "id": "zxbEM_gjf7L4"
      }
    },
    {
      "cell_type": "code",
      "source": [
        "class Solution(object):\n",
        "    def hasCycle(self, head):\n",
        "        p1 = head\n",
        "        p2 = head\n",
        "\n",
        "        while p2 and p2.next:\n",
        "\n",
        "            p1 = p1.next\n",
        "            p2 = p2.next.next\n",
        "\n",
        "            if p1 == p2:\n",
        "                return True\n",
        "\n",
        "        return False"
      ],
      "metadata": {
        "id": "NoQRhfHlf7UY"
      },
      "execution_count": null,
      "outputs": []
    },
    {
      "cell_type": "markdown",
      "source": [
        "## 206. Reverse Linked List"
      ],
      "metadata": {
        "id": "zyioCdeljmgk"
      }
    },
    {
      "cell_type": "code",
      "source": [
        "class Solution(object):\n",
        "    def reverseList(self, head):\n",
        "        curr = head\n",
        "        prev = None\n",
        "\n",
        "        while curr:\n",
        "            next_pt = curr.next\n",
        "\n",
        "            curr.next = prev\n",
        "\n",
        "            prev = curr\n",
        "            curr = next_pt\n",
        "\n",
        "        head = prev\n",
        "\n",
        "        return head"
      ],
      "metadata": {
        "id": "XAWf-SKzjmn9"
      },
      "execution_count": null,
      "outputs": []
    },
    {
      "cell_type": "markdown",
      "source": [
        "## 203. Remove Linked List Elements"
      ],
      "metadata": {
        "id": "iMsGCN1J9fbh"
      }
    },
    {
      "cell_type": "code",
      "source": [
        "class Solution(object):\n",
        "    def removeElements(self, head, val):\n",
        "\n",
        "        dummy_head = ListNode(-1)\n",
        "        dummy_head.next = head\n",
        "\n",
        "        curr = dummy_head\n",
        "\n",
        "        while curr.next != None:\n",
        "            if curr.next.val == val:\n",
        "                curr.next = curr.next.next\n",
        "            else:\n",
        "                curr  = curr.next\n",
        "\n",
        "        return dummy_head.next"
      ],
      "metadata": {
        "id": "Vym39Wnw9fky"
      },
      "execution_count": null,
      "outputs": []
    },
    {
      "cell_type": "markdown",
      "source": [
        "## 92. Reverse Linked List II"
      ],
      "metadata": {
        "id": "hzeyOg2NuSJa"
      }
    },
    {
      "cell_type": "code",
      "source": [
        "class Solution(object):\n",
        "    def reverseBetween(self, head, left, right):\n",
        "\n",
        "        dummy_head = ListNode(-1)\n",
        "        dummy_head.next = head\n",
        "\n",
        "        left_prev = dummy_head\n",
        "        curr = head\n",
        "\n",
        "        for i in range(left-1):\n",
        "            left_prev = curr\n",
        "            curr = curr.next\n",
        "\n",
        "        prev = None\n",
        "\n",
        "        for i in range(right-left+1):\n",
        "            next_ptr = curr.next\n",
        "            curr.next = prev\n",
        "            prev = curr\n",
        "            curr = next_ptr\n",
        "\n",
        "        left_prev.next.next = curr\n",
        "        left_prev.next = prev\n",
        "\n",
        "        return dummy_head.next"
      ],
      "metadata": {
        "id": "BTkMvoMKuSTB"
      },
      "execution_count": null,
      "outputs": []
    },
    {
      "cell_type": "markdown",
      "source": [
        "## 234. Palindrome Linked List"
      ],
      "metadata": {
        "id": "cICPNjZ4YfPL"
      }
    },
    {
      "cell_type": "code",
      "source": [
        "class Solution(object):\n",
        "    def isPalindrome(self, head):\n",
        "        slow = head\n",
        "        fast = head\n",
        "        left = head\n",
        "\n",
        "        # Identifying Mid\n",
        "\n",
        "        while fast and fast.next:\n",
        "            slow = slow.next\n",
        "            fast = fast.next.next\n",
        "\n",
        "        # Reversing Linked List from Slow\n",
        "\n",
        "        prev = None\n",
        "\n",
        "        while slow!=None:\n",
        "            next_ptr = slow.next\n",
        "\n",
        "            slow.next = prev\n",
        "            prev = slow\n",
        "            slow = next_ptr\n",
        "\n",
        "        right = prev\n",
        "\n",
        "        # Now compare\n",
        "        while right!=None:\n",
        "            if left.val != right.val:\n",
        "                return False\n",
        "            right = right.next\n",
        "            left = left.next\n",
        "\n",
        "        return True"
      ],
      "metadata": {
        "id": "QhaLw7ROYfbb"
      },
      "execution_count": null,
      "outputs": []
    },
    {
      "cell_type": "markdown",
      "source": [
        "## 21. Merge Two Sorted Lists"
      ],
      "metadata": {
        "id": "wYMoyJXBuCut"
      }
    },
    {
      "cell_type": "code",
      "source": [
        "class Solution(object):\n",
        "    def mergeTwoLists(self, list1, list2):\n",
        "        curr = ListNode()\n",
        "        dummy = curr\n",
        "\n",
        "        while list1 and list2:\n",
        "            if list1.val < list2.val:\n",
        "                curr.next = list1\n",
        "                curr = list1\n",
        "                list1 = list1.next\n",
        "            else:\n",
        "                curr.next = list2\n",
        "                curr = list2\n",
        "                list2 = list2.next\n",
        "\n",
        "        if list1 or list2:\n",
        "            curr.next = list1 if list1 else list2\n",
        "\n",
        "        return dummy.next"
      ],
      "metadata": {
        "id": "PVvC0MADuC3A"
      },
      "execution_count": null,
      "outputs": []
    },
    {
      "cell_type": "markdown",
      "source": [
        "# Stacks"
      ],
      "metadata": {
        "id": "mAzUz4R9Hxe2"
      }
    },
    {
      "cell_type": "markdown",
      "source": [
        "## 55. Min Stack"
      ],
      "metadata": {
        "id": "JTBpkPRTHyA8"
      }
    },
    {
      "cell_type": "code",
      "source": [
        "class MinStack(object):\n",
        "\n",
        "    def __init__(self):\n",
        "        self.stack = []\n",
        "\n",
        "\n",
        "    def push(self, val):\n",
        "        \"\"\"\n",
        "        :type val: int\n",
        "        :rtype: None\n",
        "        \"\"\"\n",
        "        if not self.stack:\n",
        "            curr_min = val\n",
        "        else:\n",
        "            curr_min = min(val, self.stack[-1][1])\n",
        "\n",
        "        self.stack.append((val, curr_min))\n",
        "\n",
        "    def pop(self):\n",
        "        \"\"\"\n",
        "        :rtype: None\n",
        "        \"\"\"\n",
        "        return self.stack.pop()\n",
        "\n",
        "\n",
        "    def top(self):\n",
        "        \"\"\"\n",
        "        :rtype: int\n",
        "        \"\"\"\n",
        "        return self.stack[-1][0]\n",
        "\n",
        "\n",
        "    def getMin(self):\n",
        "        \"\"\"\n",
        "        :rtype: int\n",
        "        \"\"\"\n",
        "        return self.stack[-1][1]\n",
        "\n",
        "\n",
        "\n",
        "# Your MinStack object will be instantiated and called as such:\n",
        "# obj = MinStack()\n",
        "# obj.push(val)\n",
        "# obj.pop()\n",
        "# param_3 = obj.top()\n",
        "# param_4 = obj.getMin()"
      ],
      "metadata": {
        "id": "q9xMrtD0HyKG"
      },
      "execution_count": null,
      "outputs": []
    },
    {
      "cell_type": "markdown",
      "source": [
        "## 20. Valid Parentheses"
      ],
      "metadata": {
        "id": "wHVsL1meOvhI"
      }
    },
    {
      "cell_type": "code",
      "source": [
        "class Solution(object):\n",
        "    def isValid(self, s):\n",
        "        stack = []\n",
        "        hashmap = {')': '(',\n",
        "                ']': '[',\n",
        "                '}': '{'}\n",
        "\n",
        "        for brace in s:\n",
        "            if stack and (brace in hashmap and stack[-1] == hashmap[brace]):\n",
        "                stack.pop()\n",
        "            else:\n",
        "                stack.append(brace)\n",
        "\n",
        "        return not stack"
      ],
      "metadata": {
        "id": "y6Jz0ysfOvql"
      },
      "execution_count": null,
      "outputs": []
    },
    {
      "cell_type": "markdown",
      "source": [
        "## 150. Evaluate Reverse Polish Notation"
      ],
      "metadata": {
        "id": "IRpmFhZhhf0o"
      }
    },
    {
      "cell_type": "code",
      "source": [
        "class Solution(object):\n",
        "    def evalRPN(self, tokens):\n",
        "        stack = []\n",
        "        operators = ['+', '-', '*', '/']\n",
        "\n",
        "        for token in tokens:\n",
        "            if token in operators:\n",
        "                num2 = stack.pop()\n",
        "                num1 = stack.pop()\n",
        "                if token == '+':\n",
        "                    stack.append(num1+num2)\n",
        "                elif token == '-':\n",
        "                    stack.append(num1-num2)\n",
        "                elif token == '*':\n",
        "                    stack.append(num1*num2)\n",
        "                elif token == '/':\n",
        "                    stack.append(int(float(num1)/num2))\n",
        "            else:\n",
        "                stack.append(int(token))\n",
        "\n",
        "        return stack.pop()"
      ],
      "metadata": {
        "id": "LNe1QqOJhf-T"
      },
      "execution_count": null,
      "outputs": []
    },
    {
      "cell_type": "markdown",
      "source": [
        "## NaN: Stack Sorting\n",
        "\n",
        "### Given a stack of integers sort them in ascending or descending order\n",
        "### input: [34, 3, 31, 98, 92, 23]\n"
      ],
      "metadata": {
        "id": "rIMQNhQ4jQEL"
      }
    },
    {
      "cell_type": "code",
      "source": [
        "# Descending Order\n",
        "\n",
        "def sortStack(stack):\n",
        "\n",
        "    temp_stack = []\n",
        "\n",
        "    while(stack):\n",
        "      num = stack.pop()\n",
        "\n",
        "      while temp_stack and (temp_stack[-1] < num): # For Ascending change '<' to '>'\n",
        "        stack.append(temp_stack.pop())\n",
        "\n",
        "      temp_stack.append(num)\n",
        "\n",
        "    return temp_stack"
      ],
      "metadata": {
        "id": "OmE90S4mjQWj"
      },
      "execution_count": null,
      "outputs": []
    },
    {
      "cell_type": "markdown",
      "source": [
        "# Queues"
      ],
      "metadata": {
        "id": "Pyo9QdXUBIYO"
      }
    },
    {
      "cell_type": "markdown",
      "source": [
        "## 225. Implement Stack using Queues"
      ],
      "metadata": {
        "id": "a9V_d-NVBIeM"
      }
    },
    {
      "cell_type": "code",
      "source": [
        "class MyStack(object):\n",
        "\n",
        "    def __init__(self):\n",
        "        self.queue = deque()\n",
        "\n",
        "    def push(self, x):\n",
        "        \"\"\"\n",
        "        :type x: int\n",
        "        :rtype: None\n",
        "        \"\"\"\n",
        "        self.queue.append(x)\n",
        "\n",
        "    def pop(self):\n",
        "        \"\"\"\n",
        "        :rtype: int\n",
        "        \"\"\"\n",
        "        for i in range(len(self.queue)-1):\n",
        "            self.push(self.queue.popleft())\n",
        "\n",
        "        return self.queue.popleft()\n",
        "\n",
        "\n",
        "    def top(self):\n",
        "        \"\"\"\n",
        "        :rtype: int\n",
        "        \"\"\"\n",
        "        return self.queue[-1]\n",
        "\n",
        "\n",
        "    def empty(self):\n",
        "        \"\"\"\n",
        "        :rtype: bool\n",
        "        \"\"\"\n",
        "        return len(self.queue) == 0\n",
        "\n",
        "\n",
        "\n",
        "# Your MyStack object will be instantiated and called as such:\n",
        "# obj = MyStack()\n",
        "# obj.push(x)\n",
        "# param_2 = obj.pop()\n",
        "# param_3 = obj.top()\n",
        "# param_4 = obj.empty()"
      ],
      "metadata": {
        "id": "4bNeC4qABIul"
      },
      "execution_count": null,
      "outputs": []
    },
    {
      "cell_type": "markdown",
      "source": [
        "## 2073. Time Needed to Buy Tickets"
      ],
      "metadata": {
        "id": "uYuRdeGdKT1b"
      }
    },
    {
      "cell_type": "code",
      "source": [
        "class Solution(object):\n",
        "    def timeRequiredToBuy(self, tickets, k):\n",
        "\n",
        "        res = 0\n",
        "\n",
        "        for i in range(len(tickets)):\n",
        "            if i<=k:\n",
        "                res += min(tickets[k], tickets[i])\n",
        "            else:\n",
        "                res += min(tickets[k]-1, tickets[i])\n",
        "\n",
        "        return res"
      ],
      "metadata": {
        "id": "8a33-H3mKT87"
      },
      "execution_count": null,
      "outputs": []
    },
    {
      "cell_type": "markdown",
      "source": [
        "## NaN: Reversing the first k elements of a Queue\n",
        "\n",
        "### Input queue: [10, 20, 30, 40, 50, 60, 70, 80, 90, 100]; k = 5\n",
        "### Output: [50, 40, 30, 20, 10, 60, 70, 80, 90, 100]"
      ],
      "metadata": {
        "id": "1nWYdT2sLduv"
      }
    },
    {
      "cell_type": "code",
      "source": [
        "def reverseFirstKElements(queue, k):\n",
        "    stack = []\n",
        "\n",
        "    for i in range(k):\n",
        "      stack.append(queue.popleft())\n",
        "\n",
        "    while stack:\n",
        "      queue.append(stack.pop())\n",
        "\n",
        "    for i in range(len(queue)-k):\n",
        "      queue.append(queue.popleft())\n",
        "\n",
        "    return queue"
      ],
      "metadata": {
        "id": "lfMHls-qP_aq"
      },
      "execution_count": null,
      "outputs": []
    }
  ]
}
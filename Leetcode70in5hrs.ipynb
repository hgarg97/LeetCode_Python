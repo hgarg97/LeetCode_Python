{
  "nbformat": 4,
  "nbformat_minor": 0,
  "metadata": {
    "colab": {
      "provenance": [],
      "authorship_tag": "ABX9TyMqGwoCJh5yHGc6kjVRCj9E",
      "include_colab_link": true
    },
    "kernelspec": {
      "name": "python3",
      "display_name": "Python 3"
    },
    "language_info": {
      "name": "python"
    }
  },
  "cells": [
    {
      "cell_type": "markdown",
      "metadata": {
        "id": "view-in-github",
        "colab_type": "text"
      },
      "source": [
        "<a href=\"https://colab.research.google.com/github/hgarg97/LeetCode_Python/blob/main/Leetcode70in5hrs.ipynb\" target=\"_parent\"><img src=\"https://colab.research.google.com/assets/colab-badge.svg\" alt=\"Open In Colab\"/></a>"
      ]
    },
    {
      "cell_type": "markdown",
      "source": [
        "# 70 Leetcode Problems in 5+ Hours\n",
        "\n",
        "## https://www.youtube.com/watch?v=lvO88XxNAzs"
      ],
      "metadata": {
        "id": "E3WX8i6I4fvs"
      }
    },
    {
      "cell_type": "markdown",
      "source": [
        "# Arrays"
      ],
      "metadata": {
        "id": "om5Y36z56Wbb"
      }
    },
    {
      "cell_type": "markdown",
      "source": [
        "## 217. Contains Duplicate"
      ],
      "metadata": {
        "id": "1uRUQX-u48EL"
      }
    },
    {
      "cell_type": "code",
      "source": [
        "class Solution(object):\n",
        "    def containsDuplicate(self, nums):\n",
        "        num_set = set(nums)\n",
        "\n",
        "        if len(num_set)!=len(nums):\n",
        "            return True\n",
        "\n",
        "        return False"
      ],
      "metadata": {
        "id": "S_CWyOOl48OV"
      },
      "execution_count": null,
      "outputs": []
    },
    {
      "cell_type": "markdown",
      "source": [
        "## 268. Missing Number"
      ],
      "metadata": {
        "id": "jIyBXum948fw"
      }
    },
    {
      "cell_type": "code",
      "source": [
        "class Solution(object):\n",
        "    def missingNumber(self, nums):\n",
        "\n",
        "        n = len(nums)\n",
        "        expected_sum = n*(n+1) // 2\n",
        "\n",
        "        actual_sum = sum(nums)\n",
        "\n",
        "        return expected_sum - actual_sum"
      ],
      "metadata": {
        "id": "ZIkYonWY48pX"
      },
      "execution_count": null,
      "outputs": []
    },
    {
      "cell_type": "markdown",
      "source": [
        "## 448. Find All Numbers Disappeared in an Array"
      ],
      "metadata": {
        "id": "u4jKXDHG48zC"
      }
    },
    {
      "cell_type": "code",
      "source": [
        "class Solution(object):\n",
        "    def findDisappearedNumbers(self, nums):\n",
        "\n",
        "        nums_set = set(nums)\n",
        "        res = []\n",
        "\n",
        "        for i in range(1, len(nums)+1):\n",
        "            if i not in nums_set:\n",
        "                res.append(i)\n",
        "\n",
        "        return res"
      ],
      "metadata": {
        "id": "QraFUbLZ4861"
      },
      "execution_count": null,
      "outputs": []
    },
    {
      "cell_type": "markdown",
      "source": [
        "## 1. Two Sum"
      ],
      "metadata": {
        "id": "5nhfzfxP49GF"
      }
    },
    {
      "cell_type": "code",
      "source": [
        "class Solution(object):\n",
        "    def twoSum(self, nums, target):\n",
        "\n",
        "         hash_set = set()\n",
        "\n",
        "         for i in range(len(nums)):\n",
        "            val = target - nums[i]\n",
        "            if val in hash_set:\n",
        "                return [i, nums.index(val)]\n",
        "            else:\n",
        "                hash_set.add(nums[i])"
      ],
      "metadata": {
        "id": "HNNdVGDO49On"
      },
      "execution_count": null,
      "outputs": []
    },
    {
      "cell_type": "markdown",
      "source": [
        "## 1365. How Many Numbers Are Smaller Than the Current Number"
      ],
      "metadata": {
        "id": "r555p0L64pmY"
      }
    },
    {
      "cell_type": "code",
      "source": [
        "class Solution(object):\n",
        "    def smallerNumbersThanCurrent(self, nums):\n",
        "\n",
        "        sorted_nums = sorted(nums)\n",
        "        res = []\n",
        "\n",
        "        d = {}\n",
        "\n",
        "        for i in range(len(sorted_nums)):\n",
        "            if sorted_nums[i] not in d:\n",
        "                d[sorted_nums[i]] = i\n",
        "\n",
        "        for num in nums:\n",
        "            res.append(d[num])\n",
        "\n",
        "        return res"
      ],
      "metadata": {
        "id": "mGBZ_eFk4oaK"
      },
      "execution_count": null,
      "outputs": []
    },
    {
      "cell_type": "markdown",
      "source": [
        "## 1266. Minimum Time Visiting All Points"
      ],
      "metadata": {
        "id": "_IcirnhdFRHU"
      }
    },
    {
      "cell_type": "code",
      "source": [
        "class Solution(object):\n",
        "    def minTimeToVisitAllPoints(self, points):\n",
        "\n",
        "        n = len(points)\n",
        "        sec = 0\n",
        "\n",
        "        for i in range(n-1):\n",
        "            x1, y1 = points[i]\n",
        "            x2, y2 = points[i+1]\n",
        "\n",
        "            sec += max(abs(y2-y1), abs(x2-x1))\n",
        "\n",
        "        return sec"
      ],
      "metadata": {
        "id": "BmutNDDwFRPN"
      },
      "execution_count": null,
      "outputs": []
    },
    {
      "cell_type": "markdown",
      "source": [
        "## 54. Spiral Matrix"
      ],
      "metadata": {
        "id": "siC1KrmrtWny"
      }
    },
    {
      "cell_type": "code",
      "source": [
        "class Solution(object):\n",
        "    def spiralOrder(self, matrix):\n",
        "        res = []\n",
        "\n",
        "        while matrix:\n",
        "            # 1. Add first row/list of matrix\n",
        "            res+=matrix.pop(0)\n",
        "\n",
        "            # 2. Add last element of all lists in order\n",
        "            if matrix and matrix[0]:\n",
        "                for row in matrix:\n",
        "                    res.append(row.pop(-1))\n",
        "\n",
        "            # 3. Now add the last row in reverse order\n",
        "            if matrix:\n",
        "                res+=matrix.pop()[::-1]\n",
        "\n",
        "            # 4. Append first element of all rows in reverse\n",
        "            if matrix and matrix[0]:\n",
        "                for row in matrix[::-1]:\n",
        "                    res.append(row.pop(0))\n",
        "\n",
        "        return res"
      ],
      "metadata": {
        "id": "BWm587AqtWws"
      },
      "execution_count": null,
      "outputs": []
    }
  ]
}
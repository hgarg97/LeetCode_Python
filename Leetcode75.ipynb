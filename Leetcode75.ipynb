{
  "nbformat": 4,
  "nbformat_minor": 0,
  "metadata": {
    "colab": {
      "provenance": [],
      "authorship_tag": "ABX9TyM1vUW4spehlNzWBCVjeRhd",
      "include_colab_link": true
    },
    "kernelspec": {
      "name": "python3",
      "display_name": "Python 3"
    },
    "language_info": {
      "name": "python"
    }
  },
  "cells": [
    {
      "cell_type": "markdown",
      "metadata": {
        "id": "view-in-github",
        "colab_type": "text"
      },
      "source": [
        "<a href=\"https://colab.research.google.com/github/hgarg97/LeetCode_Python/blob/main/Leetcode75.ipynb\" target=\"_parent\"><img src=\"https://colab.research.google.com/assets/colab-badge.svg\" alt=\"Open In Colab\"/></a>"
      ]
    },
    {
      "cell_type": "markdown",
      "source": [
        "### 1768. Merge Strings Alternately"
      ],
      "metadata": {
        "id": "bS1g4qYaIwmW"
      }
    },
    {
      "cell_type": "code",
      "execution_count": 2,
      "metadata": {
        "id": "9-uD1DH9IKEu"
      },
      "outputs": [],
      "source": [
        "## Method 1 [Alternating Words]\n",
        "\n",
        "class Solution(object):\n",
        "    def mergeAlternately(self, word1, word2):\n",
        "        len1 = len(word1)\n",
        "        len2 = len(word2)\n",
        "\n",
        "        j=0\n",
        "        k=0\n",
        "\n",
        "        merged_len = (len1+len2)\n",
        "\n",
        "        merged = \"\"\n",
        "\n",
        "        for i in range(merged_len):\n",
        "            if(i%2==0):\n",
        "                if(j<len1):\n",
        "                    merged = merged+word1[j]\n",
        "                    j+=1\n",
        "                else:\n",
        "                    merged = merged+word2[k]\n",
        "                    k+=1\n",
        "            else:\n",
        "                if(k<len2):\n",
        "                    merged = merged + word2[k]\n",
        "                    k+=1\n",
        "                else:\n",
        "                    merged=merged+word1[j]\n",
        "                    j+=1\n",
        "\n",
        "        return merged"
      ]
    },
    {
      "cell_type": "code",
      "source": [
        "# Method 2\n",
        "\n",
        "class Solution(object):\n",
        "    def mergeAlternately(self, word1, word2):\n",
        "        len1 = len(word1)\n",
        "        len2 = len(word2)\n",
        "\n",
        "        if len1<=len2:\n",
        "            N = len1\n",
        "        else:\n",
        "            N = len2\n",
        "\n",
        "        merged = ''\n",
        "        i=0\n",
        "\n",
        "        while i<N:\n",
        "            merged = merged + word1[i] + word2[i]\n",
        "            i+=1\n",
        "\n",
        "        if len1<len2:\n",
        "            merged = merged + word2[i:len2]\n",
        "        else:\n",
        "            merged = merged + word1[i:len1]\n",
        "\n",
        "        return merged"
      ],
      "metadata": {
        "id": "buWO-cubKMUk"
      },
      "execution_count": null,
      "outputs": []
    }
  ]
}
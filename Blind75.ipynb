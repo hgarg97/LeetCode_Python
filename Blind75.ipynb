{
  "nbformat": 4,
  "nbformat_minor": 0,
  "metadata": {
    "colab": {
      "provenance": [],
      "authorship_tag": "ABX9TyOSEKKPd1D6UQ4e5jtmb2xn",
      "include_colab_link": true
    },
    "kernelspec": {
      "name": "python3",
      "display_name": "Python 3"
    },
    "language_info": {
      "name": "python"
    }
  },
  "cells": [
    {
      "cell_type": "markdown",
      "metadata": {
        "id": "view-in-github",
        "colab_type": "text"
      },
      "source": [
        "<a href=\"https://colab.research.google.com/github/hgarg97/LeetCode_Python/blob/main/Blind75.ipynb\" target=\"_parent\"><img src=\"https://colab.research.google.com/assets/colab-badge.svg\" alt=\"Open In Colab\"/></a>"
      ]
    },
    {
      "cell_type": "markdown",
      "source": [
        "## 217. Contains Duplicate"
      ],
      "metadata": {
        "id": "MV8sn8upFM7x"
      }
    },
    {
      "cell_type": "code",
      "execution_count": null,
      "metadata": {
        "id": "Fv2ERTC5CPOt"
      },
      "outputs": [],
      "source": [
        "# Method 1 (Brute force) [Sorting the Array and checking]\n",
        "\n",
        "class Solution(object):\n",
        "    def containsDuplicate(self, nums):\n",
        "        n = len(nums)\n",
        "\n",
        "        nums.sort()\n",
        "\n",
        "        for i in range(1, n):\n",
        "            if nums[i]==nums[i-1]:\n",
        "                return True\n",
        "\n",
        "        return False"
      ]
    },
    {
      "cell_type": "code",
      "source": [],
      "metadata": {
        "id": "dH-yUWQUFe_F"
      },
      "execution_count": null,
      "outputs": []
    }
  ]
}
{
  "nbformat": 4,
  "nbformat_minor": 0,
  "metadata": {
    "colab": {
      "provenance": [],
      "authorship_tag": "ABX9TyOD4owRQFq2v2sXXYRPA+PJ",
      "include_colab_link": true
    },
    "kernelspec": {
      "name": "python3",
      "display_name": "Python 3"
    },
    "language_info": {
      "name": "python"
    }
  },
  "cells": [
    {
      "cell_type": "markdown",
      "metadata": {
        "id": "view-in-github",
        "colab_type": "text"
      },
      "source": [
        "<a href=\"https://colab.research.google.com/github/hgarg97/LeetCode_Python/blob/main/Blind75.ipynb\" target=\"_parent\"><img src=\"https://colab.research.google.com/assets/colab-badge.svg\" alt=\"Open In Colab\"/></a>"
      ]
    },
    {
      "cell_type": "markdown",
      "source": [
        "## 217. Contains Duplicate"
      ],
      "metadata": {
        "id": "MV8sn8upFM7x"
      }
    },
    {
      "cell_type": "code",
      "execution_count": null,
      "metadata": {
        "id": "Fv2ERTC5CPOt"
      },
      "outputs": [],
      "source": [
        "# Method 1 (Brute force) [Sorting the Array and checking]\n",
        "\n",
        "class Solution(object):\n",
        "    def containsDuplicate(self, nums):\n",
        "        n = len(nums)\n",
        "\n",
        "        nums.sort()\n",
        "\n",
        "        for i in range(1, n):\n",
        "            if nums[i]==nums[i-1]:\n",
        "                return True\n",
        "\n",
        "        return False"
      ]
    },
    {
      "cell_type": "code",
      "source": [
        "# Method 2 (Set) [Take a set and do set(nums) then compare the length]\n",
        "\n",
        "class Solution(object):\n",
        "    def containsDuplicate(self, nums):\n",
        "        num_set = set(nums)\n",
        "\n",
        "        if len(num_set) != len(nums):\n",
        "            return True\n",
        "\n",
        "        return False"
      ],
      "metadata": {
        "id": "dH-yUWQUFe_F"
      },
      "execution_count": null,
      "outputs": []
    },
    {
      "cell_type": "code",
      "source": [
        "# Method 3 (Set) [Take empty set and then check if the number is in the set if not add the num to the set] [Most Optimized]\n",
        "\n",
        "class Solution(object):\n",
        "    def containsDuplicate(self, nums):\n",
        "        num_set = set()\n",
        "\n",
        "        for num in nums:\n",
        "            if num in num_set:\n",
        "                return True\n",
        "            num_set.add(num)\n",
        "\n",
        "        return False"
      ],
      "metadata": {
        "id": "J-hd3FfvHjz_"
      },
      "execution_count": null,
      "outputs": []
    },
    {
      "cell_type": "markdown",
      "source": [
        "## 242. Valid Anagram"
      ],
      "metadata": {
        "id": "AWz4eR6rogK9"
      }
    },
    {
      "cell_type": "code",
      "source": [
        "# Method 1 [Using Default Dict] [Most Optimized]\n",
        "\n",
        "from collections import defaultdict\n",
        "\n",
        "class Solution(object):\n",
        "    def isAnagram(self, s, t):\n",
        "\n",
        "        len1 = len(s)\n",
        "        len2 = len(t)\n",
        "\n",
        "        if len1!=len2:\n",
        "            return False\n",
        "\n",
        "        dict1 = defaultdict(int)\n",
        "        dict2 = defaultdict(int)\n",
        "\n",
        "        for i in range(len1):\n",
        "            dict1[s[i]] += 1\n",
        "            dict2[t[i]] += 1\n",
        "\n",
        "        return dict1 == dict2"
      ],
      "metadata": {
        "id": "j9l7ThwYKUDU"
      },
      "execution_count": null,
      "outputs": []
    },
    {
      "cell_type": "code",
      "source": [
        "# Method 2 [Using normal dictionaries]\n",
        "\n",
        "class Solution:\n",
        "    def isAnagram(self, s: str, t: str) -> bool:\n",
        "        if len(s) != len(t):\n",
        "            return False\n",
        "\n",
        "        countS, countT = {}, {}\n",
        "\n",
        "        for i in range(len(s)):\n",
        "            countS[s[i]] = 1 + countS.get(s[i], 0)\n",
        "            countT[t[i]] = 1 + countT.get(t[i], 0)\n",
        "        return countS == countT"
      ],
      "metadata": {
        "id": "eG6TR1Lb7iMP"
      },
      "execution_count": null,
      "outputs": []
    },
    {
      "cell_type": "markdown",
      "source": [
        "## 1. Two Sum"
      ],
      "metadata": {
        "id": "Yjxtzr5N3CrB"
      }
    },
    {
      "cell_type": "code",
      "source": [
        "# Method 1 [Using target-nums[i] method]\n",
        "\n",
        "class Solution(object):\n",
        "    def twoSum(self, nums, target):\n",
        "        hashmap = []\n",
        "\n",
        "        for i in range(len(nums)):\n",
        "            diff_val = target-nums[i]\n",
        "\n",
        "            if diff_val in hashmap:\n",
        "                return [i, nums.index(diff_val)]\n",
        "            else:\n",
        "                hashmap.append(nums[i])\n",
        "\n",
        "        return 0"
      ],
      "metadata": {
        "id": "RoR5vVN33C75"
      },
      "execution_count": null,
      "outputs": []
    },
    {
      "cell_type": "markdown",
      "source": [
        "## 49. Group Anagrams"
      ],
      "metadata": {
        "id": "yI-gwwZ33rID"
      }
    },
    {
      "cell_type": "code",
      "source": [
        "# Method 1 [Using Default Dict of list .. use sorted to utilize the sorted word letters as key and then append the original words. With key being unique all the anagrams get added]\n",
        "\n",
        "class Solution(object):\n",
        "\n",
        "\n",
        "    def groupAnagrams(self, strs):\n",
        "\n",
        "        res = defaultdict(list)\n",
        "\n",
        "        for word in strs:\n",
        "            sorted_word = ''.join(sorted(word))\n",
        "            res[sorted_word].append(word)\n",
        "\n",
        "        return list(res.values())"
      ],
      "metadata": {
        "id": "Jog9JQfX34nC"
      },
      "execution_count": null,
      "outputs": []
    },
    {
      "cell_type": "markdown",
      "source": [
        "## 347. Top K Frequent Elements"
      ],
      "metadata": {
        "id": "IS98OTQkGuZO"
      }
    },
    {
      "cell_type": "code",
      "source": [
        "# Method 1 [Creating a empty list (freq) with length = total elements + 1, then appending elements to the count index of the freq list. Lastly running reverse loop and adding entries in the freq list index stopping at k ]\n",
        "\n",
        "class Solution(object):\n",
        "    def topKFrequent(self, nums, k):\n",
        "\n",
        "        count = defaultdict(int)\n",
        "\n",
        "        freq = [[] for i in range(len(nums)+1)]\n",
        "\n",
        "        for num in nums:\n",
        "            count[num] += 1\n",
        "\n",
        "        for n, f in count.items():\n",
        "            freq[f].append(n)\n",
        "\n",
        "        res = []\n",
        "        for i in range(len(freq)-1, 0, -1):\n",
        "            for n in freq[i]:\n",
        "                res.append(n)\n",
        "                if len(res) == k:\n",
        "                    return res"
      ],
      "metadata": {
        "id": "pyffDDAEOZ1j"
      },
      "execution_count": null,
      "outputs": []
    },
    {
      "cell_type": "markdown",
      "source": [
        "## 128. Longest Consecutive Sequence"
      ],
      "metadata": {
        "id": "bh2KvC9xQAa_"
      }
    },
    {
      "cell_type": "code",
      "source": [
        "# Method 1 [Take set and in the loop if the previous number is not in set, then start with the current number and start a while loop checking for the consecutive numbers and store the count]\n",
        "\n",
        "class Solution(object):\n",
        "    def longestConsecutive(self, nums):\n",
        "\n",
        "        if not nums:\n",
        "            return 0\n",
        "\n",
        "        nums_set = set(nums)\n",
        "\n",
        "        count_max = 0\n",
        "\n",
        "        for num in nums:\n",
        "            if num-1 not in nums_set:\n",
        "                curr_ele = num\n",
        "                count = 1\n",
        "                while curr_ele+1 in nums_set:\n",
        "                    count+=1\n",
        "                    curr_ele+=1\n",
        "                count_max = max(count_max, count)\n",
        "\n",
        "        return count_max"
      ],
      "metadata": {
        "id": "IkiUv75uTgZO"
      },
      "execution_count": 1,
      "outputs": []
    },
    {
      "cell_type": "markdown",
      "source": [],
      "metadata": {
        "id": "inS3O0p2UJDp"
      }
    },
    {
      "cell_type": "code",
      "source": [],
      "metadata": {
        "id": "B2x-ztN4T4hE"
      },
      "execution_count": null,
      "outputs": []
    }
  ]
}
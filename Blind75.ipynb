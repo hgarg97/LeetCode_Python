{
  "nbformat": 4,
  "nbformat_minor": 0,
  "metadata": {
    "colab": {
      "provenance": [],
      "authorship_tag": "ABX9TyN0m49ni3NVWSgqz4TpNP37",
      "include_colab_link": true
    },
    "kernelspec": {
      "name": "python3",
      "display_name": "Python 3"
    },
    "language_info": {
      "name": "python"
    }
  },
  "cells": [
    {
      "cell_type": "markdown",
      "metadata": {
        "id": "view-in-github",
        "colab_type": "text"
      },
      "source": [
        "<a href=\"https://colab.research.google.com/github/hgarg97/LeetCode_Python/blob/main/Blind75.ipynb\" target=\"_parent\"><img src=\"https://colab.research.google.com/assets/colab-badge.svg\" alt=\"Open In Colab\"/></a>"
      ]
    },
    {
      "cell_type": "markdown",
      "source": [
        "## 217. Contains Duplicate"
      ],
      "metadata": {
        "id": "MV8sn8upFM7x"
      }
    },
    {
      "cell_type": "code",
      "execution_count": null,
      "metadata": {
        "id": "Fv2ERTC5CPOt"
      },
      "outputs": [],
      "source": [
        "# Method 1 (Brute force) [Sorting the Array and checking]\n",
        "\n",
        "class Solution(object):\n",
        "    def containsDuplicate(self, nums):\n",
        "        n = len(nums)\n",
        "\n",
        "        nums.sort()\n",
        "\n",
        "        for i in range(1, n):\n",
        "            if nums[i]==nums[i-1]:\n",
        "                return True\n",
        "\n",
        "        return False"
      ]
    },
    {
      "cell_type": "code",
      "source": [
        "# Method 2 (Set) [Take a set and do set(nums) then compare the length]\n",
        "\n",
        "class Solution(object):\n",
        "    def containsDuplicate(self, nums):\n",
        "        num_set = set(nums)\n",
        "\n",
        "        if len(num_set) != len(nums):\n",
        "            return True\n",
        "\n",
        "        return False"
      ],
      "metadata": {
        "id": "dH-yUWQUFe_F"
      },
      "execution_count": 1,
      "outputs": []
    },
    {
      "cell_type": "code",
      "source": [
        "# Method 3 (Set) [Take empty set and then check if the number is in the set if not add the num to the set] [Most Optimized]\n",
        "\n",
        "class Solution(object):\n",
        "    def containsDuplicate(self, nums):\n",
        "        num_set = set()\n",
        "\n",
        "        for num in nums:\n",
        "            if num in num_set:\n",
        "                return True\n",
        "            num_set.add(num)\n",
        "\n",
        "        return False"
      ],
      "metadata": {
        "id": "J-hd3FfvHjz_"
      },
      "execution_count": 2,
      "outputs": []
    },
    {
      "cell_type": "markdown",
      "source": [
        "## 242. Valid Anagram"
      ],
      "metadata": {
        "id": "AWz4eR6rogK9"
      }
    },
    {
      "cell_type": "code",
      "source": [
        "# Method 1 [Using Default Dict] [Most Optimized]\n",
        "\n",
        "class Solution(object):\n",
        "    def isAnagram(self, s, t):\n",
        "\n",
        "        len1 = len(s)\n",
        "        len2 = len(t)\n",
        "\n",
        "        if len1!=len2:\n",
        "            return False\n",
        "\n",
        "        dict1 = defaultdict(int)\n",
        "        dict2 = defaultdict(int)\n",
        "\n",
        "        for i in range(len1):\n",
        "            dict1[s[i]] += 1\n",
        "            dict2[t[i]] += 1\n",
        "\n",
        "        if dict1 == dict2:\n",
        "            return True\n",
        "\n",
        "        return False"
      ],
      "metadata": {
        "id": "j9l7ThwYKUDU"
      },
      "execution_count": null,
      "outputs": []
    }
  ]
}
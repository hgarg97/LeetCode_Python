{
  "nbformat": 4,
  "nbformat_minor": 0,
  "metadata": {
    "colab": {
      "provenance": [],
      "authorship_tag": "ABX9TyM0eE4JbFV/3eJwWF+aScdU",
      "include_colab_link": true
    },
    "kernelspec": {
      "name": "python3",
      "display_name": "Python 3"
    },
    "language_info": {
      "name": "python"
    }
  },
  "cells": [
    {
      "cell_type": "markdown",
      "metadata": {
        "id": "view-in-github",
        "colab_type": "text"
      },
      "source": [
        "<a href=\"https://colab.research.google.com/github/hgarg97/LeetCode_Python/blob/main/Leetcode_DailyChallenge.ipynb\" target=\"_parent\"><img src=\"https://colab.research.google.com/assets/colab-badge.svg\" alt=\"Open In Colab\"/></a>"
      ]
    },
    {
      "cell_type": "markdown",
      "source": [
        "## 884. Uncommon Words from Two Sentences"
      ],
      "metadata": {
        "id": "gHeUZHCCSCn7"
      }
    },
    {
      "cell_type": "code",
      "execution_count": null,
      "metadata": {
        "id": "w49s4olSR_95"
      },
      "outputs": [],
      "source": [
        "# Method 1 [Take a single dictionary and count number of 1s]\n",
        "\n",
        "class Solution(object):\n",
        "    def uncommonFromSentences(self, s1, s2):\n",
        "\n",
        "        l1 = s1.split()\n",
        "        l2 = s2.split()\n",
        "\n",
        "        res = []\n",
        "\n",
        "        dict1 = defaultdict(int)\n",
        "\n",
        "        for word in l1:\n",
        "            dict1[word] += 1\n",
        "\n",
        "        for word in l2:\n",
        "            dict1[word] += 1\n",
        "\n",
        "        for k, v in dict1.items():\n",
        "            if v == 1:\n",
        "                res.append(k)\n",
        "\n",
        "        return res"
      ]
    },
    {
      "cell_type": "markdown",
      "source": [
        "## 179. Largest Number"
      ],
      "metadata": {
        "id": "mFaKAAzLjrgX"
      }
    },
    {
      "cell_type": "code",
      "source": [
        "# Method 1 [Convert array to string then sort the array using the lexographical comparision of strings]\n",
        "\n",
        "class Solution(object):\n",
        "    def largestNumber(self, nums):\n",
        "\n",
        "        array = list(map(str, nums))\n",
        "\n",
        "        array.sort(key=lambda x:x*10, reverse=True)\n",
        "\n",
        "        if array[0] == \"0\":\n",
        "            return \"0\"\n",
        "\n",
        "        return ''.join(array)"
      ],
      "metadata": {
        "id": "N0c1wYGtUThC"
      },
      "execution_count": null,
      "outputs": []
    },
    {
      "cell_type": "code",
      "source": [
        "print(\"3333333333\" > \"30303030303030303030\") # Key Concept : shows string comparision is done lexographically"
      ],
      "metadata": {
        "colab": {
          "base_uri": "https://localhost:8080/"
        },
        "id": "Gm10KvmJnaZI",
        "outputId": "76df0b61-3274-4cb6-9593-70cac4cffae9"
      },
      "execution_count": null,
      "outputs": [
        {
          "output_type": "stream",
          "name": "stdout",
          "text": [
            "True\n"
          ]
        }
      ]
    },
    {
      "cell_type": "code",
      "source": [
        "# Method 2 [Same concept but using cmp_to_key in sorted : Good New Concept] [Similarly Optimized]\n",
        "\n",
        "class Solution(object):\n",
        "    def largestNumber(self, nums):\n",
        "\n",
        "        for i, n in enumerate(nums):\n",
        "            nums[i] = str(n)\n",
        "\n",
        "        def compare(n1, n2):\n",
        "            if n1+n2 > n2+n1:\n",
        "                return -1\n",
        "            return 1\n",
        "\n",
        "        nums = sorted(nums, key = cmp_to_key(compare))\n",
        "\n",
        "        if nums[0] == \"0\":\n",
        "            return \"0\"\n",
        "\n",
        "        return \"\".join(nums)"
      ],
      "metadata": {
        "id": "951YJDqUngM1"
      },
      "execution_count": null,
      "outputs": []
    },
    {
      "cell_type": "markdown",
      "source": [
        "## 2. Add Two Numbers"
      ],
      "metadata": {
        "id": "HLKUPu_7OO2y"
      }
    },
    {
      "cell_type": "code",
      "source": [
        "# Method 1 [Linked List] [Create a third list, maintain a carry and keep adding the sum for each new node]\n",
        "\n",
        "# Definition for singly-linked list.\n",
        "# class ListNode(object):\n",
        "#     def __init__(self, val=0, next=None):\n",
        "#         self.val = val\n",
        "#         self.next = next\n",
        "\n",
        "class Solution(object):\n",
        "    def addTwoNumbers(self, l1, l2):\n",
        "        \"\"\"\n",
        "        :type l1: ListNode\n",
        "        :type l2: ListNode\n",
        "        :rtype: ListNode\n",
        "        \"\"\"\n",
        "\n",
        "        root = ListNode(0)\n",
        "\n",
        "        head = root\n",
        "\n",
        "        carry = 0\n",
        "\n",
        "        while l1 is not None or l2 is not None or carry!=0:\n",
        "            d1 = l1.val if l1 is not None else 0\n",
        "            d2 = l2.val if l2 is not None else 0\n",
        "\n",
        "            sum = d1+d2+carry\n",
        "            digit = sum % 10\n",
        "            carry = sum // 10\n",
        "\n",
        "            newNode = ListNode(digit)\n",
        "            head.next = newNode\n",
        "            head = head.next\n",
        "\n",
        "            l1 = l1.next if l1 is not None else None\n",
        "            l2 = l2.next if l2 is not None else None\n",
        "\n",
        "        result = root.next\n",
        "        head.next = None\n",
        "\n",
        "        return result"
      ],
      "metadata": {
        "id": "8Zot892IORRl"
      },
      "execution_count": null,
      "outputs": []
    },
    {
      "cell_type": "markdown",
      "source": [
        "## 1352. Product of the Last K Numbers"
      ],
      "metadata": {
        "id": "_mAdjacE2FMy"
      }
    },
    {
      "cell_type": "code",
      "source": [
        "class ProductOfNumbers:\n",
        "\n",
        "    def __init__(self):\n",
        "        self.nums = [1]\n",
        "\n",
        "    def add(self, num: int) -> None:\n",
        "        if num == 0:\n",
        "            self.nums = [1]\n",
        "        else:\n",
        "            self.nums.append(self.nums[-1] * num)\n",
        "\n",
        "\n",
        "    def getProduct(self, k: int) -> int:\n",
        "        if k >= len(self.nums):\n",
        "            return 0\n",
        "\n",
        "        return self.nums[-1] // self.nums[-k-1]\n",
        "\n",
        "\n",
        "\n",
        "# Your ProductOfNumbers object will be instantiated and called as such:\n",
        "# obj = ProductOfNumbers()\n",
        "# obj.add(num)\n",
        "# param_2 = obj.getProduct(k)"
      ],
      "metadata": {
        "id": "EVpeIZ0u2FZn"
      },
      "execution_count": null,
      "outputs": []
    },
    {
      "cell_type": "markdown",
      "source": [
        "## 2375. Construct Smallest Number From DI String"
      ],
      "metadata": {
        "id": "0nC2ZU6fiQM_"
      }
    },
    {
      "cell_type": "code",
      "source": [
        "# Most Optimized Approach by Kiran to use String Manipulation\n",
        "\n",
        "class Solution(object):\n",
        "    def smallestNumber(self, pattern):\n",
        "        n = len(pattern)\n",
        "\n",
        "        ref = \"123456789\"\n",
        "        res = \"1\"\n",
        "\n",
        "        last_pos = -1\n",
        "\n",
        "        for i in range(n):\n",
        "            if pattern[i] == \"I\":\n",
        "                res += ref[i+1]\n",
        "                last_pos = i\n",
        "            else:\n",
        "                res = res[:last_pos+1] + ref[i+1] + res[last_pos+1:]\n",
        "\n",
        "\n",
        "        return res"
      ],
      "metadata": {
        "id": "d8scNva2iQbU"
      },
      "execution_count": null,
      "outputs": []
    },
    {
      "cell_type": "markdown",
      "source": [
        "## 1980. Find Unique Binary String"
      ],
      "metadata": {
        "id": "M2yF0fB5xN5v"
      }
    },
    {
      "cell_type": "code",
      "source": [
        "class Solution:\n",
        "    def findDifferentBinaryString(self, nums: List[str]) -> str:\n",
        "        n = len(nums[0])\n",
        "\n",
        "        ele = [\"0\"]*n\n",
        "        pos = n-1\n",
        "\n",
        "        for i in range(2**n):\n",
        "            ele_str = \"\".join(ele)\n",
        "            if ele_str not in nums:\n",
        "                return ele_str\n",
        "\n",
        "            if ele[pos] == \"0\":\n",
        "                ele[pos] = \"1\"\n",
        "            else:\n",
        "                ele[pos] = \"0\"\n",
        "\n",
        "            if (i-1) % n == 0:\n",
        "                pos = n-1\n",
        "            else:\n",
        "                pos = pos - 1\n",
        "\n",
        "            # print(i, pos, ele)\n",
        "\n",
        "        ele_str = \"\".join(ele)\n",
        "        return ele_str"
      ],
      "metadata": {
        "id": "kTk0r6VnxNTW"
      },
      "execution_count": null,
      "outputs": []
    },
    {
      "cell_type": "markdown",
      "source": [
        "## 1261. Find Elements in a Contaminated Binary Tree"
      ],
      "metadata": {
        "id": "d3erSRU4AjqK"
      }
    },
    {
      "cell_type": "code",
      "source": [
        "# Definition for a binary tree node.\n",
        "# class TreeNode:\n",
        "#     def __init__(self, val=0, left=None, right=None):\n",
        "#         self.val = val\n",
        "#         self.left = left\n",
        "#         self.right = right\n",
        "class FindElements:\n",
        "\n",
        "    def __init__(self, root: Optional[TreeNode]):\n",
        "        self.seen = set()\n",
        "        self.bfs(root)\n",
        "\n",
        "    def bfs(self, root: TreeNode):\n",
        "        queue = [root]\n",
        "        print(queue)\n",
        "        root.val = 0\n",
        "\n",
        "        while queue:\n",
        "            current_node = queue.pop(0)\n",
        "            self.seen.add(current_node.val)\n",
        "\n",
        "            if current_node.left:\n",
        "                current_node.left.val = current_node.val * 2 + 1\n",
        "                queue.append(current_node.left)\n",
        "            if current_node.right:\n",
        "                current_node.right.val = current_node.val * 2 + 2\n",
        "                queue.append(current_node.right)\n",
        "\n",
        "\n",
        "\n",
        "    def find(self, target: int) -> bool:\n",
        "        return target in self.seen\n",
        "\n",
        "\n",
        "\n",
        "# Your FindElements object will be instantiated and called as such:\n",
        "# obj = FindElements(root)\n",
        "# param_1 = obj.find(target)"
      ],
      "metadata": {
        "id": "5U4bqK9XAj2F"
      },
      "execution_count": null,
      "outputs": []
    },
    {
      "cell_type": "markdown",
      "source": [
        "## 2460. Apply Operations to an Array"
      ],
      "metadata": {
        "id": "8my8bPia52eF"
      }
    },
    {
      "cell_type": "code",
      "source": [
        "# Method 1 (Beats 34%)\n",
        "\n",
        "class Solution(object):\n",
        "    def applyOperations(self, nums):\n",
        "        \"\"\"\n",
        "        :type nums: List[int]\n",
        "        :rtype: List[int]\n",
        "        \"\"\"\n",
        "\n",
        "        n = len(nums)\n",
        "        i=0\n",
        "        count_zeroes = 0\n",
        "\n",
        "        while i<n:\n",
        "            if nums[i] == 0:\n",
        "                count_zeroes += 1\n",
        "                i+=1\n",
        "            elif i!=n-1 and nums[i] == nums[i+1]:\n",
        "                nums[i] = nums[i] * 2\n",
        "                nums[i+1] = 0\n",
        "                count_zeroes += 1\n",
        "                i += 2\n",
        "            else:\n",
        "                i+=1\n",
        "\n",
        "        res = []\n",
        "\n",
        "        for i in range(n):\n",
        "            if nums[i] != 0:\n",
        "                res.append(nums[i])\n",
        "\n",
        "        for j in range(count_zeroes):\n",
        "            res.append(0)\n",
        "\n",
        "        return res"
      ],
      "metadata": {
        "id": "Yd4DnxT853UH"
      },
      "execution_count": null,
      "outputs": []
    },
    {
      "cell_type": "code",
      "source": [
        "# Method 2 (Beats 100%) [Most Optimized]\n",
        "\n",
        "class Solution(object):\n",
        "    def applyOperations(self, nums):\n",
        "        \"\"\"\n",
        "        :type nums: List[int]\n",
        "        :rtype: List[int]\n",
        "        \"\"\"\n",
        "\n",
        "        n = len(nums)\n",
        "        i=0\n",
        "        j = n-1\n",
        "        count_zeroes = 0\n",
        "        res = [0] * n\n",
        "        k=0\n",
        "\n",
        "        while k<n:\n",
        "            if nums[k] == 0:\n",
        "                j-=1\n",
        "                k+=1\n",
        "            elif k!=n-1 and nums[k] == nums[k+1]:\n",
        "                res[i] = nums[k] * 2\n",
        "                i+=1\n",
        "                j-=1\n",
        "                k+=2\n",
        "            else:\n",
        "                res[i] = nums[k]\n",
        "                i+=1\n",
        "                k+=1\n",
        "\n",
        "        return res"
      ],
      "metadata": {
        "id": "0C6px-1U56YL"
      },
      "execution_count": null,
      "outputs": []
    },
    {
      "cell_type": "markdown",
      "source": [
        "## 2570. Merge Two 2D Arrays by Summing Values"
      ],
      "metadata": {
        "id": "zaiY3SrrzKAt"
      }
    },
    {
      "cell_type": "code",
      "source": [
        "from collections import defaultdict\n",
        "\n",
        "class Solution:\n",
        "    def mergeArrays(self, nums1: List[List[int]], nums2: List[List[int]]) -> List[List[int]]:\n",
        "\n",
        "        id_dict = defaultdict(int)\n",
        "\n",
        "        for num_list in nums1:\n",
        "            id, values = num_list\n",
        "\n",
        "            id_dict[id] += values\n",
        "\n",
        "        for num_list in nums2:\n",
        "            id, values = num_list\n",
        "\n",
        "            id_dict[id] += values\n",
        "\n",
        "        res_arr = []\n",
        "\n",
        "        for id in sorted(id_dict):\n",
        "            res_arr.append([id, id_dict[id]])\n",
        "\n",
        "        return res_arr"
      ],
      "metadata": {
        "id": "VXCRus-UzKKE"
      },
      "execution_count": null,
      "outputs": []
    },
    {
      "cell_type": "markdown",
      "source": [
        "## 2161. Partition Array According to Given Pivot"
      ],
      "metadata": {
        "id": "1QDqUZC3-MP-"
      }
    },
    {
      "cell_type": "code",
      "source": [
        "# Method 1 (Easy Approach)\n",
        "\n",
        "class Solution(object):\n",
        "    def pivotArray(self, nums, pivot):\n",
        "        \"\"\"\n",
        "        :type nums: List[int]\n",
        "        :type pivot: int\n",
        "        :rtype: List[int]\n",
        "        \"\"\"\n",
        "        n = len(nums)\n",
        "\n",
        "        right_arr = []\n",
        "\n",
        "        count_pivot = 0\n",
        "\n",
        "        res_arr = []\n",
        "\n",
        "        for num in nums:\n",
        "            if num<pivot:\n",
        "                res_arr.append(num)\n",
        "            elif num>pivot:\n",
        "                right_arr.append(num)\n",
        "            else:\n",
        "                count_pivot+=1\n",
        "\n",
        "        for i in range(count_pivot):\n",
        "            res_arr.append(pivot)\n",
        "\n",
        "        res_arr = res_arr + right_arr\n",
        "\n",
        "        return res_arr"
      ],
      "metadata": {
        "id": "qWjFIVqB-MaY"
      },
      "execution_count": null,
      "outputs": []
    },
    {
      "cell_type": "markdown",
      "source": [
        "## 1780. Check if Number is a Sum of Powers of Three"
      ],
      "metadata": {
        "id": "YazLnoCGPf05"
      }
    },
    {
      "cell_type": "code",
      "source": [
        "class Solution(object):\n",
        "    def checkPowersOfThree(self, n):\n",
        "        \"\"\"\n",
        "        :type n: int\n",
        "        :rtype: bool\n",
        "        \"\"\"\n",
        "\n",
        "        k = 0\n",
        "        new_n = n\n",
        "        three_arr = []\n",
        "\n",
        "        while(new_n > 0):\n",
        "            new_n = new_n // 3\n",
        "            k+=1\n",
        "\n",
        "        for i in range(k):\n",
        "            three_arr.append(3**i)\n",
        "\n",
        "        print(three_arr)\n",
        "\n",
        "        new_n = n\n",
        "        last = k-1\n",
        "\n",
        "        print(last)\n",
        "\n",
        "        while k>0 and last >= 0:\n",
        "            target = three_arr[last]\n",
        "\n",
        "            if new_n-target == 0:\n",
        "                return True\n",
        "\n",
        "            if new_n-target > 0:\n",
        "                new_n = new_n - target\n",
        "\n",
        "            last = last-1\n",
        "\n",
        "        return False"
      ],
      "metadata": {
        "id": "wKMyUEvdPgBH"
      },
      "execution_count": null,
      "outputs": []
    },
    {
      "cell_type": "markdown",
      "source": [
        "## 2579. Count Total Number of Colored Cells"
      ],
      "metadata": {
        "id": "FHzety20C0Sd"
      }
    },
    {
      "cell_type": "code",
      "source": [
        "class Solution(object):\n",
        "    def coloredCells(self, n):\n",
        "        \"\"\"\n",
        "        :type n: int\n",
        "        :rtype: int\n",
        "        \"\"\"\n",
        "\n",
        "        return 1 + n * (n-1) * 2"
      ],
      "metadata": {
        "id": "Ow1SuWdjC1Ju"
      },
      "execution_count": null,
      "outputs": []
    },
    {
      "cell_type": "markdown",
      "source": [
        "## 2206. Divide Array Into Equal Pairs"
      ],
      "metadata": {
        "id": "GKobb8y7A8Rt"
      }
    },
    {
      "cell_type": "code",
      "source": [
        "from collections import defaultdict\n",
        "\n",
        "class Solution(object):\n",
        "    def divideArray(self, nums):\n",
        "        \"\"\"\n",
        "        :type nums: List[int]\n",
        "        :rtype: bool\n",
        "        \"\"\"\n",
        "\n",
        "        len_nums = len(nums)\n",
        "\n",
        "        if len_nums % 2 != 0:\n",
        "            return False\n",
        "\n",
        "        n = len_nums / 2\n",
        "\n",
        "        count_dict = defaultdict(int)\n",
        "\n",
        "        for num in nums:\n",
        "            count_dict[num] += 1\n",
        "\n",
        "        count = 0\n",
        "\n",
        "        for value in count_dict.values():\n",
        "            if value % 2 != 0:\n",
        "                return False\n",
        "\n",
        "            count += value\n",
        "\n",
        "        if count / 2 == n:\n",
        "            return True\n",
        "\n",
        "        return False"
      ],
      "metadata": {
        "id": "oOGrNdwMA8ZO"
      },
      "execution_count": null,
      "outputs": []
    },
    {
      "cell_type": "markdown",
      "source": [
        "## 781. Rabbits in Forest"
      ],
      "metadata": {
        "id": "0XYlqvDZS2IY"
      }
    },
    {
      "cell_type": "code",
      "source": [
        "class Solution(object):\n",
        "    def numRabbits(self, answers):\n",
        "\n",
        "        count_dict = defaultdict(int)\n",
        "        res = 0\n",
        "\n",
        "        for answer in answers:\n",
        "            count_dict[answer] += 1\n",
        "\n",
        "        for key, value in count_dict.items():\n",
        "            group = key + 1\n",
        "            groups_needed = int(math.ceil(value / float(group)))\n",
        "            res += group * groups_needed\n",
        "\n",
        "        return res"
      ],
      "metadata": {
        "id": "ouRTEgWIS2TC"
      },
      "execution_count": null,
      "outputs": []
    },
    {
      "cell_type": "markdown",
      "source": [
        "## 38. Count and Say"
      ],
      "metadata": {
        "id": "0NmEEYzdLCL6"
      }
    },
    {
      "cell_type": "code",
      "source": [
        "# Very good concept to have a preset list with answers upto 5, then calculating beyond\n",
        "\n",
        "class Solution:\n",
        "    def countAndSay(self, n: int) -> str:\n",
        "        numlist = ['1','11','21','1211','111221']\n",
        "        if(n<=5):\n",
        "            return numlist[n-1]\n",
        "        laststr = numlist[4]\n",
        "        newstr=''\n",
        "        #print(laststr)\n",
        "        for i in range(5,n):\n",
        "            newstr=''\n",
        "            #print('a')\n",
        "            j=0\n",
        "            while(j<len(laststr)):\n",
        "                el = laststr[j]\n",
        "                c=1\n",
        "                k=j+1\n",
        "                #print('b')\n",
        "                while(k<len(laststr) and laststr[k]==el):\n",
        "                    c=c+1\n",
        "                    k=k+1\n",
        "                    #print('c')\n",
        "                c1=c\n",
        "                c=str(c)\n",
        "                newstr = newstr+c+el\n",
        "                #print(newstr)\n",
        "                j=j+c1\n",
        "            laststr = newstr\n",
        "        return newstr"
      ],
      "metadata": {
        "id": "EpKv9vcnS8Ba"
      },
      "execution_count": null,
      "outputs": []
    },
    {
      "cell_type": "markdown",
      "source": [
        "## 2145. Count the Hidden Sequences"
      ],
      "metadata": {
        "id": "jbeZwEk9SIK9"
      }
    },
    {
      "cell_type": "code",
      "source": [
        "# Very good solution, do GPT if don't understand the concept\n",
        "# Basically, they are calculating min and max prefix which is like the min and max possible value of the diff summation, and upper-max_prefix will give us the upper bound\n",
        "# and lower-min_prefix gives us the lower bound, our hidden[0] can be any value between these numbers the count gives us the answer\n",
        "\n",
        "class Solution:\n",
        "    def numberOfArrays(self, differences: List[int], lower: int, upper: int) -> int:\n",
        "        min_prefix = 0\n",
        "        max_prefix = 0\n",
        "        current = 0\n",
        "\n",
        "        for diff in differences:\n",
        "            current += diff\n",
        "            min_prefix = min(min_prefix, current)\n",
        "            max_prefix = max(max_prefix, current)\n",
        "\n",
        "        return max(0, (upper - max_prefix) - (lower - min_prefix) + 1)\n",
        "\n",
        "        return count_seq\n"
      ],
      "metadata": {
        "id": "eUH-xsJ2SK1L"
      },
      "execution_count": null,
      "outputs": []
    },
    {
      "cell_type": "markdown",
      "source": [
        "## 2176. Count Equal and Divisible Pairs in an Array"
      ],
      "metadata": {
        "id": "-HyhYAyYYv3i"
      }
    },
    {
      "cell_type": "code",
      "source": [
        "class Solution:\n",
        "    def countPairs(self, nums: List[int], k: int) -> int:\n",
        "        n = len(nums)\n",
        "\n",
        "        count_p = 0\n",
        "\n",
        "        for i in range(n):\n",
        "            for j in range(i+1, n):\n",
        "                if nums[i] == nums[j] and (i*j) % k == 0:\n",
        "                    count_p+=1\n",
        "\n",
        "        return count_p"
      ],
      "metadata": {
        "id": "vKEINFvhYwDp"
      },
      "execution_count": null,
      "outputs": []
    },
    {
      "cell_type": "markdown",
      "source": [
        "## 1534. Count Good Triplets"
      ],
      "metadata": {
        "id": "FUpgs8AVbu58"
      }
    },
    {
      "cell_type": "code",
      "source": [
        "class Solution:\n",
        "    def countGoodTriplets(self, arr: List[int], a: int, b: int, c: int) -> int:\n",
        "        n = len(arr)\n",
        "        count_c = 0\n",
        "        for i in range(n-2):\n",
        "            for j in range(i+1, n-1):\n",
        "                for k in range(j+1, n):\n",
        "                    if abs(arr[i] - arr[j]) <= a and abs(arr[j] - arr[k]) <= b and abs(arr[i] - arr[k]) <= c:\n",
        "                        count_c+=1\n",
        "\n",
        "        return count_c"
      ],
      "metadata": {
        "id": "Z80702ubbvyy"
      },
      "execution_count": null,
      "outputs": []
    },
    {
      "cell_type": "markdown",
      "source": [
        "## 1922. Count Good Numbers"
      ],
      "metadata": {
        "id": "AYgMDksqjnSJ"
      }
    },
    {
      "cell_type": "code",
      "source": [
        "# PnC Concept\n",
        "\n",
        "class Solution:\n",
        "    def countGoodNumbers(self, n: int) -> int:\n",
        "        MOD = 10**9 + 7\n",
        "        even_positions = (n + 1) // 2\n",
        "        odd_positions = n // 2\n",
        "\n",
        "        return (pow(5, even_positions, MOD) * pow(4, odd_positions, MOD)) % MOD"
      ],
      "metadata": {
        "id": "iBkamkjOjncI"
      },
      "execution_count": null,
      "outputs": []
    },
    {
      "cell_type": "markdown",
      "source": [
        "## 2563. Count the Number of Fair Pairs"
      ],
      "metadata": {
        "id": "rWyEaAlv0XYm"
      }
    },
    {
      "cell_type": "code",
      "source": [
        "# GPTed, see explaination\n",
        "# Method 1 : 2 Pointers\n",
        "\n",
        "class Solution:\n",
        "    def countFairPairs(self, nums: List[int], lower: int, upper: int) -> int:\n",
        "        nums.sort()\n",
        "        return self.lower_bound(nums, upper + 1) - self.lower_bound(nums, lower)\n",
        "\n",
        "    # Calculate the number of pairs with sum less than `value`.\n",
        "    def lower_bound(self, nums: List[int], value: int) -> int:\n",
        "        left = 0\n",
        "        right = len(nums) - 1\n",
        "        result = 0\n",
        "        while left < right:\n",
        "            sum = nums[left] + nums[right]\n",
        "            # If sum is less than value, add the size of window to result and move to the\n",
        "            # next index.\n",
        "            if sum < value:\n",
        "                result += right - left\n",
        "                left += 1\n",
        "            else:\n",
        "                # Otherwise, shift the right pointer backwards, until we get a valid window.\n",
        "                right -= 1\n",
        "        return result"
      ],
      "metadata": {
        "id": "h859KwIs0Xki"
      },
      "execution_count": null,
      "outputs": []
    },
    {
      "cell_type": "code",
      "source": [
        "# GPTed, see explaination\n",
        "# Method 2 : Binary Search\n",
        "\n",
        "class Solution:\n",
        "    def lower_bound(self, nums, low, high, element):\n",
        "        while low <= high:\n",
        "            mid = low + ((high - low) // 2)\n",
        "            if nums[mid] >= element:\n",
        "                high = mid - 1\n",
        "            else:\n",
        "                low = mid + 1\n",
        "        return low\n",
        "\n",
        "    def countFairPairs(self, nums, lower, upper):\n",
        "        nums.sort()\n",
        "        ans = 0\n",
        "        for i in range(len(nums)):\n",
        "            # Assume we have picked nums[i] as the first pair element.\n",
        "\n",
        "            # `low` indicates the number of possible pairs with sum < lower.\n",
        "            low = self.lower_bound(nums, i + 1, len(nums) - 1, lower - nums[i])\n",
        "\n",
        "            # `high` indicates the number of possible pairs with sum <= upper.\n",
        "            high = self.lower_bound(\n",
        "                nums, i + 1, len(nums) - 1, upper - nums[i] + 1\n",
        "            )\n",
        "\n",
        "            # Their difference gives the number of elements with sum in the\n",
        "            # given range.\n",
        "            ans += high - low\n",
        "\n",
        "        return ans"
      ],
      "metadata": {
        "id": "9TnjGMWI02av"
      },
      "execution_count": null,
      "outputs": []
    },
    {
      "cell_type": "markdown",
      "source": [
        "## 1399. Count Largest Group\n"
      ],
      "metadata": {
        "id": "7IZ-Mep2ax_X"
      }
    },
    {
      "cell_type": "code",
      "source": [
        "# Taking a counter for the sum of digits, and calculating the max values counter, and returning count of all the values = maxVal\n",
        "\n",
        "from collections import Counter\n",
        "\n",
        "class Solution:\n",
        "    def countLargestGroup(self, n: int) -> int:\n",
        "        hash_map = Counter()\n",
        "\n",
        "        for i in range(1, n + 1):\n",
        "            key = sum(int(x) for x in str(i))\n",
        "            hash_map[key] += 1\n",
        "\n",
        "        maxVal = max(hash_map.values())\n",
        "        count = sum(1 for v in hash_map.values() if v == maxVal)\n",
        "\n",
        "        return count"
      ],
      "metadata": {
        "id": "X5vlpOvuayIK"
      },
      "execution_count": null,
      "outputs": []
    },
    {
      "cell_type": "markdown",
      "source": [
        "## 2799. Count Complete Subarrays in an Array"
      ],
      "metadata": {
        "id": "nq9HugeOewlX"
      }
    },
    {
      "cell_type": "code",
      "source": [
        "# We do sliding window, and keeping a counter of the frequency and deleting the entry when zero\n",
        "# Seen, good solution\n",
        "# https://www.youtube.com/watch?v=9FnaRWpzGC8&t=72s\n",
        "\n",
        "class Solution(object):\n",
        "    def countCompleteSubarrays(self, nums):\n",
        "        \"\"\"\n",
        "        :type nums: List[int]\n",
        "        :rtype: int\n",
        "        \"\"\"\n",
        "\n",
        "        n = len(nums)\n",
        "        res = 0\n",
        "        count_dict = defaultdict(int)\n",
        "\n",
        "        n_unique = len(set(nums))\n",
        "\n",
        "        left = 0\n",
        "\n",
        "        for right in range(n):\n",
        "            count_dict[nums[right]] += 1\n",
        "\n",
        "            while(len(count_dict)==n_unique):\n",
        "                res+=n-right\n",
        "                count_dict[nums[left]] -= 1\n",
        "                if count_dict[nums[left]] == 0:\n",
        "                    del count_dict[nums[left]]\n",
        "                left+=1\n",
        "\n",
        "        return res"
      ],
      "metadata": {
        "id": "GKS-1vFYewtF"
      },
      "execution_count": 1,
      "outputs": []
    },
    {
      "cell_type": "markdown",
      "source": [
        "## 2845. Count of Interesting Subarrays"
      ],
      "metadata": {
        "id": "6R3UMFmUMADl"
      }
    },
    {
      "cell_type": "code",
      "source": [
        "# The code counts the number of subarrays where the number of elements satisfying nums[i] % modulo == k also satisfies cnt % modulo == k, by tracking prefix counts modulo modulo and using a hashmap to efficiently count valid matches.\n",
        "# https://www.youtube.com/watch?v=1LrN9L0rndw\n",
        "\n",
        "class Solution(object):\n",
        "    def countInterestingSubarrays(self, nums, modulo, k):\n",
        "        prefix_count = 0\n",
        "        freq = defaultdict(int)\n",
        "        freq[0] = 1\n",
        "        res = 0\n",
        "\n",
        "        for num in nums:\n",
        "            if num % modulo == k:\n",
        "                prefix_count+=1\n",
        "\n",
        "            target = (prefix_count - k) % modulo\n",
        "            res+=freq[target]\n",
        "\n",
        "            freq[prefix_count % modulo] += 1\n",
        "\n",
        "        return res\n",
        ""
      ],
      "metadata": {
        "id": "CpfZ9HmHMAz_"
      },
      "execution_count": null,
      "outputs": []
    }
  ]
}
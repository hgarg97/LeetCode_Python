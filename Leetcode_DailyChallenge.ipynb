{
  "nbformat": 4,
  "nbformat_minor": 0,
  "metadata": {
    "colab": {
      "provenance": [],
      "authorship_tag": "ABX9TyM1aeHB3uPaEjJyZu7GJL2O",
      "include_colab_link": true
    },
    "kernelspec": {
      "name": "python3",
      "display_name": "Python 3"
    },
    "language_info": {
      "name": "python"
    }
  },
  "cells": [
    {
      "cell_type": "markdown",
      "metadata": {
        "id": "view-in-github",
        "colab_type": "text"
      },
      "source": [
        "<a href=\"https://colab.research.google.com/github/hgarg97/LeetCode_Python/blob/main/Leetcode_DailyChallenge.ipynb\" target=\"_parent\"><img src=\"https://colab.research.google.com/assets/colab-badge.svg\" alt=\"Open In Colab\"/></a>"
      ]
    },
    {
      "cell_type": "markdown",
      "source": [
        "## 884. Uncommon Words from Two Sentences"
      ],
      "metadata": {
        "id": "gHeUZHCCSCn7"
      }
    },
    {
      "cell_type": "code",
      "execution_count": 1,
      "metadata": {
        "id": "w49s4olSR_95"
      },
      "outputs": [],
      "source": [
        "# Method 1 [Take a single dictionary and count number of 1s]\n",
        "\n",
        "class Solution(object):\n",
        "    def uncommonFromSentences(self, s1, s2):\n",
        "\n",
        "        l1 = s1.split()\n",
        "        l2 = s2.split()\n",
        "\n",
        "        res = []\n",
        "\n",
        "        dict1 = defaultdict(int)\n",
        "\n",
        "        for word in l1:\n",
        "            dict1[word] += 1\n",
        "\n",
        "        for word in l2:\n",
        "            dict1[word] += 1\n",
        "\n",
        "        for k, v in dict1.items():\n",
        "            if v == 1:\n",
        "                res.append(k)\n",
        "\n",
        "        return res"
      ]
    },
    {
      "cell_type": "code",
      "source": [],
      "metadata": {
        "id": "N0c1wYGtUThC"
      },
      "execution_count": null,
      "outputs": []
    }
  ]
}
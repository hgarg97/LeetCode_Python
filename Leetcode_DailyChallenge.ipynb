{
  "nbformat": 4,
  "nbformat_minor": 0,
  "metadata": {
    "colab": {
      "provenance": [],
      "authorship_tag": "ABX9TyOviwpKY1qE2KNKYy+z6Ghy",
      "include_colab_link": true
    },
    "kernelspec": {
      "name": "python3",
      "display_name": "Python 3"
    },
    "language_info": {
      "name": "python"
    }
  },
  "cells": [
    {
      "cell_type": "markdown",
      "metadata": {
        "id": "view-in-github",
        "colab_type": "text"
      },
      "source": [
        "<a href=\"https://colab.research.google.com/github/hgarg97/LeetCode_Python/blob/main/Leetcode_DailyChallenge.ipynb\" target=\"_parent\"><img src=\"https://colab.research.google.com/assets/colab-badge.svg\" alt=\"Open In Colab\"/></a>"
      ]
    },
    {
      "cell_type": "markdown",
      "source": [
        "## 884. Uncommon Words from Two Sentences"
      ],
      "metadata": {
        "id": "gHeUZHCCSCn7"
      }
    },
    {
      "cell_type": "code",
      "execution_count": null,
      "metadata": {
        "id": "w49s4olSR_95"
      },
      "outputs": [],
      "source": [
        "# Method 1 [Take a single dictionary and count number of 1s]\n",
        "\n",
        "class Solution(object):\n",
        "    def uncommonFromSentences(self, s1, s2):\n",
        "\n",
        "        l1 = s1.split()\n",
        "        l2 = s2.split()\n",
        "\n",
        "        res = []\n",
        "\n",
        "        dict1 = defaultdict(int)\n",
        "\n",
        "        for word in l1:\n",
        "            dict1[word] += 1\n",
        "\n",
        "        for word in l2:\n",
        "            dict1[word] += 1\n",
        "\n",
        "        for k, v in dict1.items():\n",
        "            if v == 1:\n",
        "                res.append(k)\n",
        "\n",
        "        return res"
      ]
    },
    {
      "cell_type": "markdown",
      "source": [
        "## 179. Largest Number"
      ],
      "metadata": {
        "id": "mFaKAAzLjrgX"
      }
    },
    {
      "cell_type": "code",
      "source": [
        "# Method 1 [Convert array to string then sort the array using the lexographical comparision of strings]\n",
        "\n",
        "class Solution(object):\n",
        "    def largestNumber(self, nums):\n",
        "\n",
        "        array = list(map(str, nums))\n",
        "\n",
        "        array.sort(key=lambda x:x*10, reverse=True)\n",
        "\n",
        "        if array[0] == \"0\":\n",
        "            return \"0\"\n",
        "\n",
        "        return ''.join(array)"
      ],
      "metadata": {
        "id": "N0c1wYGtUThC"
      },
      "execution_count": null,
      "outputs": []
    },
    {
      "cell_type": "code",
      "source": [
        "print(\"3333333333\" > \"30303030303030303030\") # Key Concept : shows string comparision is done lexographically"
      ],
      "metadata": {
        "colab": {
          "base_uri": "https://localhost:8080/"
        },
        "id": "Gm10KvmJnaZI",
        "outputId": "76df0b61-3274-4cb6-9593-70cac4cffae9"
      },
      "execution_count": null,
      "outputs": [
        {
          "output_type": "stream",
          "name": "stdout",
          "text": [
            "True\n"
          ]
        }
      ]
    },
    {
      "cell_type": "code",
      "source": [
        "# Method 2 [Same concept but using cmp_to_key in sorted : Good New Concept] [Similarly Optimized]\n",
        "\n",
        "class Solution(object):\n",
        "    def largestNumber(self, nums):\n",
        "\n",
        "        for i, n in enumerate(nums):\n",
        "            nums[i] = str(n)\n",
        "\n",
        "        def compare(n1, n2):\n",
        "            if n1+n2 > n2+n1:\n",
        "                return -1\n",
        "            return 1\n",
        "\n",
        "        nums = sorted(nums, key = cmp_to_key(compare))\n",
        "\n",
        "        if nums[0] == \"0\":\n",
        "            return \"0\"\n",
        "\n",
        "        return \"\".join(nums)"
      ],
      "metadata": {
        "id": "951YJDqUngM1"
      },
      "execution_count": null,
      "outputs": []
    },
    {
      "cell_type": "markdown",
      "source": [
        "## 2. Add Two Numbers"
      ],
      "metadata": {
        "id": "HLKUPu_7OO2y"
      }
    },
    {
      "cell_type": "code",
      "source": [
        "# Method 1 [Linked List] [Create a third list, maintain a carry and keep adding the sum for each new node]\n",
        "\n",
        "# Definition for singly-linked list.\n",
        "# class ListNode(object):\n",
        "#     def __init__(self, val=0, next=None):\n",
        "#         self.val = val\n",
        "#         self.next = next\n",
        "\n",
        "class Solution(object):\n",
        "    def addTwoNumbers(self, l1, l2):\n",
        "        \"\"\"\n",
        "        :type l1: ListNode\n",
        "        :type l2: ListNode\n",
        "        :rtype: ListNode\n",
        "        \"\"\"\n",
        "\n",
        "        root = ListNode(0)\n",
        "\n",
        "        head = root\n",
        "\n",
        "        carry = 0\n",
        "\n",
        "        while l1 is not None or l2 is not None or carry!=0:\n",
        "            d1 = l1.val if l1 is not None else 0\n",
        "            d2 = l2.val if l2 is not None else 0\n",
        "\n",
        "            sum = d1+d2+carry\n",
        "            digit = sum % 10\n",
        "            carry = sum // 10\n",
        "\n",
        "            newNode = ListNode(digit)\n",
        "            head.next = newNode\n",
        "            head = head.next\n",
        "\n",
        "            l1 = l1.next if l1 is not None else None\n",
        "            l2 = l2.next if l2 is not None else None\n",
        "\n",
        "        result = root.next\n",
        "        head.next = None\n",
        "\n",
        "        return result"
      ],
      "metadata": {
        "id": "8Zot892IORRl"
      },
      "execution_count": null,
      "outputs": []
    },
    {
      "cell_type": "markdown",
      "source": [
        "## 1352. Product of the Last K Numbers"
      ],
      "metadata": {
        "id": "_mAdjacE2FMy"
      }
    },
    {
      "cell_type": "code",
      "source": [
        "class ProductOfNumbers:\n",
        "\n",
        "    def __init__(self):\n",
        "        self.nums = [1]\n",
        "\n",
        "    def add(self, num: int) -> None:\n",
        "        if num == 0:\n",
        "            self.nums = [1]\n",
        "        else:\n",
        "            self.nums.append(self.nums[-1] * num)\n",
        "\n",
        "\n",
        "    def getProduct(self, k: int) -> int:\n",
        "        if k >= len(self.nums):\n",
        "            return 0\n",
        "\n",
        "        return self.nums[-1] // self.nums[-k-1]\n",
        "\n",
        "\n",
        "\n",
        "# Your ProductOfNumbers object will be instantiated and called as such:\n",
        "# obj = ProductOfNumbers()\n",
        "# obj.add(num)\n",
        "# param_2 = obj.getProduct(k)"
      ],
      "metadata": {
        "id": "EVpeIZ0u2FZn"
      },
      "execution_count": null,
      "outputs": []
    },
    {
      "cell_type": "markdown",
      "source": [
        "## 2375. Construct Smallest Number From DI String"
      ],
      "metadata": {
        "id": "0nC2ZU6fiQM_"
      }
    },
    {
      "cell_type": "code",
      "source": [
        "# Most Optimized Approach by Kiran to use String Manipulation\n",
        "\n",
        "class Solution(object):\n",
        "    def smallestNumber(self, pattern):\n",
        "        n = len(pattern)\n",
        "\n",
        "        ref = \"123456789\"\n",
        "        res = \"1\"\n",
        "\n",
        "        last_pos = -1\n",
        "\n",
        "        for i in range(n):\n",
        "            if pattern[i] == \"I\":\n",
        "                res += ref[i+1]\n",
        "                last_pos = i\n",
        "            else:\n",
        "                res = res[:last_pos+1] + ref[i+1] + res[last_pos+1:]\n",
        "\n",
        "\n",
        "        return res"
      ],
      "metadata": {
        "id": "d8scNva2iQbU"
      },
      "execution_count": null,
      "outputs": []
    },
    {
      "cell_type": "markdown",
      "source": [
        "## 1980. Find Unique Binary String"
      ],
      "metadata": {
        "id": "M2yF0fB5xN5v"
      }
    },
    {
      "cell_type": "code",
      "source": [
        "class Solution:\n",
        "    def findDifferentBinaryString(self, nums: List[str]) -> str:\n",
        "        n = len(nums[0])\n",
        "\n",
        "        ele = [\"0\"]*n\n",
        "        pos = n-1\n",
        "\n",
        "        for i in range(2**n):\n",
        "            ele_str = \"\".join(ele)\n",
        "            if ele_str not in nums:\n",
        "                return ele_str\n",
        "\n",
        "            if ele[pos] == \"0\":\n",
        "                ele[pos] = \"1\"\n",
        "            else:\n",
        "                ele[pos] = \"0\"\n",
        "\n",
        "            if (i-1) % n == 0:\n",
        "                pos = n-1\n",
        "            else:\n",
        "                pos = pos - 1\n",
        "\n",
        "            # print(i, pos, ele)\n",
        "\n",
        "        ele_str = \"\".join(ele)\n",
        "        return ele_str"
      ],
      "metadata": {
        "id": "kTk0r6VnxNTW"
      },
      "execution_count": null,
      "outputs": []
    },
    {
      "cell_type": "markdown",
      "source": [
        "## 1261. Find Elements in a Contaminated Binary Tree"
      ],
      "metadata": {
        "id": "d3erSRU4AjqK"
      }
    },
    {
      "cell_type": "code",
      "source": [
        "# Definition for a binary tree node.\n",
        "# class TreeNode:\n",
        "#     def __init__(self, val=0, left=None, right=None):\n",
        "#         self.val = val\n",
        "#         self.left = left\n",
        "#         self.right = right\n",
        "class FindElements:\n",
        "\n",
        "    def __init__(self, root: Optional[TreeNode]):\n",
        "        self.seen = set()\n",
        "        self.bfs(root)\n",
        "\n",
        "    def bfs(self, root: TreeNode):\n",
        "        queue = [root]\n",
        "        print(queue)\n",
        "        root.val = 0\n",
        "\n",
        "        while queue:\n",
        "            current_node = queue.pop(0)\n",
        "            self.seen.add(current_node.val)\n",
        "\n",
        "            if current_node.left:\n",
        "                current_node.left.val = current_node.val * 2 + 1\n",
        "                queue.append(current_node.left)\n",
        "            if current_node.right:\n",
        "                current_node.right.val = current_node.val * 2 + 2\n",
        "                queue.append(current_node.right)\n",
        "\n",
        "\n",
        "\n",
        "    def find(self, target: int) -> bool:\n",
        "        return target in self.seen\n",
        "\n",
        "\n",
        "\n",
        "# Your FindElements object will be instantiated and called as such:\n",
        "# obj = FindElements(root)\n",
        "# param_1 = obj.find(target)"
      ],
      "metadata": {
        "id": "5U4bqK9XAj2F"
      },
      "execution_count": null,
      "outputs": []
    },
    {
      "cell_type": "markdown",
      "source": [
        "## 2460. Apply Operations to an Array"
      ],
      "metadata": {
        "id": "8my8bPia52eF"
      }
    },
    {
      "cell_type": "code",
      "source": [
        "# Method 1 (Beats 34%)\n",
        "\n",
        "class Solution(object):\n",
        "    def applyOperations(self, nums):\n",
        "        \"\"\"\n",
        "        :type nums: List[int]\n",
        "        :rtype: List[int]\n",
        "        \"\"\"\n",
        "\n",
        "        n = len(nums)\n",
        "        i=0\n",
        "        count_zeroes = 0\n",
        "\n",
        "        while i<n:\n",
        "            if nums[i] == 0:\n",
        "                count_zeroes += 1\n",
        "                i+=1\n",
        "            elif i!=n-1 and nums[i] == nums[i+1]:\n",
        "                nums[i] = nums[i] * 2\n",
        "                nums[i+1] = 0\n",
        "                count_zeroes += 1\n",
        "                i += 2\n",
        "            else:\n",
        "                i+=1\n",
        "\n",
        "        res = []\n",
        "\n",
        "        for i in range(n):\n",
        "            if nums[i] != 0:\n",
        "                res.append(nums[i])\n",
        "\n",
        "        for j in range(count_zeroes):\n",
        "            res.append(0)\n",
        "\n",
        "        return res"
      ],
      "metadata": {
        "id": "Yd4DnxT853UH"
      },
      "execution_count": null,
      "outputs": []
    },
    {
      "cell_type": "code",
      "source": [
        "# Method 2 (Beats 100%) [Most Optimized]\n",
        "\n",
        "class Solution(object):\n",
        "    def applyOperations(self, nums):\n",
        "        \"\"\"\n",
        "        :type nums: List[int]\n",
        "        :rtype: List[int]\n",
        "        \"\"\"\n",
        "\n",
        "        n = len(nums)\n",
        "        i=0\n",
        "        j = n-1\n",
        "        count_zeroes = 0\n",
        "        res = [0] * n\n",
        "        k=0\n",
        "\n",
        "        while k<n:\n",
        "            if nums[k] == 0:\n",
        "                j-=1\n",
        "                k+=1\n",
        "            elif k!=n-1 and nums[k] == nums[k+1]:\n",
        "                res[i] = nums[k] * 2\n",
        "                i+=1\n",
        "                j-=1\n",
        "                k+=2\n",
        "            else:\n",
        "                res[i] = nums[k]\n",
        "                i+=1\n",
        "                k+=1\n",
        "\n",
        "        return res"
      ],
      "metadata": {
        "id": "0C6px-1U56YL"
      },
      "execution_count": null,
      "outputs": []
    },
    {
      "cell_type": "markdown",
      "source": [
        "## 2570. Merge Two 2D Arrays by Summing Values"
      ],
      "metadata": {
        "id": "zaiY3SrrzKAt"
      }
    },
    {
      "cell_type": "code",
      "source": [
        "from collections import defaultdict\n",
        "\n",
        "class Solution:\n",
        "    def mergeArrays(self, nums1: List[List[int]], nums2: List[List[int]]) -> List[List[int]]:\n",
        "\n",
        "        id_dict = defaultdict(int)\n",
        "\n",
        "        for num_list in nums1:\n",
        "            id, values = num_list\n",
        "\n",
        "            id_dict[id] += values\n",
        "\n",
        "        for num_list in nums2:\n",
        "            id, values = num_list\n",
        "\n",
        "            id_dict[id] += values\n",
        "\n",
        "        res_arr = []\n",
        "\n",
        "        for id in sorted(id_dict):\n",
        "            res_arr.append([id, id_dict[id]])\n",
        "\n",
        "        return res_arr"
      ],
      "metadata": {
        "id": "VXCRus-UzKKE"
      },
      "execution_count": null,
      "outputs": []
    },
    {
      "cell_type": "markdown",
      "source": [
        "## 2161. Partition Array According to Given Pivot"
      ],
      "metadata": {
        "id": "1QDqUZC3-MP-"
      }
    },
    {
      "cell_type": "code",
      "source": [
        "# Method 1 (Easy Approach)\n",
        "\n",
        "class Solution(object):\n",
        "    def pivotArray(self, nums, pivot):\n",
        "        \"\"\"\n",
        "        :type nums: List[int]\n",
        "        :type pivot: int\n",
        "        :rtype: List[int]\n",
        "        \"\"\"\n",
        "        n = len(nums)\n",
        "\n",
        "        right_arr = []\n",
        "\n",
        "        count_pivot = 0\n",
        "\n",
        "        res_arr = []\n",
        "\n",
        "        for num in nums:\n",
        "            if num<pivot:\n",
        "                res_arr.append(num)\n",
        "            elif num>pivot:\n",
        "                right_arr.append(num)\n",
        "            else:\n",
        "                count_pivot+=1\n",
        "\n",
        "        for i in range(count_pivot):\n",
        "            res_arr.append(pivot)\n",
        "\n",
        "        res_arr = res_arr + right_arr\n",
        "\n",
        "        return res_arr"
      ],
      "metadata": {
        "id": "qWjFIVqB-MaY"
      },
      "execution_count": null,
      "outputs": []
    },
    {
      "cell_type": "markdown",
      "source": [
        "## 1780. Check if Number is a Sum of Powers of Three"
      ],
      "metadata": {
        "id": "YazLnoCGPf05"
      }
    },
    {
      "cell_type": "code",
      "source": [
        "class Solution(object):\n",
        "    def checkPowersOfThree(self, n):\n",
        "        \"\"\"\n",
        "        :type n: int\n",
        "        :rtype: bool\n",
        "        \"\"\"\n",
        "\n",
        "        k = 0\n",
        "        new_n = n\n",
        "        three_arr = []\n",
        "\n",
        "        while(new_n > 0):\n",
        "            new_n = new_n // 3\n",
        "            k+=1\n",
        "\n",
        "        for i in range(k):\n",
        "            three_arr.append(3**i)\n",
        "\n",
        "        print(three_arr)\n",
        "\n",
        "        new_n = n\n",
        "        last = k-1\n",
        "\n",
        "        print(last)\n",
        "\n",
        "        while k>0 and last >= 0:\n",
        "            target = three_arr[last]\n",
        "\n",
        "            if new_n-target == 0:\n",
        "                return True\n",
        "\n",
        "            if new_n-target > 0:\n",
        "                new_n = new_n - target\n",
        "\n",
        "            last = last-1\n",
        "\n",
        "        return False"
      ],
      "metadata": {
        "id": "wKMyUEvdPgBH"
      },
      "execution_count": null,
      "outputs": []
    },
    {
      "cell_type": "markdown",
      "source": [
        "## 2579. Count Total Number of Colored Cells"
      ],
      "metadata": {
        "id": "FHzety20C0Sd"
      }
    },
    {
      "cell_type": "code",
      "source": [
        "class Solution(object):\n",
        "    def coloredCells(self, n):\n",
        "        \"\"\"\n",
        "        :type n: int\n",
        "        :rtype: int\n",
        "        \"\"\"\n",
        "\n",
        "        return 1 + n * (n-1) * 2"
      ],
      "metadata": {
        "id": "Ow1SuWdjC1Ju"
      },
      "execution_count": null,
      "outputs": []
    }
  ]
}
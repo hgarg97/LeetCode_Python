{
  "nbformat": 4,
  "nbformat_minor": 0,
  "metadata": {
    "colab": {
      "provenance": [],
      "authorship_tag": "ABX9TyPwd/3n4cRHfloUvD0HOF77",
      "include_colab_link": true
    },
    "kernelspec": {
      "name": "python3",
      "display_name": "Python 3"
    },
    "language_info": {
      "name": "python"
    }
  },
  "cells": [
    {
      "cell_type": "markdown",
      "metadata": {
        "id": "view-in-github",
        "colab_type": "text"
      },
      "source": [
        "<a href=\"https://colab.research.google.com/github/hgarg97/LeetCode_Python/blob/main/Leetcode_DailyChallenge.ipynb\" target=\"_parent\"><img src=\"https://colab.research.google.com/assets/colab-badge.svg\" alt=\"Open In Colab\"/></a>"
      ]
    },
    {
      "cell_type": "markdown",
      "source": [
        "## 884. Uncommon Words from Two Sentences"
      ],
      "metadata": {
        "id": "gHeUZHCCSCn7"
      }
    },
    {
      "cell_type": "code",
      "execution_count": null,
      "metadata": {
        "id": "w49s4olSR_95"
      },
      "outputs": [],
      "source": [
        "# Method 1 [Take a single dictionary and count number of 1s]\n",
        "\n",
        "class Solution(object):\n",
        "    def uncommonFromSentences(self, s1, s2):\n",
        "\n",
        "        l1 = s1.split()\n",
        "        l2 = s2.split()\n",
        "\n",
        "        res = []\n",
        "\n",
        "        dict1 = defaultdict(int)\n",
        "\n",
        "        for word in l1:\n",
        "            dict1[word] += 1\n",
        "\n",
        "        for word in l2:\n",
        "            dict1[word] += 1\n",
        "\n",
        "        for k, v in dict1.items():\n",
        "            if v == 1:\n",
        "                res.append(k)\n",
        "\n",
        "        return res"
      ]
    },
    {
      "cell_type": "markdown",
      "source": [
        "## 179. Largest Number"
      ],
      "metadata": {
        "id": "mFaKAAzLjrgX"
      }
    },
    {
      "cell_type": "code",
      "source": [
        "# Method 1 [Convert array to string then sort the array using the lexographical comparision of strings]\n",
        "\n",
        "class Solution(object):\n",
        "    def largestNumber(self, nums):\n",
        "\n",
        "        array = list(map(str, nums))\n",
        "\n",
        "        array.sort(key=lambda x:x*10, reverse=True)\n",
        "\n",
        "        if array[0] == \"0\":\n",
        "            return \"0\"\n",
        "\n",
        "        return ''.join(array)"
      ],
      "metadata": {
        "id": "N0c1wYGtUThC"
      },
      "execution_count": null,
      "outputs": []
    },
    {
      "cell_type": "code",
      "source": [
        "print(\"3333333333\" > \"30303030303030303030\") # Key Concept : shows string comparision is done lexographically"
      ],
      "metadata": {
        "colab": {
          "base_uri": "https://localhost:8080/"
        },
        "id": "Gm10KvmJnaZI",
        "outputId": "76df0b61-3274-4cb6-9593-70cac4cffae9"
      },
      "execution_count": null,
      "outputs": [
        {
          "output_type": "stream",
          "name": "stdout",
          "text": [
            "True\n"
          ]
        }
      ]
    },
    {
      "cell_type": "code",
      "source": [
        "# Method 2 [Same concept but using cmp_to_key in sorted : Good New Concept] [Similarly Optimized]\n",
        "\n",
        "class Solution(object):\n",
        "    def largestNumber(self, nums):\n",
        "\n",
        "        for i, n in enumerate(nums):\n",
        "            nums[i] = str(n)\n",
        "\n",
        "        def compare(n1, n2):\n",
        "            if n1+n2 > n2+n1:\n",
        "                return -1\n",
        "            return 1\n",
        "\n",
        "        nums = sorted(nums, key = cmp_to_key(compare))\n",
        "\n",
        "        if nums[0] == \"0\":\n",
        "            return \"0\"\n",
        "\n",
        "        return \"\".join(nums)"
      ],
      "metadata": {
        "id": "951YJDqUngM1"
      },
      "execution_count": null,
      "outputs": []
    },
    {
      "cell_type": "markdown",
      "source": [
        "## 2. Add Two Numbers"
      ],
      "metadata": {
        "id": "HLKUPu_7OO2y"
      }
    },
    {
      "cell_type": "code",
      "source": [
        "# Method 1 [Linked List] [Create a third list, maintain a carry and keep adding the sum for each new node]\n",
        "\n",
        "# Definition for singly-linked list.\n",
        "# class ListNode(object):\n",
        "#     def __init__(self, val=0, next=None):\n",
        "#         self.val = val\n",
        "#         self.next = next\n",
        "\n",
        "class Solution(object):\n",
        "    def addTwoNumbers(self, l1, l2):\n",
        "        \"\"\"\n",
        "        :type l1: ListNode\n",
        "        :type l2: ListNode\n",
        "        :rtype: ListNode\n",
        "        \"\"\"\n",
        "\n",
        "        root = ListNode(0)\n",
        "\n",
        "        head = root\n",
        "\n",
        "        carry = 0\n",
        "\n",
        "        while l1 is not None or l2 is not None or carry!=0:\n",
        "            d1 = l1.val if l1 is not None else 0\n",
        "            d2 = l2.val if l2 is not None else 0\n",
        "\n",
        "            sum = d1+d2+carry\n",
        "            digit = sum % 10\n",
        "            carry = sum // 10\n",
        "\n",
        "            newNode = ListNode(digit)\n",
        "            head.next = newNode\n",
        "            head = head.next\n",
        "\n",
        "            l1 = l1.next if l1 is not None else None\n",
        "            l2 = l2.next if l2 is not None else None\n",
        "\n",
        "        result = root.next\n",
        "        head.next = None\n",
        "\n",
        "        return result"
      ],
      "metadata": {
        "id": "8Zot892IORRl"
      },
      "execution_count": null,
      "outputs": []
    }
  ]
}